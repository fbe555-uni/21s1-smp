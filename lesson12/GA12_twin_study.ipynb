{
 "cells": [
  {
   "cell_type": "code",
   "execution_count": 1,
   "metadata": {
    "hide_input": false
   },
   "outputs": [],
   "source": [
    "from keyword import iskeyword\n",
    "import numpy as np\n",
    "\n",
    "def show_var(*names):\n",
    "    for name in names:\n",
    "        show(f'{name} = {n(globals()[name], digits=3)}')\n",
    "\n",
    "def is_valid_var_name(name):\n",
    "    return name.isidentifier() and not iskeyword(name)\n",
    "\n",
    "\n",
    "class Table(object):\n",
    "    def __init__(self, data,\n",
    "                 row_label=None, row_categories=None,\n",
    "                 column_label=None, column_categories=None):\n",
    "        self.row_label = row_label\n",
    "        self.row_categories = row_categories\n",
    "        self.column_label = column_label\n",
    "        self.column_categories = column_categories\n",
    "        self._data = np.asarray(data, dtype=object)\n",
    "    \n",
    "    def __getitem__(self, key):\n",
    "        return self._data[key]\n",
    "    \n",
    "    def __setitem__(self, key, item):\n",
    "        self._data[key] = item\n",
    "    \n",
    "    def __call__(self, row_key, column_key):\n",
    "        return self._data[self.row_categories.index(row_key)][self.column_categories.index(column_key)]\n",
    "        \n",
    "        \n",
    "def draw_table(data,\n",
    "               row_label=None, row_categories=None,\n",
    "               column_label=None, column_categories=None,\n",
    "               name=None, frame=False, **kwargs):\n",
    "    if isinstance(data, Table):\n",
    "        row_label = data.row_label\n",
    "        row_categories = data.row_categories\n",
    "        column_label = data.column_label\n",
    "        column_categories = data.column_categories\n",
    "        data = data[:]\n",
    "    \n",
    "    assert len(data) >= 1 and len(data[0]) >= 1\n",
    "    assert name is None or is_valid_var_name(name)\n",
    "    \n",
    "    if 'skip_zeroes' not in kwargs: kwargs['skip_zeroes'] = True\n",
    "    if 'truncate' not in kwargs: kwargs['truncate'] = True\n",
    "        \n",
    "    if name is not None:\n",
    "        globals()[name] = Table(data,\n",
    "                                row_label=row_label, \n",
    "                                row_categories=row_categories,\n",
    "                                column_label=column_label, \n",
    "                                column_categories=column_categories)\n",
    "    \n",
    "    cat_or_label = any([row_label, column_label, \n",
    "                        row_categories, column_categories])\n",
    "    \n",
    "    s = r'\\begin{array}{'\n",
    "    if frame:\n",
    "        s += '|'\n",
    "    if cat_or_label:\n",
    "        s += 'r|'\n",
    "    s += 'c{}'.format('|' if frame else ' ') * len(data[0]) + '} '\n",
    "    if frame:\n",
    "        s += r'\\hline '\n",
    "    if row_categories:\n",
    "        s += r'{\\bf ' + row_label + r' \\backslash ' + column_label + '} & '\n",
    "        for l in column_categories:\n",
    "            s += r'{\\bf ' + str(l) + '}' + ' & '\n",
    "        s = s[:-2] + r' \\\\ \\hline '\n",
    "    for i, row in enumerate(data):\n",
    "        if row_categories:\n",
    "            s += r'{\\bf' + str(row_categories[i]) + '} & '\n",
    "        for e in row:\n",
    "            if parent(e) is RR:\n",
    "                s += e.str(**kwargs)\n",
    "            else:\n",
    "                s += str(e)\n",
    "            s += ' & '\n",
    "        s = s[:-2] + r'\\\\ '\n",
    "        if frame:\n",
    "            s += r'\\hline '\n",
    "    s += r'\\end{array}'\n",
    "    return s"
   ]
  },
  {
   "cell_type": "markdown",
   "metadata": {},
   "source": [
    "##### F21ETSMP Group Assignment 12\n",
    "# Twin Study - Comparison of two data sets"
   ]
  },
  {
   "cell_type": "markdown",
   "metadata": {},
   "source": [
    "In a study we test the lifespan of 10 pairs of twins where one has been smoking and the other has not.\n",
    "### Table 1: \n",
    "{{draw_table([[100, 45], [84, 91], [82, 54], [70, 67], [88, 95], [62, 53], [91, 85], [35, 95], [75, 62], [81, 74]], row_label='no.', row_categories=range(1, 11), column_label='twin', column_categories=['non-smoker', 'smoker'], name='table1')}}  \n",
    "In this assignment, you have to find out what test to perform to compare the two sample sets.You should answer the following questions:"
   ]
  },
  {
   "cell_type": "markdown",
   "metadata": {},
   "source": [
    "## 1)  Estimate the mean and the variance of the population samples."
   ]
  },
  {
   "cell_type": "markdown",
   "metadata": {},
   "source": [
    "The empirical mean and variance can be estimated using the following equations for $n$ observations $\\{x_1, \\dots, x_n\\}$:  \n",
    "$$ \\hat \\mu = \\hat x = \\frac 1 n \\sum_{i=1}^n x_i$$  \n",
    "$$ \\hat \\sigma^2  = \\frac 1 {n-1} \\sum_{i=1}^n {{(x_i-\\hat\\mu)}^2}$$  "
   ]
  },
  {
   "cell_type": "code",
   "execution_count": 2,
   "metadata": {},
   "outputs": [
    {
     "data": {
      "text/html": [
       "<html><script type=\"math/tex; mode=display\">\\newcommand{\\Bold}[1]{\\mathbf{#1}}\\verb|non_smoker_mean|\\phantom{\\verb!x!}\\verb|=|\\phantom{\\verb!x!}\\verb|76.8|</script></html>"
      ],
      "text/latex": [
       "\\begin{math}\n",
       "\\newcommand{\\Bold}[1]{\\mathbf{#1}}\\verb|non_smoker_mean|\\phantom{\\verb!x!}\\verb|=|\\phantom{\\verb!x!}\\verb|76.8|\n",
       "\\end{math}"
      ],
      "text/plain": [
       "'non_smoker_mean = 76.8'"
      ]
     },
     "metadata": {},
     "output_type": "display_data"
    },
    {
     "data": {
      "text/html": [
       "<html><script type=\"math/tex; mode=display\">\\newcommand{\\Bold}[1]{\\mathbf{#1}}\\verb|non_smoker_var|\\phantom{\\verb!x!}\\verb|=|\\phantom{\\verb!x!}\\verb|331.|</script></html>"
      ],
      "text/latex": [
       "\\begin{math}\n",
       "\\newcommand{\\Bold}[1]{\\mathbf{#1}}\\verb|non_smoker_var|\\phantom{\\verb!x!}\\verb|=|\\phantom{\\verb!x!}\\verb|331.|\n",
       "\\end{math}"
      ],
      "text/plain": [
       "'non_smoker_var = 331.'"
      ]
     },
     "metadata": {},
     "output_type": "display_data"
    },
    {
     "data": {
      "text/html": [
       "<html><script type=\"math/tex; mode=display\">\\newcommand{\\Bold}[1]{\\mathbf{#1}}\\verb|smoker_mean|\\phantom{\\verb!x!}\\verb|=|\\phantom{\\verb!x!}\\verb|72.1|</script></html>"
      ],
      "text/latex": [
       "\\begin{math}\n",
       "\\newcommand{\\Bold}[1]{\\mathbf{#1}}\\verb|smoker_mean|\\phantom{\\verb!x!}\\verb|=|\\phantom{\\verb!x!}\\verb|72.1|\n",
       "\\end{math}"
      ],
      "text/plain": [
       "'smoker_mean = 72.1'"
      ]
     },
     "metadata": {},
     "output_type": "display_data"
    },
    {
     "data": {
      "text/html": [
       "<html><script type=\"math/tex; mode=display\">\\newcommand{\\Bold}[1]{\\mathbf{#1}}\\verb|smoker_var|\\phantom{\\verb!x!}\\verb|=|\\phantom{\\verb!x!}\\verb|348.|</script></html>"
      ],
      "text/latex": [
       "\\begin{math}\n",
       "\\newcommand{\\Bold}[1]{\\mathbf{#1}}\\verb|smoker_var|\\phantom{\\verb!x!}\\verb|=|\\phantom{\\verb!x!}\\verb|348.|\n",
       "\\end{math}"
      ],
      "text/plain": [
       "'smoker_var = 348.'"
      ]
     },
     "metadata": {},
     "output_type": "display_data"
    }
   ],
   "source": [
    "def emp_mean_and_var(data):\n",
    "    n = len(data)\n",
    "    E = sum(data)\n",
    "    mean = E/n\n",
    "    var = sum([(e-mean)^2 for e in data])/(n-1)\n",
    "    return mean, var\n",
    "\n",
    "non_smoker_mean, non_smoker_var = emp_mean_and_var(table1[:,0]);\n",
    "smoker_mean, smoker_var = emp_mean_and_var(table1[:,1]); \n",
    "show_var('non_smoker_mean', 'non_smoker_var', 'smoker_mean', 'smoker_var')"
   ]
  },
  {
   "cell_type": "markdown",
   "metadata": {},
   "source": [
    "## 2) Find the mean of difference of the population samples"
   ]
  },
  {
   "cell_type": "markdown",
   "metadata": {},
   "source": [
    "Using the same method as above the mean and variance of the difference ($\\delta$) is calculated:"
   ]
  },
  {
   "cell_type": "code",
   "execution_count": 3,
   "metadata": {},
   "outputs": [
    {
     "data": {
      "text/html": [
       "<html><script type=\"math/tex; mode=display\">\\newcommand{\\Bold}[1]{\\mathbf{#1}}\\verb|diff_mean|\\phantom{\\verb!x!}\\verb|=|\\phantom{\\verb!x!}\\verb|-4.70|</script></html>"
      ],
      "text/latex": [
       "\\begin{math}\n",
       "\\newcommand{\\Bold}[1]{\\mathbf{#1}}\\verb|diff_mean|\\phantom{\\verb!x!}\\verb|=|\\phantom{\\verb!x!}\\verb|-4.70|\n",
       "\\end{math}"
      ],
      "text/plain": [
       "'diff_mean = -4.70'"
      ]
     },
     "metadata": {},
     "output_type": "display_data"
    },
    {
     "data": {
      "text/html": [
       "<html><script type=\"math/tex; mode=display\">\\newcommand{\\Bold}[1]{\\mathbf{#1}}\\verb|diff_var|\\phantom{\\verb!x!}\\verb|=|\\phantom{\\verb!x!}\\verb|848.|</script></html>"
      ],
      "text/latex": [
       "\\begin{math}\n",
       "\\newcommand{\\Bold}[1]{\\mathbf{#1}}\\verb|diff_var|\\phantom{\\verb!x!}\\verb|=|\\phantom{\\verb!x!}\\verb|848.|\n",
       "\\end{math}"
      ],
      "text/plain": [
       "'diff_var = 848.'"
      ]
     },
     "metadata": {},
     "output_type": "display_data"
    }
   ],
   "source": [
    "diff_mean, diff_var = emp_mean_and_var([e[1]-e[0] for e in table1[:]])\n",
    "show_var('diff_mean', 'diff_var')"
   ]
  },
  {
   "cell_type": "markdown",
   "metadata": {},
   "source": [
    "## 3) Formulate the null-hypothesis to test wether the two samples comes from populationswith the same mean"
   ]
  },
  {
   "cell_type": "markdown",
   "metadata": {},
   "source": [
    "To test whether the two populations have the same mean, when looking at the difference $d_i = x_{2i} - x_{1i}$, the null hypothesis is that the difference $\\delta$ is zero:  \n",
    "$\\text{H0: } \\delta = 0$ "
   ]
  },
  {
   "cell_type": "markdown",
   "metadata": {},
   "source": [
    "## 4) Formulate the alternative hypothesis to the NULL hypothesis"
   ]
  },
  {
   "cell_type": "markdown",
   "metadata": {},
   "source": [
    "Which leads to the alternative hypothesis that delta is different from zero:  \n",
    "$\\text{H1: } \\delta \\ne 0$ "
   ]
  },
  {
   "cell_type": "markdown",
   "metadata": {},
   "source": [
    "## 5) What statistical test would would you perform to test the hypothesis?"
   ]
  },
  {
   "cell_type": "markdown",
   "metadata": {},
   "source": [
    "Since the true variances of the populations are unknown, a paired t-test is needed to test the hypothesis"
   ]
  },
  {
   "cell_type": "markdown",
   "metadata": {},
   "source": [
    "## 6)  Calculate the test-statistics"
   ]
  },
  {
   "cell_type": "markdown",
   "metadata": {},
   "source": [
    "Here the following formulas are used:  \n",
    "$$ t = \\frac {\\hat\\delta - \\delta_0} {\\hat\\sigma \\mathbin/ \\sqrt n} \\sim \\mathcal t(n-1)$$  \n",
    "$$ 𝑝𝑣𝑎𝑙=2 \\left(1 − \\mathcal{𝑡}_{𝑐𝑑𝑓}\\left(|𝑡|,𝑛−1\\right) \\right)$$"
   ]
  },
  {
   "cell_type": "code",
   "execution_count": 12,
   "metadata": {},
   "outputs": [
    {
     "data": {
      "text/html": [
       "<html><script type=\"math/tex; mode=display\">\\newcommand{\\Bold}[1]{\\mathbf{#1}}\\verb|t|\\phantom{\\verb!x!}\\verb|=|\\phantom{\\verb!x!}\\verb|-0.510|</script></html>"
      ],
      "text/latex": [
       "\\begin{math}\n",
       "\\newcommand{\\Bold}[1]{\\mathbf{#1}}\\verb|t|\\phantom{\\verb!x!}\\verb|=|\\phantom{\\verb!x!}\\verb|-0.510|\n",
       "\\end{math}"
      ],
      "text/plain": [
       "'t = -0.510'"
      ]
     },
     "metadata": {},
     "output_type": "display_data"
    },
    {
     "data": {
      "text/html": [
       "<html><script type=\"math/tex; mode=display\">\\newcommand{\\Bold}[1]{\\mathbf{#1}}\\verb|pval|\\phantom{\\verb!x!}\\verb|=|\\phantom{\\verb!x!}\\verb|0.622|</script></html>"
      ],
      "text/latex": [
       "\\begin{math}\n",
       "\\newcommand{\\Bold}[1]{\\mathbf{#1}}\\verb|pval|\\phantom{\\verb!x!}\\verb|=|\\phantom{\\verb!x!}\\verb|0.622|\n",
       "\\end{math}"
      ],
      "text/plain": [
       "'pval = 0.622'"
      ]
     },
     "metadata": {},
     "output_type": "display_data"
    }
   ],
   "source": [
    "import scipy.stats\n",
    "n_ = len(table1[:])\n",
    "t = diff_mean/(sqrt(diff_var)/sqrt(n_))\n",
    "pval = 2*(1-scipy.stats.t.cdf(float(abs(t)), int(n_-1)))\n",
    "show_var('t', 'pval')"
   ]
  },
  {
   "cell_type": "code",
   "execution_count": null,
   "metadata": {},
   "outputs": [],
   "source": []
  }
 ],
 "metadata": {
  "hide_input": false,
  "kernelspec": {
   "display_name": "SageMath 9.0",
   "language": "sage",
   "name": "sagemath"
  },
  "language_info": {
   "codemirror_mode": {
    "name": "ipython",
    "version": 3
   },
   "file_extension": ".py",
   "mimetype": "text/x-python",
   "name": "python",
   "nbconvert_exporter": "python",
   "pygments_lexer": "ipython3",
   "version": "3.8.5"
  },
  "varInspector": {
   "cols": {
    "lenName": 16,
    "lenType": 16,
    "lenVar": 40
   },
   "kernels_config": {
    "python": {
     "delete_cmd_postfix": "",
     "delete_cmd_prefix": "del ",
     "library": "var_list.py",
     "varRefreshCmd": "print(var_dic_list())"
    },
    "r": {
     "delete_cmd_postfix": ") ",
     "delete_cmd_prefix": "rm(",
     "library": "var_list.r",
     "varRefreshCmd": "cat(var_dic_list()) "
    }
   },
   "types_to_exclude": [
    "module",
    "function",
    "builtin_function_or_method",
    "instance",
    "_Feature"
   ],
   "window_display": false
  }
 },
 "nbformat": 4,
 "nbformat_minor": 4
}
