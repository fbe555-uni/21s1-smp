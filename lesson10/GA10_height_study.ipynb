{
 "cells": [
  {
   "cell_type": "code",
   "execution_count": 1,
   "metadata": {},
   "outputs": [],
   "source": [
    "load('../../F21-ETALA/etala_utilities.sage')"
   ]
  },
  {
   "cell_type": "markdown",
   "metadata": {},
   "source": [
    "##### F21ETSMP Group Assignment 10\n",
    "# Height Study"
   ]
  },
  {
   "cell_type": "markdown",
   "metadata": {},
   "source": [
    "In a study of women’s heights, we obtain the following measurements:  "
   ]
  },
  {
   "cell_type": "code",
   "execution_count": 3,
   "metadata": {},
   "outputs": [],
   "source": [
    "data = [1.66,  1.69,  1.50,  1.80,  1.68,  1.64,  1.65,  1.70,  1.72,  1.67,  1.69,  1.68,  1.20,  1.90,  1.2]"
   ]
  },
  {
   "cell_type": "markdown",
   "metadata": {},
   "source": [
    "In the population, the heights of woman is assumed to be Gaussian (normal) distributed with a mean of 1.68m and a standard deviation of 0.2m.  \n",
    "Assume that you only test on the mean."
   ]
  },
  {
   "cell_type": "markdown",
   "metadata": {},
   "source": [
    "## 1. \n",
    "Estimate the mean of the population sample."
   ]
  },
  {
   "cell_type": "markdown",
   "metadata": {},
   "source": [
    "Since the population is assumed to be Gaussian distributed, the mean is estimated as  \n",
    "$ \\hat \\mu = \\frac {1}{n} \\sum_{i=1}^n X_i \\sim \\mathcal N \\left(\\mu, \\sigma^2\\right)$"
   ]
  },
  {
   "cell_type": "code",
   "execution_count": 8,
   "metadata": {},
   "outputs": [
    {
     "data": {
      "text/html": [
       "<html><script type=\"math/tex; mode=display\">\\newcommand{\\Bold}[1]{\\mathbf{#1}}\\def\\bs#1{{\\boldsymbol #1}}\\text{data_est_mean} = 1.62533333333333</script></html>"
      ],
      "text/latex": [
       "\\begin{math}\n",
       "\\newcommand{\\Bold}[1]{\\mathbf{#1}}\\def\\bs#1{{\\boldsymbol #1}}\\text{data_est_mean} = 1.62533333333333\n",
       "\\end{math}"
      ],
      "text/plain": [
       "\\text{data_est_mean} = 1.62533333333333"
      ]
     },
     "metadata": {},
     "output_type": "display_data"
    }
   ],
   "source": [
    "data_est_mean = sum(data)/len(data); show_var()"
   ]
  },
  {
   "cell_type": "markdown",
   "metadata": {},
   "source": [
    "## 2.\n",
    "Formulate the NULL hypothesis to test whether the sample has the sample mean as the same mean as the rest of the population."
   ]
  },
  {
   "cell_type": "markdown",
   "metadata": {},
   "source": [
    "The null hypothesis for this test would be  \n",
    "$\\text{$H_0$:}\\;\\hat\\mu = \\mu$"
   ]
  },
  {
   "cell_type": "markdown",
   "metadata": {},
   "source": [
    "## 3.  \n",
    "Formulate the alternative hypothesis to the NULL hypothesis."
   ]
  },
  {
   "cell_type": "markdown",
   "metadata": {},
   "source": [
    "The alternative hypothesis is then  \n",
    "$\\text{$H_1$:}\\;\\hat\\mu \\ne \\mu$"
   ]
  },
  {
   "cell_type": "markdown",
   "metadata": {},
   "source": [
    "## 4.\n",
    "Calculate the test statistics z."
   ]
  },
  {
   "cell_type": "markdown",
   "metadata": {},
   "source": [
    "Since the mean and variance of the population is known, the Z-score can be calculated. The Formula is as follows:  \n",
    "$Z = \\dfrac{\\hat\\mu - \\mu}{\\sigma / \\sqrt n}$"
   ]
  },
  {
   "cell_type": "code",
   "execution_count": 10,
   "metadata": {},
   "outputs": [
    {
     "data": {
      "text/html": [
       "<html><script type=\"math/tex; mode=display\">\\newcommand{\\Bold}[1]{\\mathbf{#1}}\\def\\bs#1{{\\boldsymbol #1}}\\text{Z} = -0.273333333333333 \\, \\sqrt{15} \\sim -1.06</script></html>"
      ],
      "text/latex": [
       "\\begin{math}\n",
       "\\newcommand{\\Bold}[1]{\\mathbf{#1}}\\def\\bs#1{{\\boldsymbol #1}}\\text{Z} = -0.273333333333333 \\, \\sqrt{15} \\sim -1.06\n",
       "\\end{math}"
      ],
      "text/plain": [
       "\\text{Z} = -0.273333333333333 \\, \\sqrt{15} \\sim -1.06"
      ]
     },
     "metadata": {},
     "output_type": "display_data"
    }
   ],
   "source": [
    "pop_std_dev = 0.2\n",
    "pop_mean = 1.68\n",
    "Z = (data_est_mean-pop_mean)/(pop_std_dev/sqrt(len(data))); show_var()"
   ]
  },
  {
   "cell_type": "markdown",
   "metadata": {},
   "source": [
    "## 5.\n",
    "Find the p-value based on a Gaussian pdf."
   ]
  },
  {
   "cell_type": "markdown",
   "metadata": {},
   "source": [
    "Since the mean could deviate in either direction, a two tailed p-value is calculated.  \n",
    "$ p = 2 \\cdot min\\left\\{Pr(X \\le x \\vert H_0), Pr(X \\ge x \\vert H_0)\\right\\}$  \n",
    "Now given that the test statistic is normalized, the probability $Pr(X \\le x \\vert H_0) = \\Phi(Z)$"
   ]
  },
  {
   "cell_type": "code",
   "execution_count": 21,
   "metadata": {},
   "outputs": [
    {
     "data": {
      "text/html": [
       "<html><script type=\"math/tex; mode=display\">\\newcommand{\\Bold}[1]{\\mathbf{#1}}\\def\\bs#1{{\\boldsymbol #1}}\\text{p} = 0.28977494865740705 \\sim 0.290</script></html>"
      ],
      "text/latex": [
       "\\begin{math}\n",
       "\\newcommand{\\Bold}[1]{\\mathbf{#1}}\\def\\bs#1{{\\boldsymbol #1}}\\text{p} = 0.28977494865740705 \\sim 0.290\n",
       "\\end{math}"
      ],
      "text/plain": [
       "\\text{p} = 0.28977494865740705 \\sim 0.290"
      ]
     },
     "metadata": {},
     "output_type": "display_data"
    }
   ],
   "source": [
    "from scipy.stats import norm\n",
    "p = 2 * min([norm.cdf(float(Z)), 1 - norm.cdf(float(Z))]); show_var()"
   ]
  },
  {
   "cell_type": "markdown",
   "metadata": {},
   "source": [
    "## 6.\n",
    "With a significance level of  $\\alpha = 0.05$, can we reject the NULL hypothesis?"
   ]
  },
  {
   "cell_type": "markdown",
   "metadata": {},
   "source": [
    "Since the p value is larger than the significance level, __the NULL hypothesis cannot be rejected__."
   ]
  },
  {
   "cell_type": "markdown",
   "metadata": {},
   "source": [
    "## 7.\n",
    "If we changes the significance level to α=0.1, what would that imply?"
   ]
  },
  {
   "cell_type": "markdown",
   "metadata": {},
   "source": [
    "__This would still not allow rejection of the NULL hypothesis.__ Furthermore, given that the p value indicates that there's a 29% chance of the given observation under $H_0$, the NULL hypothesis will not be rejected under any other significance level we might be likely to use."
   ]
  },
  {
   "cell_type": "markdown",
   "metadata": {},
   "source": [
    "## 8.\n"
   ]
  },
  {
   "cell_type": "code",
   "execution_count": null,
   "metadata": {},
   "outputs": [],
   "source": []
  }
 ],
 "metadata": {
  "kernelspec": {
   "display_name": "SageMath 9.2",
   "language": "sage",
   "name": "sagemath"
  },
  "language_info": {
   "codemirror_mode": {
    "name": "ipython",
    "version": 3
   },
   "file_extension": ".py",
   "mimetype": "text/x-python",
   "name": "python",
   "nbconvert_exporter": "python",
   "pygments_lexer": "ipython3",
   "version": "3.8.5"
  }
 },
 "nbformat": 4,
 "nbformat_minor": 4
}
