{
 "cells": [
  {
   "cell_type": "markdown",
   "metadata": {},
   "source": [
    "##### F21ETSMP Group Assignment 7\n",
    "# Exam assignments"
   ]
  },
  {
   "cell_type": "markdown",
   "metadata": {},
   "source": [
    "\n",
    "## SMP L7 - Efterår 2015 assignment 2\n",
    "A discreet stochastic process is given by:  \n",
    "$X(n) = w(n)$  \n",
    "where $w(n)$ is i.i.d. and distributed according to a uniform distribution such that $w(n) \\sim \\mathcal U(0,10)$"
   ]
  },
  {
   "cell_type": "markdown",
   "metadata": {},
   "source": [
    "### 1) Make a sketch with 10 samples of one realization of $X(n)$ for $n = 1, \\dots, 10$"
   ]
  },
  {
   "cell_type": "code",
   "execution_count": 22,
   "metadata": {},
   "outputs": [
    {
     "data": {
      "image/png": "[encoded data removed]",
      "text/plain": [
       "<Figure size 432x288 with 1 Axes>"
      ]
     },
     "metadata": {
      "needs_background": "light"
     },
     "output_type": "display_data"
    }
   ],
   "source": [
    "from scipy.stats import uniform\n",
    "import matplotlib.pyplot as plt\n",
    "minimum = 0\n",
    "maximum = 10\n",
    "num_samples = 10\n",
    "\n",
    "samples = uniform.rvs(minimum, maximum, num_samples)\n",
    "_n = range(1, num_samples+1)\n",
    "\n",
    "fig, ax = plt.subplots()\n",
    "ax.stem(_n, samples)\n",
    "ax.set_xlabel('n')\n",
    "ax.set_ylabel('X(n)')\n",
    "ax.set_ylim(minimum, maximum)\n",
    "plt.show()"
   ]
  },
  {
   "cell_type": "markdown",
   "metadata": {},
   "source": [
    "### 2) Find the ensemble mean and variance for the process $X(n)$"
   ]
  },
  {
   "cell_type": "markdown",
   "metadata": {},
   "source": [
    "The ensemble mean is calculated from the following formula:  \n",
    "$$ EX = \\frac{a+b}{2} \\mid X \\sim \\mathcal U(a, b) $$  "
   ]
  },
  {
   "cell_type": "code",
   "execution_count": 23,
   "metadata": {},
   "outputs": [
    {
     "data": {
      "text/plain": [
       "5"
      ]
     },
     "execution_count": 23,
     "metadata": {},
     "output_type": "execute_result"
    }
   ],
   "source": [
    "mean_Xn = (minimum + maximum)/2; mean_Xn"
   ]
  },
  {
   "cell_type": "markdown",
   "metadata": {},
   "source": [
    "similarly the variance is given by:  \n",
    "$$ Var(X) = \\frac{(b-a)^2}{12} \\mid X \\sim \\mathcal U(a, b) $$"
   ]
  },
  {
   "cell_type": "code",
   "execution_count": 24,
   "metadata": {},
   "outputs": [
    {
     "data": {
      "text/plain": [
       "25/3"
      ]
     },
     "execution_count": 24,
     "metadata": {},
     "output_type": "execute_result"
    }
   ],
   "source": [
    "var_Xn = (maximum - minimum)^2 / 12; var_Xn"
   ]
  },
  {
   "cell_type": "markdown",
   "metadata": {},
   "source": [
    "### 3) Find the autocorrelation $R_{XX}(\\tau)$ for the process $X(n)$ for $\\tau = 0, \\dots, 3$"
   ]
  },
  {
   "cell_type": "markdown",
   "metadata": {},
   "source": [
    "Using the definition  \n",
    "$$ R_{XX}(t_1,t_2)=E[X(t_1)X(t_2)],for t_1, t_2 \\in J $$  \n",
    "which for a WSS process becomes \n",
    "$$ R_{XX}(\\tau)=E[X(t)X(t+\\tau)] $$  \n",
    "The autocorrelation is calculated. Since for $\\tau = 0$, $X(t) = X(t+\\tau)$, the equation becomes  \n",
    "$$ R_{XX}(0)=E\\left[X(t)^2\\right] $$  \n",
    "Using the fact that the variance is defined as:\n",
    "$$ Var(X(t)) = E\\left[X(t)^2\\right] - E[X(t)]^2 $$  \n",
    "the autocorrelation for $\\tau = 0$ can be restated as\n",
    "$$ R_{XX}(0)= Var(X(t)) + E[X(t)]^2 $$"
   ]
  },
  {
   "cell_type": "code",
   "execution_count": 25,
   "metadata": {},
   "outputs": [
    {
     "data": {
      "text/plain": [
       "33.3"
      ]
     },
     "execution_count": 25,
     "metadata": {},
     "output_type": "execute_result"
    }
   ],
   "source": [
    "R_XX0 = var_Xn + mean_Xn^2; n(R_XX0, digits=3)"
   ]
  },
  {
   "cell_type": "markdown",
   "metadata": {},
   "source": [
    "for the remaining values of $\\tau$ the expression for autocorrelation can be rewritten as follows due to the fact that the variables in $W(n)$ are i.i.d.:  \n",
    "$$ R_{XX}(\\tau)=E[X(t)X(t+\\tau)] = E[X(t)]E[X(t+\\tau)] $$  \n",
    "and since $X(t)$ is i.i.d, the mean doesn't change with time, and this reduces to the square of the mean:  \n",
    "$$ R_{XX}(\\tau) = E[X(t)]^2 $$  "
   ]
  },
  {
   "cell_type": "code",
   "execution_count": 26,
   "metadata": {},
   "outputs": [
    {
     "data": {
      "text/plain": [
       "25"
      ]
     },
     "execution_count": 26,
     "metadata": {},
     "output_type": "execute_result"
    }
   ],
   "source": [
    "R_XX123 = mean_Xn^2; R_XX123"
   ]
  },
  {
   "cell_type": "markdown",
   "metadata": {},
   "source": [
    "### 4) Specify whether the process is wide sense stationary and ergodic. Justify the answers."
   ]
  },
  {
   "cell_type": "markdown",
   "metadata": {},
   "source": [
    "Since the mean and the variance of the process doesn't change with time, __the process is WSS__.  \n",
    "Given that there isn't any part of the process that is constant for a single realization, the characteristics of the whole system could be deduced from a single realization, and __the process is ergotic__."
   ]
  },
  {
   "cell_type": "markdown",
   "metadata": {},
   "source": [
    "## SMP L7 - Efterår 2015 Reeksamen assignment 2\n",
    "A discreet stochastic process is given by:\n",
    "$$ X(n) = w(n) + 4 $$\n",
    "Where a sample $n$ of $w$ is an i.i.d. Gaussian distributed random variable $w(n) \\sim \\mathcal N(0,1)$."
   ]
  },
  {
   "cell_type": "markdown",
   "metadata": {},
   "source": [
    "### 1) Sketch 10 samples  $(n = 1, \\dots, 10)$ of a realization of $X(n)$."
   ]
  },
  {
   "cell_type": "code",
   "execution_count": 44,
   "metadata": {},
   "outputs": [
    {
     "data": {
      "image/png": "[encoded data removed]",
      "text/plain": [
       "<Figure size 432x288 with 1 Axes>"
      ]
     },
     "metadata": {
      "needs_background": "light"
     },
     "output_type": "display_data"
    }
   ],
   "source": [
    "from scipy.stats import norm\n",
    "_n = range(1, 11)\n",
    "mean_W = 0\n",
    "sigma_W = 1\n",
    "W = norm(mean_W, sigma_W)\n",
    "samples = [W.rvs() + 4 for _ in _n]\n",
    "\n",
    "fig, ax = plt.subplots()\n",
    "ax.stem(_n, samples)\n",
    "ax.set_xlabel('n')\n",
    "ax.set_ylabel('X(n)')\n",
    "plt.show()"
   ]
  },
  {
   "cell_type": "markdown",
   "metadata": {},
   "source": [
    "### 2) Find the ensemble mean and ensemble variance for the process"
   ]
  },
  {
   "cell_type": "markdown",
   "metadata": {},
   "source": [
    "Since the normal distibution is parameterized by it's mean, and the constant term is it's own mean:\n",
    "$X(n) = 0 + 4 $ "
   ]
  },
  {
   "cell_type": "code",
   "execution_count": 41,
   "metadata": {},
   "outputs": [
    {
     "data": {
      "text/plain": [
       "4"
      ]
     },
     "execution_count": 41,
     "metadata": {},
     "output_type": "execute_result"
    }
   ],
   "source": [
    "mean_Xn = mean_W + 4; mean_Xn"
   ]
  },
  {
   "cell_type": "markdown",
   "metadata": {},
   "source": [
    "Similarly, the variance of W is stated directly, and the constant term doesnt contribute to the variance"
   ]
  },
  {
   "cell_type": "code",
   "execution_count": 45,
   "metadata": {},
   "outputs": [
    {
     "data": {
      "text/plain": [
       "1"
      ]
     },
     "execution_count": 45,
     "metadata": {},
     "output_type": "execute_result"
    }
   ],
   "source": [
    "var_Xn = sigma_W^2 + 0; var_Xn"
   ]
  },
  {
   "cell_type": "markdown",
   "metadata": {},
   "source": [
    "### 3) State whether the process is wide sense stationary and ergotic. Justify the answers."
   ]
  },
  {
   "cell_type": "markdown",
   "metadata": {},
   "source": [
    "Since the expressions for mean and variance are independent of n, __the process is WSS__, and since the expressions for the temporal mean/variance and ensemble mean/variance, are the same, __the process is ergotic__."
   ]
  },
  {
   "cell_type": "code",
   "execution_count": null,
   "metadata": {},
   "outputs": [],
   "source": []
  }
 ],
 "metadata": {
  "hide_input": false,
  "kernelspec": {
   "display_name": "SageMath 9.2",
   "language": "sage",
   "name": "sagemath"
  },
  "language_info": {
   "codemirror_mode": {
    "name": "ipython",
    "version": 3
   },
   "file_extension": ".py",
   "mimetype": "text/x-python",
   "name": "python",
   "nbconvert_exporter": "python",
   "pygments_lexer": "ipython3",
   "version": "3.8.5"
  }
 },
 "nbformat": 4,
 "nbformat_minor": 4
}
