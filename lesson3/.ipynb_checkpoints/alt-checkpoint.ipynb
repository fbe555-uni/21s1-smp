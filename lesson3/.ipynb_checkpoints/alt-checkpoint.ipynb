{
 "cells": [
  {
   "cell_type": "code",
   "execution_count": 12,
   "metadata": {
    "hide_input": false
   },
   "outputs": [],
   "source": [
    "def LResult(name, var, digits=3):\n",
    "    return r'${} = {} \\approx {}$'.format(name, var, n(var, digits=digits))"
   ]
  },
  {
   "cell_type": "markdown",
   "metadata": {},
   "source": [
    "### F21 ETSMP group assignment 3\n",
    "Playing Dice\n",
    "=========="
   ]
  },
  {
   "cell_type": "markdown",
   "metadata": {},
   "source": [
    "In a certain dice game, a single die is rolled thrice and the total number of dots is counted. The stochastic variable X is defined as the sum of the three rolls. The die can be assumed to be fair."
   ]
  },
  {
   "cell_type": "markdown",
   "metadata": {
    "heading_collapsed": true
   },
   "source": [
    "## Excersise 1:\n",
    "How many possibilities are there of $X$ being $3, 4, \\dots, 18$?"
   ]
  },
  {
   "cell_type": "markdown",
   "metadata": {
    "hidden": true
   },
   "source": [
    "Given three dice rolls, the sample space is the set of combinations of the possible die values $\\{1, 2, \\dots, 6\\}$ with repeats. Since each die-roll doesn't affect the next, this is an ordered experiment with replacement, meaning that $|S| = 6^3$. \n"
   ]
  },
  {
   "cell_type": "code",
   "execution_count": 2,
   "metadata": {
    "hidden": true
   },
   "outputs": [
    {
     "data": {
      "text/html": [
       "<html><script type=\"math/tex; mode=display\">\\newcommand{\\Bold}[1]{\\mathbf{#1}}\\verb\"|S|\"\\phantom{\\verb!x!}\\verb\"=\"\\phantom{\\verb!x!}\\verb\"6^3\"\\phantom{\\verb!x!}\\verb\"=\"\\phantom{\\verb!x!}\\verb\"216\"</script></html>"
      ],
      "text/latex": [
       "\\begin{math}\n",
       "\\newcommand{\\Bold}[1]{\\mathbf{#1}}\\verb\"|S|\"\\phantom{\\verb!x!}\\verb\"=\"\\phantom{\\verb!x!}\\verb\"6^3\"\\phantom{\\verb!x!}\\verb\"=\"\\phantom{\\verb!x!}\\verb\"216\"\n",
       "\\end{math}"
      ],
      "text/plain": [
       "'|S| = 6^3 = 216'"
      ]
     },
     "metadata": {},
     "output_type": "display_data"
    },
    {
     "data": {
      "text/plain": [
       "True"
      ]
     },
     "execution_count": 2,
     "metadata": {},
     "output_type": "execute_result"
    }
   ],
   "source": [
    "S = tuples(range(1, 7), 3)\n",
    "show('|S| = 6^3 = {}'.format(6^3))\n",
    "len(S) == 6^3"
   ]
  },
  {
   "cell_type": "markdown",
   "metadata": {
    "hidden": true
   },
   "source": [
    "Now to figure out the number of possibilities to get each of the possible values of $X$, one could iterate over $S$, counting each time the relevant sum occurred:"
   ]
  },
  {
   "cell_type": "code",
   "execution_count": 3,
   "metadata": {
    "hidden": true
   },
   "outputs": [
    {
     "data": {
      "text/plain": [
       "[1, 3, 6, 10, 15, 21, 25, 27, 27, 25, 21, 15, 10, 6, 3, 1]"
      ]
     },
     "execution_count": 3,
     "metadata": {},
     "output_type": "execute_result"
    }
   ],
   "source": [
    "X_pos = [0]*19  # Keeping 0-2 in the list makes it easier to access each sum by it's index\n",
    "for e in S:\n",
    "    X_pos[sum(e)] += 1\n",
    "X_pos[3:]"
   ]
  },
  {
   "cell_type": "markdown",
   "metadata": {
    "hidden": true
   },
   "source": [
    "An alternative way of tackling this problem is asking how many possible integer compositions of length three  and a max element of 6 exist for each sum."
   ]
  },
  {
   "cell_type": "code",
   "execution_count": 4,
   "metadata": {
    "hidden": true
   },
   "outputs": [
    {
     "data": {
      "text/plain": [
       "[1, 3, 6, 10, 15, 21, 25, 27, 27, 25, 21, 15, 10, 6, 3, 1]"
      ]
     },
     "execution_count": 4,
     "metadata": {},
     "output_type": "execute_result"
    }
   ],
   "source": [
    "[Compositions(i, length=3, max_part=6).cardinality() for i in range(3, 19)]"
   ]
  },
  {
   "cell_type": "markdown",
   "metadata": {
    "hidden": true
   },
   "source": [
    "To calculate this a bit more theoretically, the binomial coefficient ${n-1,} \\choose {k-1}$ determines the number of possible compositions of $n$ with length $k$ exist."
   ]
  },
  {
   "cell_type": "code",
   "execution_count": 5,
   "metadata": {
    "hidden": true
   },
   "outputs": [
    {
     "data": {
      "text/plain": [
       "[1, 3, 6, 10, 15, 21, 28, 36, 45, 55, 66, 78, 91, 105, 120, 136]"
      ]
     },
     "execution_count": 5,
     "metadata": {},
     "output_type": "execute_result"
    }
   ],
   "source": [
    "[binomial(i-1,2) for i in range(3, 19)]"
   ]
  },
  {
   "cell_type": "markdown",
   "metadata": {
    "hidden": true
   },
   "source": [
    "It is clear however that this doesn't quite describe the problem as the values start overshooting at the 9 value of 8. This is because at values 9 and above, compositions with values larger than 6 become possible.  \n",
    "To improve this, it can be used that the set must be symmetrical, since dice have their opposite sides arranged so they always sum up to 7. Flipping each die in the one composition of sum 3 would therefore yield the one possible die arrangement that sums to 18, the three combinations yielding 4 can be flipped to 17 and so on."
   ]
  },
  {
   "cell_type": "code",
   "execution_count": 6,
   "metadata": {
    "hidden": true
   },
   "outputs": [
    {
     "data": {
      "text/plain": [
       "[1, 3, 6, 10, 15, 21, 28, 36, 36, 28, 21, 15, 10, 6, 3, 1]"
      ]
     },
     "execution_count": 6,
     "metadata": {},
     "output_type": "execute_result"
    }
   ],
   "source": [
    "X_pos = [binomial(i-1,2) for i in range(3, 11)]\n",
    "X_pos = X_pos + list(reversed(X_pos))\n",
    "X_pos"
   ]
  },
  {
   "cell_type": "markdown",
   "metadata": {
    "hidden": true
   },
   "source": [
    "This way, the only problematic values left are [9, 12], which can be manually corrected. For nine there is three possibilities too many, namely the possible permutations of (1, 1, 7). For ten, we get 9 possibilities too many, the three permutations of (1, 1, 8), plus the 6 permutations of (1, 2, 7). Eleven and twelve are then resolved by the symmetry mentioned above."
   ]
  },
  {
   "cell_type": "code",
   "execution_count": 7,
   "metadata": {
    "hidden": true
   },
   "outputs": [
    {
     "data": {
      "text/plain": [
       "[1, 3, 6, 10, 15, 21, 25, 27, 27, 25, 21, 15, 10, 6, 3, 1]"
      ]
     },
     "execution_count": 7,
     "metadata": {},
     "output_type": "execute_result"
    }
   ],
   "source": [
    "X_pos = [binomial(i-1,2) for i in range(3, 11)]\n",
    "X_pos[9-3] -= 3\n",
    "X_pos[10-3] -= 3 + 6\n",
    "X_pos = X_pos + list(reversed(X_pos))\n",
    "X_pos"
   ]
  },
  {
   "cell_type": "markdown",
   "metadata": {
    "hidden": true
   },
   "source": [
    "Which now matches the results from above."
   ]
  },
  {
   "cell_type": "markdown",
   "metadata": {
    "heading_collapsed": true
   },
   "source": [
    "## Exercise 2:\n",
    "Write and plot the PMF $f(x)$ for $X$"
   ]
  },
  {
   "cell_type": "markdown",
   "metadata": {
    "hidden": true
   },
   "source": [
    "Since the number of occurrences of each of the possible values of X has been calculated, the PMF being defined as the probability for each value of X:  \n",
    "$$P_X(x_k) = P(X=x_k) \\text{ for } k = 0, 1, 2, \\dots, n \\, \\big| \\, |R_X| = n$$  \n",
    "Now since the number of possibilities for each value of X, and the total number of possibilities has been calculated, this can easily be calculated:  \n",
    "$$P_X(x_k) = \\frac{|\\{X=x_k\\}|}{|S|} $$"
   ]
  },
  {
   "cell_type": "code",
   "execution_count": 8,
   "metadata": {
    "hidden": true
   },
   "outputs": [
    {
     "data": {
      "image/png": "[encoded data removed]",
      "text/plain": [
       "Graphics object consisting of 1 graphics primitive"
      ]
     },
     "execution_count": 8,
     "metadata": {},
     "output_type": "execute_result"
    }
   ],
   "source": [
    "def pmf(x):\n",
    "    if 3 <= x <= 18:\n",
    "        return X_pos[x-3]/len(S)\n",
    "    else:\n",
    "        return 0\n",
    "bar_chart([pmf(x) for x in range(20)])"
   ]
  },
  {
   "cell_type": "markdown",
   "metadata": {
    "heading_collapsed": true
   },
   "source": [
    "## Exercise 3:\n",
    "Write and plot the CDF $F(x) \\text{ for } X$"
   ]
  },
  {
   "cell_type": "markdown",
   "metadata": {
    "hidden": true
   },
   "source": [
    "Here the bins of the possibilities are added up, and the CDF will then be very similarly defined"
   ]
  },
  {
   "cell_type": "code",
   "execution_count": 9,
   "metadata": {
    "hidden": true
   },
   "outputs": [
    {
     "data": {
      "image/png": "[encoded data removed]",
      "text/plain": [
       "Graphics object consisting of 1 graphics primitive"
      ]
     },
     "execution_count": 9,
     "metadata": {},
     "output_type": "execute_result"
    }
   ],
   "source": [
    "X_tot_pos = [sum(X_pos[0:i+1]) for i in range(len(X_pos))]\n",
    "def cdf(x):\n",
    "    if x < 3:\n",
    "        return 0\n",
    "    elif x <= 18:\n",
    "        return X_tot_pos[floor(x)-3]/len(S)\n",
    "    else:\n",
    "        return 1\n",
    "plot(cdf, (x, 0, 20))"
   ]
  },
  {
   "cell_type": "markdown",
   "metadata": {
    "heading_collapsed": true
   },
   "source": [
    "## Exercise 4:\n",
    "What's the probability of getting 8?"
   ]
  },
  {
   "cell_type": "markdown",
   "metadata": {
    "hidden": true,
    "variables": {
     "r'<span class=\"MathJax_Preview\" style=\"color: inherit;\"><span class=\"MJXp-math\" id=\"MJXp-Span-159\"><span class=\"MJXp-msubsup\" id=\"MJXp-Span-160\"><span class=\"MJXp-mi MJXp-italic\" id=\"MJXp-Span-161\" style=\"margin-right: 0.05em;\">f</span><span class=\"MJXp-mi MJXp-italic MJXp-script\" id=\"MJXp-Span-162\" style=\"vertical-align: -0.4em;\">X</span></span><span class=\"MJXp-mo\" id=\"MJXp-Span-163\" style=\"margin-left: 0em; margin-right: 0em;\">(</span><span class=\"MJXp-mn\" id=\"MJXp-Span-164\">8</span><span class=\"MJXp-mo\" id=\"MJXp-Span-165\" style=\"margin-left: 0em; margin-right: 0em;\">)</span><span class=\"MJXp-mo\" id=\"MJXp-Span-166\" style=\"margin-left: 0.333em; margin-right: 0.333em;\">=</span><span class=\"MJXp-mrow\" id=\"MJXp-Span-167\"></span><span class=\"MJXp-mo\" id=\"MJXp-Span-168\" style=\"margin-left: 0.333em; margin-right: 0.333em;\">≈</span><span class=\"MJXp-mrow\" id=\"MJXp-Span-169\"></span></span></span><span class=\"MathJax MathJax_Processed\" id=\"MathJax-Element-16-Frame\" tabindex=\"0\" style=\"\"><nobr><span class=\"math\" id=\"MathJax-Span-197\"><span style=\"display: inline-block; position: relative; width: 0em; height: 0px; font-size: 124%;\"><span style=\"position: absolute;\"><span class=\"mrow\" id=\"MathJax-Span-198\"><span class=\"msubsup\" id=\"MathJax-Span-199\"><span style=\"display: inline-block; position: relative; width: 0.816em; height: 0px;\"><span style=\"position: absolute; clip: rect(3.124em, 1000.42em, 4.354em, -1000em); top: -3.975em; left: 0em;\"><span class=\"mi\" id=\"MathJax-Span-200\" style=\"font-family: STIXMathJax_Main; font-style: italic; text-rendering: optimizelegibility;\">f<span style=\"display: inline-block; overflow: hidden; height: 1px; width: 0.146em;\"></span></span><span style=\"display: inline-block; width: 0px; height: 3.975em;\"></span></span><span style=\"position: absolute; top: -3.825em; left: 0.278em;\"><span class=\"mi\" id=\"MathJax-Span-201\" style=\"font-size: 70.7%; font-family: STIXMathJax_Main; font-style: italic;\">X<span style=\"display: inline-block; overflow: hidden; height: 1px; width: 0.031em;\"></span></span><span style=\"display: inline-block; width: 0px; height: 3.975em;\"></span></span></span></span><span class=\"mo\" id=\"MathJax-Span-202\" style=\"font-family: STIXMathJax_Main;\">(</span><span class=\"mn\" id=\"MathJax-Span-203\" style=\"font-family: STIXMathJax_Main;\">8</span><span class=\"mo\" id=\"MathJax-Span-204\" style=\"font-family: STIXMathJax_Main;\">)</span><span class=\"mo\" id=\"MathJax-Span-205\" style=\"font-family: STIXMathJax_Main; padding-left: 0.313em;\">=</span><span class=\"texatom\" id=\"MathJax-Span-206\" style=\"padding-left: 0.313em;\"><span class=\"mrow\" id=\"MathJax-Span-207\"></span></span><span class=\"mo\" id=\"MathJax-Span-208\" style=\"font-family: STIXMathJax_Main; padding-left: 0.313em;\">≈</span><span class=\"texatom\" id=\"MathJax-Span-209\" style=\"padding-left: 0.313em;\"><span class=\"mrow\" id=\"MathJax-Span-210\"></span></span></span></span></span></span></nobr></span><script type=\"math/tex\" id=\"MathJax-Element-16\">f_X(8) = {} \\approx {} </script>'.format(pmf(8), n(pmf(8), digits=2))": "<p><strong>NameError</strong>: name &#39;pmf&#39; is not defined</p>\n"
    }
   },
   "source": [
    "By definition the PMF gives the probability of a given outcome, and so this can be found by taking {{r'$f_X(8) = {} \\approx {} $'.format(pmf(8), n(pmf(8), digits=2))}}"
   ]
  },
  {
   "cell_type": "markdown",
   "metadata": {
    "heading_collapsed": true
   },
   "source": [
    "## Exercise 5:\n",
    "What's the probability of getting at least 12?"
   ]
  },
  {
   "cell_type": "markdown",
   "metadata": {
    "hidden": true,
    "variables": {
     "r'<span class=\"MathJax_Preview\" style=\"color: inherit;\"><span class=\"MJXp-math MJXp-display\" id=\"MJXp-Span-247\"><span class=\"MJXp-mi MJXp-italic\" id=\"MJXp-Span-248\">P</span><span class=\"MJXp-mo\" id=\"MJXp-Span-249\" style=\"margin-left: 0em; margin-right: 0em;\">(</span><span class=\"MJXp-mi MJXp-italic\" id=\"MJXp-Span-250\">X</span><span class=\"MJXp-mo\" id=\"MJXp-Span-251\" style=\"margin-left: 0.333em; margin-right: 0.333em;\">≥</span><span class=\"MJXp-mn\" id=\"MJXp-Span-252\">12</span><span class=\"MJXp-mo\" id=\"MJXp-Span-253\" style=\"margin-left: 0em; margin-right: 0em;\">)</span><span class=\"MJXp-mo\" id=\"MJXp-Span-254\" style=\"margin-left: 0.333em; margin-right: 0.333em;\">=</span><span class=\"MJXp-mn\" id=\"MJXp-Span-255\">1</span><span class=\"MJXp-mo\" id=\"MJXp-Span-256\" style=\"margin-left: 0.267em; margin-right: 0.267em;\">−</span><span class=\"MJXp-msubsup\" id=\"MJXp-Span-257\"><span class=\"MJXp-mi MJXp-italic\" id=\"MJXp-Span-258\" style=\"margin-right: 0.05em;\">F</span><span class=\"MJXp-mi MJXp-italic MJXp-script\" id=\"MJXp-Span-259\" style=\"vertical-align: -0.4em;\">X</span></span><span class=\"MJXp-mo\" id=\"MJXp-Span-260\" style=\"margin-left: 0em; margin-right: 0em;\">(</span><span class=\"MJXp-mn\" id=\"MJXp-Span-261\">11</span><span class=\"MJXp-mo\" id=\"MJXp-Span-262\" style=\"margin-left: 0em; margin-right: 0em;\">)</span><span class=\"MJXp-mo\" id=\"MJXp-Span-263\" style=\"margin-left: 0.333em; margin-right: 0.333em;\">=</span><span class=\"MJXp-mrow\" id=\"MJXp-Span-264\"></span><span class=\"MJXp-mo\" id=\"MJXp-Span-265\" style=\"margin-left: 0.333em; margin-right: 0.333em;\">≈</span><span class=\"MJXp-mrow\" id=\"MJXp-Span-266\"></span></span></span><div class=\"MathJax_Display MathJax_Processed\"><span class=\"MathJax\" id=\"MathJax-Element-22-Frame\" tabindex=\"0\" style=\"\"><nobr><span class=\"math\" id=\"MathJax-Span-294\"><span style=\"display: inline-block; position: relative; width: 0em; height: 0px; font-size: 124%;\"><span style=\"position: absolute;\"><span class=\"mrow\" id=\"MathJax-Span-295\"><span class=\"mi\" id=\"MathJax-Span-296\" style=\"font-family: STIXMathJax_Main; font-style: italic;\">P</span><span class=\"mo\" id=\"MathJax-Span-297\" style=\"font-family: STIXMathJax_Main;\">(</span><span class=\"mi\" id=\"MathJax-Span-298\" style=\"font-family: STIXMathJax_Main; font-style: italic;\">X<span style=\"display: inline-block; overflow: hidden; height: 1px; width: 0.044em;\"></span></span><span class=\"mo\" id=\"MathJax-Span-299\" style=\"font-family: STIXMathJax_Main; padding-left: 0.313em;\">≥</span><span class=\"mn\" id=\"MathJax-Span-300\" style=\"font-family: STIXMathJax_Main; padding-left: 0.313em;\">12</span><span class=\"mo\" id=\"MathJax-Span-301\" style=\"font-family: STIXMathJax_Main;\">)</span><span class=\"mo\" id=\"MathJax-Span-302\" style=\"font-family: STIXMathJax_Main; padding-left: 0.313em;\">=</span><span class=\"mn\" id=\"MathJax-Span-303\" style=\"font-family: STIXMathJax_Main; padding-left: 0.313em;\">1</span><span class=\"mo\" id=\"MathJax-Span-304\" style=\"font-family: STIXMathJax_Main; padding-left: 0.25em;\">−</span><span class=\"msubsup\" id=\"MathJax-Span-305\" style=\"padding-left: 0.25em;\"><span style=\"display: inline-block; position: relative; width: 1.149em; height: 0px;\"><span style=\"position: absolute; clip: rect(3.149em, 1000.65em, 4.147em, -1000em); top: -3.975em; left: 0em;\"><span class=\"mi\" id=\"MathJax-Span-306\" style=\"font-family: STIXMathJax_Main; font-style: italic;\">F<span style=\"display: inline-block; overflow: hidden; height: 1px; width: 0.034em;\"></span></span><span style=\"display: inline-block; width: 0px; height: 3.975em;\"></span></span><span style=\"position: absolute; top: -3.825em; left: 0.611em;\"><span class=\"mi\" id=\"MathJax-Span-307\" style=\"font-size: 70.7%; font-family: STIXMathJax_Main; font-style: italic;\">X<span style=\"display: inline-block; overflow: hidden; height: 1px; width: 0.031em;\"></span></span><span style=\"display: inline-block; width: 0px; height: 3.975em;\"></span></span></span></span><span class=\"mo\" id=\"MathJax-Span-308\" style=\"font-family: STIXMathJax_Main;\">(</span><span class=\"mn\" id=\"MathJax-Span-309\" style=\"font-family: STIXMathJax_Main;\">11</span><span class=\"mo\" id=\"MathJax-Span-310\" style=\"font-family: STIXMathJax_Main;\">)</span><span class=\"mo\" id=\"MathJax-Span-311\" style=\"font-family: STIXMathJax_Main; padding-left: 0.313em;\">=</span><span class=\"texatom\" id=\"MathJax-Span-312\" style=\"padding-left: 0.313em;\"><span class=\"mrow\" id=\"MathJax-Span-313\"></span></span><span class=\"mo\" id=\"MathJax-Span-314\" style=\"font-family: STIXMathJax_Main; padding-left: 0.313em;\">≈</span><span class=\"texatom\" id=\"MathJax-Span-315\" style=\"padding-left: 0.313em;\"><span class=\"mrow\" id=\"MathJax-Span-316\"></span></span></span></span></span></span></nobr></span></div><script type=\"math/tex; mode=display\" id=\"MathJax-Element-22\"> P(X \\ge 12) = 1 - F_X(11) = {} \\approx {} </script>'.format(1-cdf(11), n(1-cdf(11), digits=2))": "<p><strong>NameError</strong>: name &#39;cdf&#39; is not defined</p>\n"
    }
   },
   "source": [
    "The CDF is defined as the probability of X being less than or equal to a value.  \n",
    "$$ F_X(x) = P(X \\le x) \\text{ for } X \\in \\Bbb R $$  \n",
    "Combining this with the probability of the complement of the event  \n",
    "$$ P(E^c) = 1 - P(E) $$  \n",
    "The probability of getting a value greater than or equal to x can thus be defined as  \n",
    "$$ P(X \\ge x) = 1 - P(X \\lt x) $$  \n",
    "now since X is a discrete variable $X \\lt x \\Leftrightarrow X \\le x-1$, which then leads us to  \n",
    "$$P(X \\ge x) = 1 - F_X(x-1)$$  \n",
    "{{r'$$ P(X \\ge 12) = 1 - F_X(11) = {} \\approx {} $$'.format(1-cdf(11), n(1-cdf(11), digits=2))}}\n"
   ]
  },
  {
   "cell_type": "markdown",
   "metadata": {
    "heading_collapsed": true
   },
   "source": [
    "## Exercise 6:\n",
    "What's the probability of getting at least 9 and at most 15?"
   ]
  },
  {
   "cell_type": "markdown",
   "metadata": {
    "hidden": true,
    "variables": {
     "r'<span class=\"MathJax_Preview\" style=\"color: inherit;\"><span class=\"MJXp-math MJXp-display\" id=\"MJXp-Span-298\"><span class=\"MJXp-mi MJXp-italic\" id=\"MJXp-Span-299\">P</span><span class=\"MJXp-mo\" id=\"MJXp-Span-300\" style=\"margin-left: 0em; margin-right: 0em;\">(</span><span class=\"MJXp-mn\" id=\"MJXp-Span-301\">9</span><span class=\"MJXp-mo\" id=\"MJXp-Span-302\" style=\"margin-left: 0.333em; margin-right: 0.333em;\">≤</span><span class=\"MJXp-mi MJXp-italic\" id=\"MJXp-Span-303\">X</span><span class=\"MJXp-mo\" id=\"MJXp-Span-304\" style=\"margin-left: 0.333em; margin-right: 0.333em;\">≤</span><span class=\"MJXp-mn\" id=\"MJXp-Span-305\">15</span><span class=\"MJXp-mo\" id=\"MJXp-Span-306\" style=\"margin-left: 0em; margin-right: 0em;\">)</span><span class=\"MJXp-mo\" id=\"MJXp-Span-307\" style=\"margin-left: 0.333em; margin-right: 0.333em;\">=</span><span class=\"MJXp-msubsup\" id=\"MJXp-Span-308\"><span class=\"MJXp-mi MJXp-italic\" id=\"MJXp-Span-309\" style=\"margin-right: 0.05em;\">F</span><span class=\"MJXp-mi MJXp-italic MJXp-script\" id=\"MJXp-Span-310\" style=\"vertical-align: -0.4em;\">X</span></span><span class=\"MJXp-mo\" id=\"MJXp-Span-311\" style=\"margin-left: 0em; margin-right: 0em;\">(</span><span class=\"MJXp-mn\" id=\"MJXp-Span-312\">15</span><span class=\"MJXp-mo\" id=\"MJXp-Span-313\" style=\"margin-left: 0em; margin-right: 0em;\">)</span><span class=\"MJXp-mo\" id=\"MJXp-Span-314\" style=\"margin-left: 0.267em; margin-right: 0.267em;\">−</span><span class=\"MJXp-msubsup\" id=\"MJXp-Span-315\"><span class=\"MJXp-mi MJXp-italic\" id=\"MJXp-Span-316\" style=\"margin-right: 0.05em;\">F</span><span class=\"MJXp-mi MJXp-italic MJXp-script\" id=\"MJXp-Span-317\" style=\"vertical-align: -0.4em;\">X</span></span><span class=\"MJXp-mo\" id=\"MJXp-Span-318\" style=\"margin-left: 0em; margin-right: 0em;\">(</span><span class=\"MJXp-mn\" id=\"MJXp-Span-319\">8</span><span class=\"MJXp-mo\" id=\"MJXp-Span-320\" style=\"margin-left: 0em; margin-right: 0em;\">)</span><span class=\"MJXp-mo\" id=\"MJXp-Span-321\" style=\"margin-left: 0.333em; margin-right: 0.333em;\">=</span><span class=\"MJXp-mrow\" id=\"MJXp-Span-322\"></span><span class=\"MJXp-mo\" id=\"MJXp-Span-323\" style=\"margin-left: 0.333em; margin-right: 0.333em;\">≈</span><span class=\"MJXp-mrow\" id=\"MJXp-Span-324\"></span></span></span><div class=\"MathJax_Display MathJax_Processed\"><span class=\"MathJax\" id=\"MathJax-Element-26-Frame\" tabindex=\"0\" style=\"\"><nobr><span class=\"math\" id=\"MathJax-Span-351\"><span style=\"display: inline-block; position: relative; width: 0em; height: 0px; font-size: 124%;\"><span style=\"position: absolute;\"><span class=\"mrow\" id=\"MathJax-Span-352\"><span class=\"mi\" id=\"MathJax-Span-353\" style=\"font-family: STIXMathJax_Main; font-style: italic;\">P</span><span class=\"mo\" id=\"MathJax-Span-354\" style=\"font-family: STIXMathJax_Main;\">(</span><span class=\"mn\" id=\"MathJax-Span-355\" style=\"font-family: STIXMathJax_Main;\">9</span><span class=\"mo\" id=\"MathJax-Span-356\" style=\"font-family: STIXMathJax_Main; padding-left: 0.313em;\">≤</span><span class=\"mi\" id=\"MathJax-Span-357\" style=\"font-family: STIXMathJax_Main; font-style: italic; padding-left: 0.313em;\">X<span style=\"display: inline-block; overflow: hidden; height: 1px; width: 0.044em;\"></span></span><span class=\"mo\" id=\"MathJax-Span-358\" style=\"font-family: STIXMathJax_Main; padding-left: 0.313em;\">≤</span><span class=\"mn\" id=\"MathJax-Span-359\" style=\"font-family: STIXMathJax_Main; padding-left: 0.313em;\">15</span><span class=\"mo\" id=\"MathJax-Span-360\" style=\"font-family: STIXMathJax_Main;\">)</span><span class=\"mo\" id=\"MathJax-Span-361\" style=\"font-family: STIXMathJax_Main; padding-left: 0.313em;\">=</span><span class=\"msubsup\" id=\"MathJax-Span-362\" style=\"padding-left: 0.313em;\"><span style=\"display: inline-block; position: relative; width: 1.149em; height: 0px;\"><span style=\"position: absolute; clip: rect(3.149em, 1000.65em, 4.147em, -1000em); top: -3.975em; left: 0em;\"><span class=\"mi\" id=\"MathJax-Span-363\" style=\"font-family: STIXMathJax_Main; font-style: italic;\">F<span style=\"display: inline-block; overflow: hidden; height: 1px; width: 0.034em;\"></span></span><span style=\"display: inline-block; width: 0px; height: 3.975em;\"></span></span><span style=\"position: absolute; top: -3.825em; left: 0.611em;\"><span class=\"mi\" id=\"MathJax-Span-364\" style=\"font-size: 70.7%; font-family: STIXMathJax_Main; font-style: italic;\">X<span style=\"display: inline-block; overflow: hidden; height: 1px; width: 0.031em;\"></span></span><span style=\"display: inline-block; width: 0px; height: 3.975em;\"></span></span></span></span><span class=\"mo\" id=\"MathJax-Span-365\" style=\"font-family: STIXMathJax_Main;\">(</span><span class=\"mn\" id=\"MathJax-Span-366\" style=\"font-family: STIXMathJax_Main;\">15</span><span class=\"mo\" id=\"MathJax-Span-367\" style=\"font-family: STIXMathJax_Main;\">)</span><span class=\"mo\" id=\"MathJax-Span-368\" style=\"font-family: STIXMathJax_Main; padding-left: 0.25em;\">−</span><span class=\"msubsup\" id=\"MathJax-Span-369\" style=\"padding-left: 0.25em;\"><span style=\"display: inline-block; position: relative; width: 1.149em; height: 0px;\"><span style=\"position: absolute; clip: rect(3.149em, 1000.65em, 4.147em, -1000em); top: -3.975em; left: 0em;\"><span class=\"mi\" id=\"MathJax-Span-370\" style=\"font-family: STIXMathJax_Main; font-style: italic;\">F<span style=\"display: inline-block; overflow: hidden; height: 1px; width: 0.034em;\"></span></span><span style=\"display: inline-block; width: 0px; height: 3.975em;\"></span></span><span style=\"position: absolute; top: -3.825em; left: 0.611em;\"><span class=\"mi\" id=\"MathJax-Span-371\" style=\"font-size: 70.7%; font-family: STIXMathJax_Main; font-style: italic;\">X<span style=\"display: inline-block; overflow: hidden; height: 1px; width: 0.031em;\"></span></span><span style=\"display: inline-block; width: 0px; height: 3.975em;\"></span></span></span></span><span class=\"mo\" id=\"MathJax-Span-372\" style=\"font-family: STIXMathJax_Main;\">(</span><span class=\"mn\" id=\"MathJax-Span-373\" style=\"font-family: STIXMathJax_Main;\">8</span><span class=\"mo\" id=\"MathJax-Span-374\" style=\"font-family: STIXMathJax_Main;\">)</span><span class=\"mo\" id=\"MathJax-Span-375\" style=\"font-family: STIXMathJax_Main; padding-left: 0.313em;\">=</span><span class=\"texatom\" id=\"MathJax-Span-376\" style=\"padding-left: 0.313em;\"><span class=\"mrow\" id=\"MathJax-Span-377\"></span></span><span class=\"mo\" id=\"MathJax-Span-378\" style=\"font-family: STIXMathJax_Main; padding-left: 0.313em;\">≈</span><span class=\"texatom\" id=\"MathJax-Span-379\" style=\"padding-left: 0.313em;\"><span class=\"mrow\" id=\"MathJax-Span-380\"></span></span></span></span></span></span></nobr></span></div><script type=\"math/tex; mode=display\" id=\"MathJax-Element-26\"> P(9 \\le X \\le 15) = F_X(15) - F_X(8) = {} \\approx {} </script>'.format(cdf(15)-cdf(8), n(cdf(15)-cdf(8), digits=2))": "<p><strong>NameError</strong>: name &#39;cdf&#39; is not defined</p>\n"
    }
   },
   "source": [
    "Here the fact that  \n",
    "$$ P(a \\lt X \\le b) = F_X(b) - F_X(a) $$  \n",
    "can be used, letting $a = 9-1$ to achieve the $\\le$ relation desired:  \n",
    "{{r'$$ P(9 \\le X \\le 15) = F_X(15) - F_X(8) = {} \\approx {} $$'.format(cdf(15)-cdf(8), n(cdf(15)-cdf(8), digits=2))}}"
   ]
  },
  {
   "cell_type": "markdown",
   "metadata": {
    "heading_collapsed": true
   },
   "source": [
    "## Exercise 7:\n",
    "What's the probability of getting less than 4 or more than 16?"
   ]
  },
  {
   "cell_type": "markdown",
   "metadata": {
    "hidden": true,
    "variables": {
     "ans = cdf(3) + 1 - cdf(16); r'<span class=\"MathJax_Preview\" style=\"color: inherit;\"><span class=\"MJXp-math MJXp-display\" id=\"MJXp-Span-350\"><span class=\"MJXp-mi MJXp-italic\" id=\"MJXp-Span-351\">P</span><span class=\"MJXp-mo\" id=\"MJXp-Span-352\" style=\"margin-left: 0em; margin-right: 0em;\">(</span><span class=\"MJXp-mi MJXp-italic\" id=\"MJXp-Span-353\">X</span><span class=\"MJXp-mo\" id=\"MJXp-Span-354\" style=\"margin-left: 0.333em; margin-right: 0.333em;\">&lt;</span><span class=\"MJXp-mn\" id=\"MJXp-Span-355\">4</span><span class=\"MJXp-mo\" id=\"MJXp-Span-356\" style=\"margin-left: 0.267em; margin-right: 0.267em;\">∨</span><span class=\"MJXp-mi MJXp-italic\" id=\"MJXp-Span-357\">X</span><span class=\"MJXp-mo\" id=\"MJXp-Span-358\" style=\"margin-left: 0.333em; margin-right: 0.333em;\">&gt;</span><span class=\"MJXp-mn\" id=\"MJXp-Span-359\">16</span><span class=\"MJXp-mo\" id=\"MJXp-Span-360\" style=\"margin-left: 0em; margin-right: 0em;\">)</span><span class=\"MJXp-mo\" id=\"MJXp-Span-361\" style=\"margin-left: 0.333em; margin-right: 0.333em;\">=</span><span class=\"MJXp-msubsup\" id=\"MJXp-Span-362\"><span class=\"MJXp-mi MJXp-italic\" id=\"MJXp-Span-363\" style=\"margin-right: 0.05em;\">F</span><span class=\"MJXp-mi MJXp-italic MJXp-script\" id=\"MJXp-Span-364\" style=\"vertical-align: -0.4em;\">X</span></span><span class=\"MJXp-mo\" id=\"MJXp-Span-365\" style=\"margin-left: 0em; margin-right: 0em;\">(</span><span class=\"MJXp-mn\" id=\"MJXp-Span-366\">3</span><span class=\"MJXp-mo\" id=\"MJXp-Span-367\" style=\"margin-left: 0em; margin-right: 0em;\">)</span><span class=\"MJXp-mo\" id=\"MJXp-Span-368\" style=\"margin-left: 0.267em; margin-right: 0.267em;\">+</span><span class=\"MJXp-mn\" id=\"MJXp-Span-369\">1</span><span class=\"MJXp-mo\" id=\"MJXp-Span-370\" style=\"margin-left: 0.267em; margin-right: 0.267em;\">−</span><span class=\"MJXp-msubsup\" id=\"MJXp-Span-371\"><span class=\"MJXp-mi MJXp-italic\" id=\"MJXp-Span-372\" style=\"margin-right: 0.05em;\">F</span><span class=\"MJXp-mi MJXp-italic MJXp-script\" id=\"MJXp-Span-373\" style=\"vertical-align: -0.4em;\">X</span></span><span class=\"MJXp-mo\" id=\"MJXp-Span-374\" style=\"margin-left: 0em; margin-right: 0em;\">(</span><span class=\"MJXp-mn\" id=\"MJXp-Span-375\">16</span><span class=\"MJXp-mo\" id=\"MJXp-Span-376\" style=\"margin-left: 0em; margin-right: 0em;\">)</span><span class=\"MJXp-mo\" id=\"MJXp-Span-377\" style=\"margin-left: 0.333em; margin-right: 0.333em;\">=</span><span class=\"MJXp-mrow\" id=\"MJXp-Span-378\"></span><span class=\"MJXp-mo\" id=\"MJXp-Span-379\" style=\"margin-left: 0.333em; margin-right: 0.333em;\">≈</span><span class=\"MJXp-mrow\" id=\"MJXp-Span-380\"></span></span></span><div class=\"MathJax_Display MathJax_Processing\"><span class=\"MathJax\" id=\"MathJax-Element-28-Frame\" tabindex=\"0\"></span></div><script type=\"math/tex; mode=display\" id=\"MathJax-Element-28\"> P(X \\lt 4 \\lor X \\gt 16) = F_X(3) + 1 - F_X(16) = {} \\approx {} </script>'.format(ans, n(ans, digits=2))": "<p><strong>NameError</strong>: name &#39;cdf&#39; is not defined</p>\n"
    }
   },
   "source": [
    "Since all values are disjoint events, and the two specified ranges aren't overlapping, the probability  \n",
    "$$ P(X \\lt 4 \\lor X \\gt 16) = P(X \\lt 4) + P(X \\gt 16) $$\n",
    "Using the same methods as the previous two exercises, this can be formulated as follows  \n",
    "{{ans = cdf(3) + 1 - cdf(16); r'$$ P(X \\lt 4 \\lor X \\gt 16) = F_X(3) + 1 - F_X(16) = {} \\approx {} $$'.format(ans, n(ans, digits=2))}}"
   ]
  },
  {
   "cell_type": "markdown",
   "metadata": {
    "heading_collapsed": true
   },
   "source": [
    "## Exercise 8:\n",
    "What's the average sum one can expect to get?"
   ]
  },
  {
   "cell_type": "markdown",
   "metadata": {
    "hidden": true
   },
   "source": [
    "From the definition of the mean of a random variable  \n",
    "$$ EX = \\sum_{x_k \\in R_X}{x_k P(X = x_k)} = \\sum_{x_k \\in R_X}{x_k P_X(x_k)} $$  \n",
    "The mean $EX$ can be calculated as follows:"
   ]
  },
  {
   "cell_type": "code",
   "execution_count": 10,
   "metadata": {
    "hidden": true
   },
   "outputs": [],
   "source": [
    "X_mean = sum([x * pmf(x) for x in range(3, 19)])"
   ]
  },
  {
   "cell_type": "markdown",
   "metadata": {
    "hidden": true,
    "variables": {
     "r'<span class=\"MathJax_Preview\" style=\"color: inherit;\"><span class=\"MJXp-math\" id=\"MJXp-Span-433\"><span class=\"MJXp-mi MJXp-italic\" id=\"MJXp-Span-434\">E</span><span class=\"MJXp-mi MJXp-italic\" id=\"MJXp-Span-435\">X</span><span class=\"MJXp-mo\" id=\"MJXp-Span-436\" style=\"margin-left: 0.333em; margin-right: 0.333em;\">=</span><span class=\"MJXp-mrow\" id=\"MJXp-Span-437\"></span><span class=\"MJXp-mo\" id=\"MJXp-Span-438\" style=\"margin-left: 0.333em; margin-right: 0.333em;\">≈</span><span class=\"MJXp-mrow\" id=\"MJXp-Span-439\"></span></span></span><span class=\"MathJax MathJax_Processing\" id=\"MathJax-Element-31-Frame\" tabindex=\"0\"></span><script type=\"math/tex\" id=\"MathJax-Element-31\">EX = {} \\approx {} </script>'.format(X_mean, n(X_mean, digits=2))": "<p><strong>NameError</strong>: name &#39;X_mean&#39; is not defined</p>\n"
    }
   },
   "source": [
    "yielding {{r'$EX = {} \\approx {} $'.format(X_mean, n(X_mean, digits=2))}}"
   ]
  },
  {
   "cell_type": "markdown",
   "metadata": {},
   "source": [
    "## Exercise 9:\n",
    "What's the variance $\\sigma^2$ and standard deviation $\\sigma$ of $X$? "
   ]
  },
  {
   "cell_type": "markdown",
   "metadata": {},
   "source": [
    "Using the definition of the variance  \n",
    "$$ Var(X) = E\\left[\\left(X - \\mu_X\\right)^2\\right] = E\\left[X^2\\right] - \\mu_X^2 $$  \n",
    "The variance can be calculated, and from that, the standard deviation:  \n",
    "$$ SD(X) = \\sqrt{Var(X)} $$"
   ]
  },
  {
   "cell_type": "code",
   "execution_count": 11,
   "metadata": {},
   "outputs": [],
   "source": [
    "var_X = sum([x^2 * pmf(x) for x in range(3, 19)]) - X_mean^2\n",
    "sd_X = sqrt(var_X)"
   ]
  },
  {
   "cell_type": "markdown",
   "metadata": {
    "variables": {
     "LResult('SD(X)', sd_X)": "<p><strong>NameError</strong>: name &#39;LResult&#39; is not defined</p>\n",
     "LResult('Var(X)', var_X)": "<p><strong>NameError</strong>: name &#39;LResult&#39; is not defined</p>\n"
    }
   },
   "source": [
    "Which computes to:  \n",
    "{{LResult('Var(X)', var_X)}}  \n",
    "{{LResult('SD(X)', sd_X)}} "
   ]
  },
  {
   "cell_type": "markdown",
   "metadata": {},
   "source": [
    "## Exercise 10:\n",
    "What's the probability that the sum is within 1, 2, and 3 standard deviations of the mean?  "
   ]
  },
  {
   "cell_type": "markdown",
   "metadata": {},
   "source": [
    "This can be expressed as  \n",
    "$P \\left( \\mu_X - k \\sigma_X \\le X \\le \\mu_X + k \\sigma_X \\right) \\text{ for } k \\in [1, 2, 3] $  \n",
    "or using the CDF:  \n",
    "$F_X \\left( \\mu_X + k \\sigma_X \\right) - F_X \\left( \\mu_X - k \\sigma_X \\right) \\text{ for } k \\in [1, 2, 3] $  "
   ]
  },
  {
   "cell_type": "code",
   "execution_count": 13,
   "metadata": {},
   "outputs": [],
   "source": [
    "p_k_sd = [cdf(X_mean + k * sd_X) - cdf(X_mean - k * sd_X) for k in range(1, 4)]"
   ]
  },
  {
   "cell_type": "markdown",
   "metadata": {
    "variables": {
     " '<br>'.join([LResult(r'P_{ ' + str(k+1) + r' \\sigma_X }', p_k_sd[k]) for k in range(len(p_k_sd))]) ": "<p><strong>NameError</strong>: name &#39;p_k_sd&#39; is not defined</p>\n"
    }
   },
   "source": [
    "{{ '<br>'.join([LResult(r'P_{ ' + str(k+1) + r' \\sigma_X }', p_k_sd[k]) for k in range(len(p_k_sd))]) }}"
   ]
  },
  {
   "cell_type": "markdown",
   "metadata": {},
   "source": [
    "## Exercise 11:\n",
    "If the first roll is a six, what's the probability of the sum of the three rolls to be at least 12?"
   ]
  },
  {
   "cell_type": "markdown",
   "metadata": {},
   "source": [
    "Let the value of the three individual rolls be called $X_1, X_2, X_3$, then the question can be formalized as:  \n",
    "$$P(X \\ge 12 \\mid X_1 = 6) = \\frac{P(X \\ge 12 \\cap X_1 = 6)}{P(X_1 = 6)} = \\frac{\\left| X \\ge 12 \\cap X_1 = 6 \\right|}{\\left|X_1 = 6\\right|}$$  \n",
    "Now the number of outcomes with a sum of at least twelve with the first roll being six, is the same as the number of combinations of two dice that sum to six.  \n",
    "The total number of outcomes where the first roll is a six is just the number of possible rolls with the remaining two dice: $2^6$  \n",
    "Using these two facts, the outcome can be calculated as:"
   ]
  },
  {
   "cell_type": "code",
   "execution_count": null,
   "metadata": {},
   "outputs": [],
   "source": []
  }
 ],
 "metadata": {
  "hide_input": false,
  "kernelspec": {
   "display_name": "SageMath 9.2",
   "language": "sage",
   "name": "sagemath"
  },
  "language_info": {
   "codemirror_mode": {
    "name": "ipython",
    "version": 3
   },
   "file_extension": ".py",
   "mimetype": "text/x-python",
   "name": "python",
   "nbconvert_exporter": "python",
   "pygments_lexer": "ipython3",
   "version": "3.8.5"
  }
 },
 "nbformat": 4,
 "nbformat_minor": 4
}
