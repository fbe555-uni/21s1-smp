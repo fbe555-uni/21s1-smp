{
 "cells": [
  {
   "cell_type": "code",
   "execution_count": 32,
   "metadata": {
    "hide_input": true,
    "init_cell": true
   },
   "outputs": [],
   "source": [
    "def LInsertPython(expr, *args, **kwargs):\n",
    "    l_str = expr.format(*args)\n",
    "    if 'centered' in kwargs and kwargs['centered']:\n",
    "        return '$$' + l_str + '$$'\n",
    "    else:\n",
    "        return '$' + l_str + '$'"
   ]
  },
  {
   "cell_type": "markdown",
   "metadata": {},
   "source": [
    "### F21 ETSMP group assignment 3\n",
    "Playing Dice\n",
    "=========="
   ]
  },
  {
   "cell_type": "markdown",
   "metadata": {},
   "source": [
    "In a certain dice game, a single die is rolled thrice and the total number of dots is counted. The stochastic variable X is defined as the sum of the three rolls. The die can be assumed to be fair."
   ]
  },
  {
   "cell_type": "markdown",
   "metadata": {
    "heading_collapsed": true
   },
   "source": [
    "## Excersise 1:\n",
    "How many possibilities are there of $X$ being $3, 4, \\dots, 18$?"
   ]
  },
  {
   "cell_type": "markdown",
   "metadata": {
    "hidden": true,
    "variables": {
     "r'$|S| = 6^3 = {}$'.format(6^3)": "$|S| = 6^3 = 216$"
    }
   },
   "source": [
    "Given three dice rolls, the sample space is the set of combinations of the possible die values $\\{1, 2, \\dots, 6\\}$ with repeats. Since each die-roll doesn't affect the next, this is an ordered experiment with replacement, meaning that {{r'$|S| = 6^3 = {}$'.format(6^3)}}. Alternatively the set of possible outcomes can easily be constructed, and the length tested:\n"
   ]
  },
  {
   "cell_type": "code",
   "execution_count": 33,
   "metadata": {
    "hidden": true
   },
   "outputs": [
    {
     "data": {
      "text/plain": [
       "True"
      ]
     },
     "execution_count": 33,
     "metadata": {},
     "output_type": "execute_result"
    }
   ],
   "source": [
    "S = tuples(range(1, 7), 3)\n",
    "len(S) == 6^3"
   ]
  },
  {
   "cell_type": "markdown",
   "metadata": {
    "hidden": true
   },
   "source": [
    "Now to figure out the number of possibilities to get each of the possible values of $X$, one could iterate over $S$, counting each time the relevant sum occurred:"
   ]
  },
  {
   "cell_type": "code",
   "execution_count": 34,
   "metadata": {
    "hidden": true
   },
   "outputs": [
    {
     "data": {
      "text/plain": [
       "[1, 3, 6, 10, 15, 21, 25, 27, 27, 25, 21, 15, 10, 6, 3, 1]"
      ]
     },
     "execution_count": 34,
     "metadata": {},
     "output_type": "execute_result"
    }
   ],
   "source": [
    "X_pos = [0]*19  # Keeping 0-2 in the list makes it easier to access each sum by it's index\n",
    "for e in S:\n",
    "    X_pos[sum(e)] += 1\n",
    "X_pos[3:]"
   ]
  },
  {
   "cell_type": "markdown",
   "metadata": {
    "hidden": true
   },
   "source": [
    "An alternative way of tackling this problem is asking how many possible integer compositions of length three  and a max element of 6 exist for each sum."
   ]
  },
  {
   "cell_type": "code",
   "execution_count": 35,
   "metadata": {
    "hidden": true
   },
   "outputs": [
    {
     "data": {
      "text/plain": [
       "[1, 3, 6, 10, 15, 21, 25, 27, 27, 25, 21, 15, 10, 6, 3, 1]"
      ]
     },
     "execution_count": 35,
     "metadata": {},
     "output_type": "execute_result"
    }
   ],
   "source": [
    "[Compositions(i, length=3, max_part=6).cardinality() for i in range(3, 19)]"
   ]
  },
  {
   "cell_type": "markdown",
   "metadata": {
    "hidden": true
   },
   "source": [
    "To calculate this a bit more theoretically, the binomial coefficient ${n-1,} \\choose {k-1}$ determines the number of possible compositions of $n$ with length $k$ exist."
   ]
  },
  {
   "cell_type": "code",
   "execution_count": 36,
   "metadata": {
    "hidden": true
   },
   "outputs": [
    {
     "data": {
      "text/plain": [
       "[1, 3, 6, 10, 15, 21, 28, 36, 45, 55, 66, 78, 91, 105, 120, 136]"
      ]
     },
     "execution_count": 36,
     "metadata": {},
     "output_type": "execute_result"
    }
   ],
   "source": [
    "[binomial(i-1,2) for i in range(3, 19)]"
   ]
  },
  {
   "cell_type": "markdown",
   "metadata": {
    "hidden": true
   },
   "source": [
    "It is clear however that this doesn't quite describe the problem as the values start overshooting at the 9 value of 8. This is because at values 9 and above, compositions with values larger than 6 become possible.  \n",
    "To improve this, it can be used that the set must be symmetrical, since dice have their opposite sides arranged so they always sum up to 7. Flipping each die in the one composition of sum 3 would therefore yield the one possible die arrangement that sums to 18, the three combinations yielding 4 can be flipped to 17 and so on."
   ]
  },
  {
   "cell_type": "code",
   "execution_count": 37,
   "metadata": {
    "hidden": true
   },
   "outputs": [
    {
     "data": {
      "text/plain": [
       "[1, 3, 6, 10, 15, 21, 28, 36, 36, 28, 21, 15, 10, 6, 3, 1]"
      ]
     },
     "execution_count": 37,
     "metadata": {},
     "output_type": "execute_result"
    }
   ],
   "source": [
    "X_pos = [binomial(i-1,2) for i in range(3, 11)]\n",
    "X_pos = X_pos + list(reversed(X_pos))\n",
    "X_pos"
   ]
  },
  {
   "cell_type": "markdown",
   "metadata": {
    "hidden": true
   },
   "source": [
    "This way, the only problematic values left are [9, 12], which can be manually corrected. For nine there is three possibilities too many, namely the possible permutations of (1, 1, 7). For ten, we get 9 possibilities too many, the three permutations of (1, 1, 8), plus the 6 permutations of (1, 2, 7). Eleven and twelve are then resolved by the symmetry mentioned above."
   ]
  },
  {
   "cell_type": "code",
   "execution_count": 38,
   "metadata": {
    "hidden": true
   },
   "outputs": [
    {
     "data": {
      "text/plain": [
       "[1, 3, 6, 10, 15, 21, 25, 27, 27, 25, 21, 15, 10, 6, 3, 1]"
      ]
     },
     "execution_count": 38,
     "metadata": {},
     "output_type": "execute_result"
    }
   ],
   "source": [
    "X_pos = [binomial(i-1,2) for i in range(3, 11)]\n",
    "X_pos[9-3] -= 3\n",
    "X_pos[10-3] -= 3 + 6\n",
    "X_pos = X_pos + list(reversed(X_pos))\n",
    "X_pos"
   ]
  },
  {
   "cell_type": "markdown",
   "metadata": {
    "hidden": true
   },
   "source": [
    "Which now matches the results from above."
   ]
  },
  {
   "cell_type": "markdown",
   "metadata": {
    "heading_collapsed": true
   },
   "source": [
    "## Exercise 2:\n",
    "Write and plot the PMF $f(x)$ for $X$"
   ]
  },
  {
   "cell_type": "markdown",
   "metadata": {
    "hidden": true
   },
   "source": [
    "Since the number of occurrences of each of the possible values of X has been calculated, the PMF being defined as the probability for each value of X:  \n",
    "$$P_X(x_k) = P(X=x_k) \\text{ for } k = 0, 1, 2, \\dots, n \\, \\big| \\, |R_X| = n$$  \n",
    "Now since the number of possibilities for each value of X, and the total number of possibilities has been calculated, this can easily be calculated:  \n",
    "$$P_X(x_k) = \\frac{|\\{X=x_k\\}|}{|S|} $$"
   ]
  },
  {
   "cell_type": "code",
   "execution_count": 39,
   "metadata": {
    "hidden": true
   },
   "outputs": [
    {
     "data": {
      "image/png": "[encoded data removed]",
      "text/plain": [
       "Graphics object consisting of 1 graphics primitive"
      ]
     },
     "execution_count": 39,
     "metadata": {},
     "output_type": "execute_result"
    }
   ],
   "source": [
    "def pmf(x):\n",
    "    if 3 <= x <= 18:\n",
    "        return X_pos[x-3]/len(S)\n",
    "    else:\n",
    "        return 0\n",
    "bar_chart([pmf(x) for x in range(20)])"
   ]
  },
  {
   "cell_type": "markdown",
   "metadata": {
    "heading_collapsed": true
   },
   "source": [
    "## Exercise 3:\n",
    "Write and plot the CDF $F(x) \\text{ for } X$"
   ]
  },
  {
   "cell_type": "markdown",
   "metadata": {
    "hidden": true
   },
   "source": [
    "Here the bins of the possibilities are added up, and the CDF will then be very similarly defined"
   ]
  },
  {
   "cell_type": "code",
   "execution_count": 40,
   "metadata": {
    "hidden": true
   },
   "outputs": [
    {
     "data": {
      "image/png": "[encoded data removed]",
      "text/plain": [
       "Graphics object consisting of 1 graphics primitive"
      ]
     },
     "execution_count": 40,
     "metadata": {},
     "output_type": "execute_result"
    }
   ],
   "source": [
    "X_tot_pos = [sum(X_pos[0:i+1]) for i in range(len(X_pos))]\n",
    "def cdf(x):\n",
    "    if x < 3:\n",
    "        return 0\n",
    "    elif x <= 18:\n",
    "        return X_tot_pos[floor(x)-3]/len(S)\n",
    "    else:\n",
    "        return 1\n",
    "plot(cdf, (x, 0, 20))"
   ]
  },
  {
   "cell_type": "markdown",
   "metadata": {
    "heading_collapsed": true
   },
   "source": [
    "## Exercise 4:\n",
    "What's the probability of getting 8?"
   ]
  },
  {
   "cell_type": "markdown",
   "metadata": {
    "hidden": true,
    "variables": {
     "r'$f_X(8) = {} \\approx {} $'.format(pmf(8), n(pmf(8), digits=3))": "$f_X(8) = 7/72 \\approx 0.0972 $"
    }
   },
   "source": [
    "By definition the PMF gives the probability of a given outcome, and so this can be found by taking {{r'$f_X(8) = {} \\approx {} $'.format(pmf(8), n(pmf(8), digits=3))}}"
   ]
  },
  {
   "cell_type": "markdown",
   "metadata": {
    "heading_collapsed": true
   },
   "source": [
    "## Exercise 5:\n",
    "What's the probability of getting at least 12?"
   ]
  },
  {
   "cell_type": "markdown",
   "metadata": {
    "hidden": true,
    "variables": {
     "r'$$ P(X \\ge 12) = 1 - F_X(11) = {} \\approx {} $$'.format(1-cdf(11), n(1-cdf(11), digits=3))": "$$ P(X \\ge 12) = 1 - F_X(11) = 3/8 \\approx 0.375 $$"
    }
   },
   "source": [
    "The CDF is defined as the probability of X being less than or equal to a value.  \n",
    "$$ F_X(x) = P(X \\le x) \\text{ for } X \\in \\Bbb R $$  \n",
    "Combining this with the probability of the complement of the event  \n",
    "$$ P(E^c) = 1 - P(E) $$  \n",
    "The probability of getting a value greater than or equal to x can thus be defined as  \n",
    "$$ P(X \\ge x) = 1 - P(X \\lt x) $$  \n",
    "now since X is a discrete variable $X \\lt x \\Leftrightarrow X \\le x-1$, which then leads us to  \n",
    "$$P(X \\ge x) = 1 - F_X(x-1)$$  \n",
    "{{r'$$ P(X \\ge 12) = 1 - F_X(11) = {} \\approx {} $$'.format(1-cdf(11), n(1-cdf(11), digits=3))}}\n"
   ]
  },
  {
   "cell_type": "markdown",
   "metadata": {
    "heading_collapsed": true
   },
   "source": [
    "## Exercise 6:\n",
    "What's the probability of getting at least 9 and at most 15?"
   ]
  },
  {
   "cell_type": "markdown",
   "metadata": {
    "hidden": true,
    "variables": {
     "r'$$ P(9 \\le X \\le 15) = F_X(15) - F_X(8) = {} \\approx {} $$'.format(cdf(15)-cdf(8), n(cdf(15)-cdf(8), digits=3))": "$$ P(9 \\le X \\le 15) = F_X(15) - F_X(8) = 25/36 \\approx 0.694 $$"
    }
   },
   "source": [
    "Here the fact that  \n",
    "$$ P(a \\lt X \\le b) = F_X(b) - F_X(a) $$  \n",
    "can be used, letting $a = 9-1$ to achieve the $\\le$ relation desired:  \n",
    "{{r'$$ P(9 \\le X \\le 15) = F_X(15) - F_X(8) = {} \\approx {} $$'.format(cdf(15)-cdf(8), n(cdf(15)-cdf(8), digits=3))}}"
   ]
  },
  {
   "cell_type": "markdown",
   "metadata": {
    "heading_collapsed": true
   },
   "source": [
    "## Exercise 7:\n",
    "What's the probability of getting less than 4 or more than 16?"
   ]
  },
  {
   "cell_type": "markdown",
   "metadata": {
    "hidden": true,
    "variables": {
     "ans = cdf(3) + 1 - cdf(16); r'$$ P(X \\lt 4 \\lor X \\gt 16) = F_X(3) + 1 - F_X(16) = {} \\approx {} $$'.format(ans, n(ans, digits=3))": "$$ P(X \\lt 4 \\lor X \\gt 16) = F_X(3) + 1 - F_X(16) = 5/216 \\approx 0.0231 $$"
    }
   },
   "source": [
    "Since all values are disjoint events, and the two specified ranges aren't overlapping, the probability  \n",
    "$$ P(X \\lt 4 \\lor X \\gt 16) = P(X \\lt 4) + P(X \\gt 16) $$\n",
    "Using the same methods as the previous two exercises, this can be formulated as follows  \n",
    "{{ans = cdf(3) + 1 - cdf(16); r'$$ P(X \\lt 4 \\lor X \\gt 16) = F_X(3) + 1 - F_X(16) = {} \\approx {} $$'.format(ans, n(ans, digits=3))}}"
   ]
  },
  {
   "cell_type": "markdown",
   "metadata": {
    "heading_collapsed": true
   },
   "source": [
    "## Exercise 8:\n",
    "What's the average sum one can expect to get?"
   ]
  },
  {
   "cell_type": "markdown",
   "metadata": {
    "hidden": true
   },
   "source": [
    "From the definition of the mean of a random variable  \n",
    "$$ EX = \\sum_{x_k \\in R_X}{x_k P(X = x_k)} = \\sum_{x_k \\in R_X}{x_k P_X(x_k)} $$  \n",
    "The mean $EX$ can be calculated as follows:"
   ]
  },
  {
   "cell_type": "code",
   "execution_count": 41,
   "metadata": {
    "hidden": true
   },
   "outputs": [],
   "source": [
    "X_mean = sum([x * pmf(x) for x in range(3, 19)])"
   ]
  },
  {
   "cell_type": "markdown",
   "metadata": {
    "hidden": true,
    "variables": {
     "r'$EX = {} \\approx {} $'.format(X_mean, n(X_mean, digits=3))": "$EX = 21/2 \\approx 10.5 $"
    }
   },
   "source": [
    "yielding {{r'$EX = {} \\approx {} $'.format(X_mean, n(X_mean, digits=3))}}"
   ]
  },
  {
   "cell_type": "markdown",
   "metadata": {
    "heading_collapsed": true
   },
   "source": [
    "## Exercise 9:\n",
    "What's the variance $\\sigma^2$ and standard deviation $\\sigma$ of X? "
   ]
  },
  {
   "cell_type": "markdown",
   "metadata": {
    "hidden": true
   },
   "source": [
    "Using the computational formula of variance\n",
    "$$ Var(X)=E[X^2]-(EX)^2 $$  \n",
    "The variance is easily calculated by the same principle as the mean above"
   ]
  },
  {
   "cell_type": "code",
   "execution_count": 53,
   "metadata": {
    "hidden": true
   },
   "outputs": [],
   "source": [
    "Var_X = sum([x^2 * pmf(x) for x in range(3, 19)]) - X_mean^2\n",
    "SD_X = sqrt(Var_X)"
   ]
  },
  {
   "cell_type": "markdown",
   "metadata": {
    "hidden": true,
    "variables": {
     " r'<span class=\"MathJax_Preview\" style=\"color: inherit;\"><span class=\"MJXp-math\" id=\"MJXp-Span-2777\"><span class=\"MJXp-mrow\" id=\"MJXp-Span-2778\"></span><span class=\"MJXp-mo\" id=\"MJXp-Span-2779\" style=\"margin-left: 0.333em; margin-right: 0.333em;\">≈</span><span class=\"MJXp-mrow\" id=\"MJXp-Span-2780\"></span></span></span><script type=\"math/tex\" id=\"MathJax-Element-152\">{} \\approx {}</script>'.format(SD_X, n(SD_X, digits=3))": "<span class=\"MathJax_Preview\" style=\"color: inherit;\"><span class=\"MJXp-math\" id=\"MJXp-Span-2777\"><span class=\"MJXp-mrow\" id=\"MJXp-Span-2778\"></span><span class=\"MJXp-mo\" id=\"MJXp-Span-2779\" style=\"margin-left: 0.333em; margin-right: 0.333em;\">≈</span><span class=\"MJXp-mrow\" id=\"MJXp-Span-2780\"></span></span></span><script type=\"math/tex\" id=\"MathJax-Element-152\">1/2*sqrt(35) \\approx 2.96</script>",
     "r'<span class=\"MathJax_Preview\" style=\"color: inherit;\"><span class=\"MJXp-math\" id=\"MJXp-Span-2751\"><span class=\"MJXp-mi MJXp-italic\" id=\"MJXp-Span-2752\">V</span><span class=\"MJXp-mi MJXp-italic\" id=\"MJXp-Span-2753\">a</span><span class=\"MJXp-mi MJXp-italic\" id=\"MJXp-Span-2754\">r</span><span class=\"MJXp-mo\" id=\"MJXp-Span-2755\" style=\"margin-left: 0em; margin-right: 0em;\">(</span><span class=\"MJXp-mi MJXp-italic\" id=\"MJXp-Span-2756\">X</span><span class=\"MJXp-mo\" id=\"MJXp-Span-2757\" style=\"margin-left: 0em; margin-right: 0em;\">)</span><span class=\"MJXp-mo\" id=\"MJXp-Span-2758\" style=\"margin-left: 0.333em; margin-right: 0.333em;\">=</span><span class=\"MJXp-mrow\" id=\"MJXp-Span-2759\"></span><span class=\"MJXp-mo\" id=\"MJXp-Span-2760\" style=\"margin-left: 0.333em; margin-right: 0.333em;\">≈</span><span class=\"MJXp-mrow\" id=\"MJXp-Span-2761\"></span></span></span><script type=\"math/tex\" id=\"MathJax-Element-150\">Var(X) = {} \\approx {}</script>'.format(Var_X, n(Var_X, digits=3))": "<span class=\"MathJax_Preview\" style=\"color: inherit;\"><span class=\"MJXp-math\" id=\"MJXp-Span-2751\"><span class=\"MJXp-mi MJXp-italic\" id=\"MJXp-Span-2752\">V</span><span class=\"MJXp-mi MJXp-italic\" id=\"MJXp-Span-2753\">a</span><span class=\"MJXp-mi MJXp-italic\" id=\"MJXp-Span-2754\">r</span><span class=\"MJXp-mo\" id=\"MJXp-Span-2755\" style=\"margin-left: 0em; margin-right: 0em;\">(</span><span class=\"MJXp-mi MJXp-italic\" id=\"MJXp-Span-2756\">X</span><span class=\"MJXp-mo\" id=\"MJXp-Span-2757\" style=\"margin-left: 0em; margin-right: 0em;\">)</span><span class=\"MJXp-mo\" id=\"MJXp-Span-2758\" style=\"margin-left: 0.333em; margin-right: 0.333em;\">=</span><span class=\"MJXp-mrow\" id=\"MJXp-Span-2759\"></span><span class=\"MJXp-mo\" id=\"MJXp-Span-2760\" style=\"margin-left: 0.333em; margin-right: 0.333em;\">≈</span><span class=\"MJXp-mrow\" id=\"MJXp-Span-2761\"></span></span></span><script type=\"math/tex\" id=\"MathJax-Element-150\">Var(X) = 35/4 \\approx 8.75</script>"
    }
   },
   "source": [
    "Giving {{r'$Var(X) = {} \\approx {}$'.format(Var_X, n(Var_X, digits=3))}}.  \n",
    "Knowing the variance, the standard deviation is easily found as $SD(X) = \\sqrt{Var(X)} =$ {{ r'${} \\approx {}$'.format(SD_X, n(SD_X, digits=3))}}  \n"
   ]
  },
  {
   "cell_type": "markdown",
   "metadata": {
    "heading_collapsed": true
   },
   "source": [
    "## Exercise 10:\n",
    "What's the probability that the sum is withing 1, 2, and 3 standard deviations of the mean (that is $P(\\mu_X - k \\sigma_X <= X <= \\mu_X + k \\sigma_X) \\text{ for } k = {1, 2, 3} $)?"
   ]
  },
  {
   "cell_type": "markdown",
   "metadata": {
    "hidden": true
   },
   "source": [
    "This can be calculated using the method from Exercise 6:"
   ]
  },
  {
   "cell_type": "code",
   "execution_count": 56,
   "metadata": {
    "hidden": true
   },
   "outputs": [
    {
     "data": {
      "text/plain": [
       "[0.745, 0.977, 1.00]"
      ]
     },
     "execution_count": 56,
     "metadata": {},
     "output_type": "execute_result"
    }
   ],
   "source": [
    "[n(cdf(X_mean + i * SD_X) - cdf(X_mean - i * SD_X - 1), digits=3) for i in range(1, 4)]"
   ]
  },
  {
   "cell_type": "markdown",
   "metadata": {},
   "source": [
    "## Exercise 11:\n",
    "If the first roll is a six, what's the probability of the total sum being being at least 12?"
   ]
  },
  {
   "cell_type": "markdown",
   "metadata": {},
   "source": [
    "Naming the three rolls X_1, X_2, X_3, and using the definition of conditional probability:  \n",
    "$$P(X \\ge 12 \\mid X_1 = 6) = \\frac{P(X \\ge 12 \\cap X_1 = 6)}{P(X_1 = 6)} = \\frac{N_{X \\ge 12 \\cap X_1 = 6} }{N_{X_1=6} }$$  \n",
    "Since the number of outcomes where one die is a certain number includes all combinations of the other two dice, $N_{X_1=6} = 6^2$, and the calculation can be performed as follows:"
   ]
  },
  {
   "cell_type": "code",
   "execution_count": 61,
   "metadata": {},
   "outputs": [],
   "source": [
    "P = [outcome[0] == 6 and sum(outcome) >= 12 for outcome in S].count(True)/6^2"
   ]
  },
  {
   "cell_type": "markdown",
   "metadata": {
    "variables": {
     "r'<span class=\"MathJax_Preview\" style=\"color: inherit;\"><span class=\"MJXp-math\" id=\"MJXp-Span-3547\"><span class=\"MJXp-mi MJXp-italic\" id=\"MJXp-Span-3548\">P</span><span class=\"MJXp-mo\" id=\"MJXp-Span-3549\" style=\"margin-left: 0em; margin-right: 0em;\">(</span><span class=\"MJXp-mi MJXp-italic\" id=\"MJXp-Span-3550\">X</span><span class=\"MJXp-mo\" id=\"MJXp-Span-3551\" style=\"margin-left: 0.333em; margin-right: 0.333em;\">≥</span><span class=\"MJXp-mn\" id=\"MJXp-Span-3552\">12</span><span class=\"MJXp-mo\" id=\"MJXp-Span-3553\" style=\"margin-left: 0.333em; margin-right: 0.333em;\">∣</span><span class=\"MJXp-msubsup\" id=\"MJXp-Span-3554\"><span class=\"MJXp-mi MJXp-italic\" id=\"MJXp-Span-3555\" style=\"margin-right: 0.05em;\">X</span><span class=\"MJXp-mn MJXp-script\" id=\"MJXp-Span-3556\" style=\"vertical-align: -0.4em;\">1</span></span><span class=\"MJXp-mo\" id=\"MJXp-Span-3557\" style=\"margin-left: 0.333em; margin-right: 0.333em;\">=</span><span class=\"MJXp-mn\" id=\"MJXp-Span-3558\">6</span><span class=\"MJXp-mo\" id=\"MJXp-Span-3559\" style=\"margin-left: 0em; margin-right: 0em;\">)</span><span class=\"MJXp-mo\" id=\"MJXp-Span-3560\" style=\"margin-left: 0.333em; margin-right: 0.333em;\">=</span><span class=\"MJXp-mrow\" id=\"MJXp-Span-3561\"></span><span class=\"MJXp-mo\" id=\"MJXp-Span-3562\" style=\"margin-left: 0.333em; margin-right: 0.333em;\">≈</span><span class=\"MJXp-mrow\" id=\"MJXp-Span-3563\"></span></span></span><script type=\"math/tex\" id=\"MathJax-Element-179\">P(X \\ge 12 \\mid X_1 = 6) = {} \\approx {}</script>'.format(P, n(P, digits=3))": "<span class=\"MathJax_Preview\" style=\"color: inherit;\"><span class=\"MJXp-math\" id=\"MJXp-Span-3547\"><span class=\"MJXp-mi MJXp-italic\" id=\"MJXp-Span-3548\">P</span><span class=\"MJXp-mo\" id=\"MJXp-Span-3549\" style=\"margin-left: 0em; margin-right: 0em;\">(</span><span class=\"MJXp-mi MJXp-italic\" id=\"MJXp-Span-3550\">X</span><span class=\"MJXp-mo\" id=\"MJXp-Span-3551\" style=\"margin-left: 0.333em; margin-right: 0.333em;\">≥</span><span class=\"MJXp-mn\" id=\"MJXp-Span-3552\">12</span><span class=\"MJXp-mo\" id=\"MJXp-Span-3553\" style=\"margin-left: 0.333em; margin-right: 0.333em;\">∣</span><span class=\"MJXp-msubsup\" id=\"MJXp-Span-3554\"><span class=\"MJXp-mi MJXp-italic\" id=\"MJXp-Span-3555\" style=\"margin-right: 0.05em;\">X</span><span class=\"MJXp-mn MJXp-script\" id=\"MJXp-Span-3556\" style=\"vertical-align: -0.4em;\">1</span></span><span class=\"MJXp-mo\" id=\"MJXp-Span-3557\" style=\"margin-left: 0.333em; margin-right: 0.333em;\">=</span><span class=\"MJXp-mn\" id=\"MJXp-Span-3558\">6</span><span class=\"MJXp-mo\" id=\"MJXp-Span-3559\" style=\"margin-left: 0em; margin-right: 0em;\">)</span><span class=\"MJXp-mo\" id=\"MJXp-Span-3560\" style=\"margin-left: 0.333em; margin-right: 0.333em;\">=</span><span class=\"MJXp-mrow\" id=\"MJXp-Span-3561\"></span><span class=\"MJXp-mo\" id=\"MJXp-Span-3562\" style=\"margin-left: 0.333em; margin-right: 0.333em;\">≈</span><span class=\"MJXp-mrow\" id=\"MJXp-Span-3563\"></span></span></span><script type=\"math/tex\" id=\"MathJax-Element-179\">P(X \\ge 12 \\mid X_1 = 6) = 13/18 \\approx 0.722</script>"
    }
   },
   "source": [
    "So {{r'$P(X \\ge 12 \\mid X_1 = 6) = {} \\approx {}$'.format(P, n(P, digits=3))}}"
   ]
  },
  {
   "cell_type": "markdown",
   "metadata": {},
   "source": [
    "## Exercise 12:\n"
   ]
  }
 ],
 "metadata": {
  "hide_input": false,
  "kernelspec": {
   "display_name": "SageMath 9.2",
   "language": "sage",
   "name": "sagemath"
  },
  "language_info": {
   "codemirror_mode": {
    "name": "ipython",
    "version": 3
   },
   "file_extension": ".py",
   "mimetype": "text/x-python",
   "name": "python",
   "nbconvert_exporter": "python",
   "pygments_lexer": "ipython3",
   "version": "3.8.5"
  }
 },
 "nbformat": 4,
 "nbformat_minor": 4
}
