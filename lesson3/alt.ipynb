{
 "cells": [
  {
   "cell_type": "code",
   "execution_count": 14,
   "metadata": {
    "hide_input": true
   },
   "outputs": [],
   "source": [
    "def LResult(name, var, digits=3):\n",
    "    return r'${} = {} \\approx {}$'.format(name, var, n(var, digits=digits))"
   ]
  },
  {
   "cell_type": "markdown",
   "metadata": {},
   "source": [
    "### F21 ETSMP group assignment 3\n",
    "Playing Dice\n",
    "=========="
   ]
  },
  {
   "cell_type": "markdown",
   "metadata": {},
   "source": [
    "In a certain dice game, a single die is rolled thrice and the total number of dots is counted. The stochastic variable X is defined as the sum of the three rolls. The die can be assumed to be fair."
   ]
  },
  {
   "cell_type": "markdown",
   "metadata": {
    "heading_collapsed": true
   },
   "source": [
    "## Excersise 1:\n",
    "How many possibilities are there of $X$ being $3, 4, \\dots, 18$?"
   ]
  },
  {
   "cell_type": "markdown",
   "metadata": {
    "hidden": true
   },
   "source": [
    "Given three dice rolls, the sample space is the set of combinations of the possible die values $\\{1, 2, \\dots, 6\\}$ with repeats. Since each die-roll doesn't affect the next, this is an ordered experiment with replacement, meaning that $|S| = 6^3$. \n"
   ]
  },
  {
   "cell_type": "code",
   "execution_count": 15,
   "metadata": {
    "hidden": true
   },
   "outputs": [
    {
     "data": {
      "text/html": [
       "<html><script type=\"math/tex; mode=display\">\\newcommand{\\Bold}[1]{\\mathbf{#1}}\\verb\"|S|\"\\phantom{\\verb!x!}\\verb\"=\"\\phantom{\\verb!x!}\\verb\"6^3\"\\phantom{\\verb!x!}\\verb\"=\"\\phantom{\\verb!x!}\\verb\"216\"</script></html>"
      ],
      "text/latex": [
       "\\begin{math}\n",
       "\\newcommand{\\Bold}[1]{\\mathbf{#1}}\\verb\"|S|\"\\phantom{\\verb!x!}\\verb\"=\"\\phantom{\\verb!x!}\\verb\"6^3\"\\phantom{\\verb!x!}\\verb\"=\"\\phantom{\\verb!x!}\\verb\"216\"\n",
       "\\end{math}"
      ],
      "text/plain": [
       "'|S| = 6^3 = 216'"
      ]
     },
     "metadata": {},
     "output_type": "display_data"
    },
    {
     "data": {
      "text/plain": [
       "True"
      ]
     },
     "execution_count": 15,
     "metadata": {},
     "output_type": "execute_result"
    }
   ],
   "source": [
    "S = tuples(range(1, 7), 3)\n",
    "show('|S| = 6^3 = {}'.format(6^3))\n",
    "len(S) == 6^3"
   ]
  },
  {
   "cell_type": "markdown",
   "metadata": {
    "hidden": true
   },
   "source": [
    "Now to figure out the number of possibilities to get each of the possible values of $X$, one could iterate over $S$, counting each time the relevant sum occurred:"
   ]
  },
  {
   "cell_type": "code",
   "execution_count": 16,
   "metadata": {
    "hidden": true
   },
   "outputs": [
    {
     "data": {
      "text/plain": [
       "[1, 3, 6, 10, 15, 21, 25, 27, 27, 25, 21, 15, 10, 6, 3, 1]"
      ]
     },
     "execution_count": 16,
     "metadata": {},
     "output_type": "execute_result"
    }
   ],
   "source": [
    "X_pos = [0]*19  # Keeping 0-2 in the list makes it easier to access each sum by it's index\n",
    "for e in S:\n",
    "    X_pos[sum(e)] += 1\n",
    "X_pos[3:]"
   ]
  },
  {
   "cell_type": "markdown",
   "metadata": {
    "hidden": true
   },
   "source": [
    "An alternative way of tackling this problem is asking how many possible integer compositions of length three  and a max element of 6 exist for each sum."
   ]
  },
  {
   "cell_type": "code",
   "execution_count": 17,
   "metadata": {
    "hidden": true
   },
   "outputs": [
    {
     "data": {
      "text/plain": [
       "[1, 3, 6, 10, 15, 21, 25, 27, 27, 25, 21, 15, 10, 6, 3, 1]"
      ]
     },
     "execution_count": 17,
     "metadata": {},
     "output_type": "execute_result"
    }
   ],
   "source": [
    "[Compositions(i, length=3, max_part=6).cardinality() for i in range(3, 19)]"
   ]
  },
  {
   "cell_type": "markdown",
   "metadata": {
    "hidden": true
   },
   "source": [
    "To calculate this a bit more theoretically, the binomial coefficient ${n-1,} \\choose {k-1}$ determines the number of possible compositions of $n$ with length $k$ exist."
   ]
  },
  {
   "cell_type": "code",
   "execution_count": 18,
   "metadata": {
    "hidden": true
   },
   "outputs": [
    {
     "data": {
      "text/plain": [
       "[1, 3, 6, 10, 15, 21, 28, 36, 45, 55, 66, 78, 91, 105, 120, 136]"
      ]
     },
     "execution_count": 18,
     "metadata": {},
     "output_type": "execute_result"
    }
   ],
   "source": [
    "[binomial(i-1,2) for i in range(3, 19)]"
   ]
  },
  {
   "cell_type": "markdown",
   "metadata": {
    "hidden": true
   },
   "source": [
    "It is clear however that this doesn't quite describe the problem as the values start overshooting at the 9 value of 8. This is because at values 9 and above, compositions with values larger than 6 become possible.  \n",
    "To improve this, it can be used that the set must be symmetrical, since dice have their opposite sides arranged so they always sum up to 7. Flipping each die in the one composition of sum 3 would therefore yield the one possible die arrangement that sums to 18, the three combinations yielding 4 can be flipped to 17 and so on."
   ]
  },
  {
   "cell_type": "code",
   "execution_count": 19,
   "metadata": {
    "hidden": true
   },
   "outputs": [
    {
     "data": {
      "text/plain": [
       "[1, 3, 6, 10, 15, 21, 28, 36, 36, 28, 21, 15, 10, 6, 3, 1]"
      ]
     },
     "execution_count": 19,
     "metadata": {},
     "output_type": "execute_result"
    }
   ],
   "source": [
    "X_pos = [binomial(i-1,2) for i in range(3, 11)]\n",
    "X_pos = X_pos + list(reversed(X_pos))\n",
    "X_pos"
   ]
  },
  {
   "cell_type": "markdown",
   "metadata": {
    "hidden": true
   },
   "source": [
    "This way, the only problematic values left are [9, 12], which can be manually corrected. For nine there is three possibilities too many, namely the possible permutations of (1, 1, 7). For ten, we get 9 possibilities too many, the three permutations of (1, 1, 8), plus the 6 permutations of (1, 2, 7). Eleven and twelve are then resolved by the symmetry mentioned above."
   ]
  },
  {
   "cell_type": "code",
   "execution_count": 20,
   "metadata": {
    "hidden": true
   },
   "outputs": [
    {
     "data": {
      "text/plain": [
       "[1, 3, 6, 10, 15, 21, 25, 27, 27, 25, 21, 15, 10, 6, 3, 1]"
      ]
     },
     "execution_count": 20,
     "metadata": {},
     "output_type": "execute_result"
    }
   ],
   "source": [
    "X_pos = [binomial(i-1,2) for i in range(3, 11)]\n",
    "X_pos[9-3] -= 3\n",
    "X_pos[10-3] -= 3 + 6\n",
    "X_pos = X_pos + list(reversed(X_pos))\n",
    "X_pos"
   ]
  },
  {
   "cell_type": "markdown",
   "metadata": {
    "hidden": true
   },
   "source": [
    "Which now matches the results from above."
   ]
  },
  {
   "cell_type": "markdown",
   "metadata": {
    "heading_collapsed": true
   },
   "source": [
    "## Exercise 2:\n",
    "Write and plot the PMF $f(x)$ for $X$"
   ]
  },
  {
   "cell_type": "markdown",
   "metadata": {
    "hidden": true
   },
   "source": [
    "Since the number of occurrences of each of the possible values of X has been calculated, the PMF being defined as the probability for each value of X:  \n",
    "$$P_X(x_k) = P(X=x_k) \\text{ for } k = 0, 1, 2, \\dots, n \\, \\big| \\, |R_X| = n$$  \n",
    "Now since the number of possibilities for each value of X, and the total number of possibilities has been calculated, this can easily be calculated:  \n",
    "$$P_X(x_k) = \\frac{|\\{X=x_k\\}|}{|S|} $$"
   ]
  },
  {
   "cell_type": "code",
   "execution_count": 21,
   "metadata": {
    "hidden": true
   },
   "outputs": [
    {
     "data": {
      "image/png": "[encoded data removed]",
      "text/plain": [
       "Graphics object consisting of 1 graphics primitive"
      ]
     },
     "execution_count": 21,
     "metadata": {},
     "output_type": "execute_result"
    }
   ],
   "source": [
    "def pmf(x):\n",
    "    if 3 <= x <= 18:\n",
    "        return X_pos[x-3]/len(S)\n",
    "    else:\n",
    "        return 0\n",
    "bar_chart([pmf(x) for x in range(20)])"
   ]
  },
  {
   "cell_type": "markdown",
   "metadata": {
    "heading_collapsed": true
   },
   "source": [
    "## Exercise 3:\n",
    "Write and plot the CDF $F(x) \\text{ for } X$"
   ]
  },
  {
   "cell_type": "markdown",
   "metadata": {
    "hidden": true
   },
   "source": [
    "Here the bins of the possibilities are added up, and the CDF will then be very similarly defined"
   ]
  },
  {
   "cell_type": "code",
   "execution_count": 22,
   "metadata": {
    "hidden": true
   },
   "outputs": [
    {
     "data": {
      "image/png": "[encoded data removed]",
      "text/plain": [
       "Graphics object consisting of 1 graphics primitive"
      ]
     },
     "execution_count": 22,
     "metadata": {},
     "output_type": "execute_result"
    }
   ],
   "source": [
    "X_tot_pos = [sum(X_pos[0:i+1]) for i in range(len(X_pos))]\n",
    "def cdf(x):\n",
    "    if x < 3:\n",
    "        return 0\n",
    "    elif x <= 18:\n",
    "        return X_tot_pos[floor(x)-3]/len(S)\n",
    "    else:\n",
    "        return 1\n",
    "plot(cdf, (x, 0, 20))"
   ]
  },
  {
   "cell_type": "markdown",
   "metadata": {
    "heading_collapsed": true
   },
   "source": [
    "## Exercise 4:\n",
    "What's the probability of getting 8?"
   ]
  },
  {
   "cell_type": "markdown",
   "metadata": {
    "hidden": true,
    "variables": {
     "r'$f_X(8) = {} \\approx {} $'.format(pmf(8), n(pmf(8), digits=2))": "$f_X(8) = 7/72 \\approx 0.097 $"
    }
   },
   "source": [
    "By definition the PMF gives the probability of a given outcome, and so this can be found by taking {{r'$f_X(8) = {} \\approx {} $'.format(pmf(8), n(pmf(8), digits=2))}}"
   ]
  },
  {
   "cell_type": "markdown",
   "metadata": {
    "heading_collapsed": true
   },
   "source": [
    "## Exercise 5:\n",
    "What's the probability of getting at least 12?"
   ]
  },
  {
   "cell_type": "markdown",
   "metadata": {
    "hidden": true,
    "variables": {
     "r'$$ P(X \\ge 12) = 1 - F_X(11) = {} \\approx {} $$'.format(1-cdf(11), n(1-cdf(11), digits=2))": "$$ P(X \\ge 12) = 1 - F_X(11) = 3/8 \\approx 0.38 $$"
    }
   },
   "source": [
    "The CDF is defined as the probability of X being less than or equal to a value.  \n",
    "$$ F_X(x) = P(X \\le x) \\text{ for } X \\in \\Bbb R $$  \n",
    "Combining this with the probability of the complement of the event  \n",
    "$$ P(E^c) = 1 - P(E) $$  \n",
    "The probability of getting a value greater than or equal to x can thus be defined as  \n",
    "$$ P(X \\ge x) = 1 - P(X \\lt x) $$  \n",
    "now since X is a discrete variable $X \\lt x \\Leftrightarrow X \\le x-1$, which then leads us to  \n",
    "$$P(X \\ge x) = 1 - F_X(x-1)$$  \n",
    "{{r'$$ P(X \\ge 12) = 1 - F_X(11) = {} \\approx {} $$'.format(1-cdf(11), n(1-cdf(11), digits=2))}}\n"
   ]
  },
  {
   "cell_type": "markdown",
   "metadata": {},
   "source": [
    "## Exercise 6:\n",
    "What's the probability of getting at least 9 and at most 15?"
   ]
  },
  {
   "cell_type": "markdown",
   "metadata": {
    "variables": {
     "r'$$ P(9 \\le X \\le 15) = F_X(15) - F_X(8) = {} \\approx {} $$'.format(cdf(15)-cdf(8), n(cdf(15)-cdf(8), digits=2))": "$$ P(9 \\le X \\le 15) = F_X(15) - F_X(8) = 25/36 \\approx 0.69 $$"
    }
   },
   "source": [
    "Here the fact that  \n",
    "$$ P(a \\lt X \\le b) = F_X(b) - F_X(a) $$  \n",
    "can be used, letting $a = 9-1$ to achieve the $\\le$ relation desired:  \n",
    "{{r'$$ P(9 \\le X \\le 15) = F_X(15) - F_X(8) = {} \\approx {} $$'.format(cdf(15)-cdf(8), n(cdf(15)-cdf(8), digits=2))}}"
   ]
  },
  {
   "cell_type": "markdown",
   "metadata": {},
   "source": [
    "## Exercise 7:\n",
    "What's the probability of getting less than 4 or more than 16?"
   ]
  },
  {
   "cell_type": "markdown",
   "metadata": {
    "variables": {
     "ans = cdf(3) + 1 - cdf(16); r'$$ P(X \\lt 4 \\lor X \\gt 16) = F_X(3) + 1 - F_X(16) = {} \\approx {} $$'.format(ans, n(ans, digits=2))": "$$ P(X \\lt 4 \\lor X \\gt 16) = F_X(3) + 1 - F_X(16) = 5/216 \\approx 0.023 $$"
    }
   },
   "source": [
    "Since all values are disjoint events, and the two specified ranges aren't overlapping, the probability  \n",
    "$$ P(X \\lt 4 \\lor X \\gt 16) = P(X \\lt 4) + P(X \\gt 16) $$\n",
    "Using the same methods as the previous two exercises, this can be formulated as follows  \n",
    "{{ans = cdf(3) + 1 - cdf(16); r'$$ P(X \\lt 4 \\lor X \\gt 16) = F_X(3) + 1 - F_X(16) = {} \\approx {} $$'.format(ans, n(ans, digits=2))}}"
   ]
  },
  {
   "cell_type": "markdown",
   "metadata": {},
   "source": [
    "## Exercise 8:\n",
    "What's the average sum one can expect to get?"
   ]
  },
  {
   "cell_type": "markdown",
   "metadata": {},
   "source": [
    "From the definition of the mean of a random variable  \n",
    "$$ EX = \\sum_{x_k \\in R_X}{x_k P(X = x_k)} = \\sum_{x_k \\in R_X}{x_k P_X(x_k)} $$  \n",
    "The mean $EX$ can be calculated as follows:"
   ]
  },
  {
   "cell_type": "code",
   "execution_count": 30,
   "metadata": {},
   "outputs": [],
   "source": [
    "X_mean = sum([x * pmf(x) for x in range(3, 19)])"
   ]
  },
  {
   "cell_type": "markdown",
   "metadata": {
    "variables": {
     "LResult(r'\\mu_X', X_mean)": "$\\mu_X = 21/2 \\approx 10.5$"
    }
   },
   "source": [
    "yielding {{LResult(r'\\mu_X', X_mean)}}"
   ]
  },
  {
   "cell_type": "markdown",
   "metadata": {},
   "source": [
    "## Exercise 9:\n",
    "What's the variance $\\sigma^2$ and standard deviation $\\sigma$ of $X$? "
   ]
  },
  {
   "cell_type": "markdown",
   "metadata": {},
   "source": [
    "Using the definition of the variance  \n",
    "$$ Var(X) = E\\left[\\left(X - \\mu_X\\right)^2\\right] = E\\left[X^2\\right] - \\mu_X^2 $$  \n",
    "The variance can be calculated, and from that, the standard deviation:  \n",
    "$$ SD(X) = \\sqrt{Var(X)} $$"
   ]
  },
  {
   "cell_type": "code",
   "execution_count": 29,
   "metadata": {},
   "outputs": [],
   "source": [
    "var_X = sum([x^2 * pmf(x) for x in range(3, 19)]) - X_mean^2\n",
    "sd_X = sqrt(var_X)"
   ]
  },
  {
   "cell_type": "markdown",
   "metadata": {
    "variables": {
     "LResult('SD(X)', sd_X)": "$SD(X) = 1/2*sqrt(35) \\approx 2.96$",
     "LResult('Var(X)', var_X)": "$Var(X) = 35/4 \\approx 8.75$"
    }
   },
   "source": [
    "Which computes to:  \n",
    "{{LResult('Var(X)', var_X)}}  \n",
    "{{LResult('SD(X)', sd_X)}} "
   ]
  },
  {
   "cell_type": "markdown",
   "metadata": {},
   "source": [
    "## Exercise 10:\n",
    "What's the probability that the sum is within 1, 2, and 3 standard deviations of the mean?  "
   ]
  },
  {
   "cell_type": "markdown",
   "metadata": {},
   "source": [
    "This can be expressed as  \n",
    "$P \\left( \\mu_X - k \\sigma_X \\le X \\le \\mu_X + k \\sigma_X \\right) \\text{ for } k \\in [1, 2, 3] $  \n",
    "or using the CDF:  \n",
    "$F_X \\left( \\mu_X + k \\sigma_X \\right) - F_X \\left( \\mu_X - k \\sigma_X - 1 \\right) \\text{ for } k \\in [1, 2, 3] $  "
   ]
  },
  {
   "cell_type": "code",
   "execution_count": 33,
   "metadata": {},
   "outputs": [],
   "source": [
    "p_k_sd = [cdf(X_mean + k * sd_X) - cdf(X_mean - k * sd_X - 1) for k in range(1, 4)]"
   ]
  },
  {
   "cell_type": "markdown",
   "metadata": {
    "variables": {
     " '<br>'.join([LResult(r'P_{ ' + str(k+1) + r' \\sigma_X }', p_k_sd[k]) for k in range(len(p_k_sd))]) ": "$P_{ 1 \\sigma_X } = 161/216 \\approx 0.745$<br>$P_{ 2 \\sigma_X } = 211/216 \\approx 0.977$<br>$P_{ 3 \\sigma_X } = 1 \\approx 1.00$"
    }
   },
   "source": [
    "{{ '<br>'.join([LResult(r'P_{ ' + str(k+1) + r' \\sigma_X }', p_k_sd[k]) for k in range(len(p_k_sd))]) }}"
   ]
  },
  {
   "cell_type": "markdown",
   "metadata": {},
   "source": [
    "## Exercise 11:\n",
    "If the first roll is a six, what's the probability of the sum of the three rolls to be at least 12?"
   ]
  },
  {
   "cell_type": "markdown",
   "metadata": {},
   "source": [
    "Let the value of the three individual rolls be called $X_1, X_2, X_3$, then the question can be formalized as:  \n",
    "$$P(X \\ge 12 \\mid X_1 = 6) = \\frac{P(X \\ge 12 \\cap X_1 = 6)}{P(X_1 = 6)} = \\frac{\\left| X \\ge 12 \\cap X_1 = 6 \\right|}{\\left|X_1 = 6\\right|}$$  \n",
    "Now the number of outcomes with a sum of at least twelve with the first roll being six, is the same as the number of combinations of two dice that sum to six.  \n",
    "The total number of outcomes where the first roll is a six is just the number of possible rolls with the remaining two dice: $2^6$  \n",
    "Using these two facts, the outcome can be calculated as:"
   ]
  },
  {
   "cell_type": "code",
   "execution_count": null,
   "metadata": {},
   "outputs": [],
   "source": []
  }
 ],
 "metadata": {
  "hide_input": false,
  "kernelspec": {
   "display_name": "SageMath 9.2",
   "language": "sage",
   "name": "sagemath"
  },
  "language_info": {
   "codemirror_mode": {
    "name": "ipython",
    "version": 3
   },
   "file_extension": ".py",
   "mimetype": "text/x-python",
   "name": "python",
   "nbconvert_exporter": "python",
   "pygments_lexer": "ipython3",
   "version": "3.8.5"
  }
 },
 "nbformat": 4,
 "nbformat_minor": 4
}
