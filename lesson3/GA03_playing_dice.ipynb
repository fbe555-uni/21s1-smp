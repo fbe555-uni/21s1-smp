{
 "cells": [
  {
   "cell_type": "code",
   "execution_count": 15,
   "metadata": {
    "hide_input": true
   },
   "outputs": [],
   "source": [
    "def LInsertPython(expr, *args, **kwargs):\n",
    "    l_str = expr.format(*args)\n",
    "    if 'centered' in kwargs and kwargs['centered']:\n",
    "        return '$$' + l_str + '$$'\n",
    "    else:\n",
    "        return '$' + l_str + '$'"
   ]
  },
  {
   "cell_type": "markdown",
   "metadata": {},
   "source": [
    "### F21 ETSMP group assignment 3\n",
    "Playing Dice\n",
    "=========="
   ]
  },
  {
   "cell_type": "markdown",
   "metadata": {},
   "source": [
    "In a certain dice game, a single die is rolled thrice and the total number of dots is counted. The stochastic variable X is defined as the sum of the three rolls. The die can be assumed to be fair."
   ]
  },
  {
   "cell_type": "markdown",
   "metadata": {
    "heading_collapsed": true
   },
   "source": [
    "## Excersise 1:\n",
    "How many possibilities are there of $X$ being $3, 4, \\dots, 18$?"
   ]
  },
  {
   "cell_type": "markdown",
   "metadata": {
    "hidden": true
   },
   "source": [
    "Given three dice rolls, the sample space is the set of combinations of the possible die values $\\{1, 2, \\dots, 6\\}$ with repeats. Since each die-roll doesn't affect the next, this is an ordered experiment with replacement, meaning that $|S| = 6^3$. \n"
   ]
  },
  {
   "cell_type": "code",
   "execution_count": 1,
   "metadata": {
    "hidden": true
   },
   "outputs": [
    {
     "data": {
      "text/html": [
       "<html><script type=\"math/tex; mode=display\">\\newcommand{\\Bold}[1]{\\mathbf{#1}}\\verb\"|S|\"\\phantom{\\verb!x!}\\verb\"=\"\\phantom{\\verb!x!}\\verb\"6^3\"\\phantom{\\verb!x!}\\verb\"=\"\\phantom{\\verb!x!}\\verb\"216\"</script></html>"
      ],
      "text/latex": [
       "\\begin{math}\n",
       "\\newcommand{\\Bold}[1]{\\mathbf{#1}}\\verb\"|S|\"\\phantom{\\verb!x!}\\verb\"=\"\\phantom{\\verb!x!}\\verb\"6^3\"\\phantom{\\verb!x!}\\verb\"=\"\\phantom{\\verb!x!}\\verb\"216\"\n",
       "\\end{math}"
      ],
      "text/plain": [
       "'|S| = 6^3 = 216'"
      ]
     },
     "metadata": {},
     "output_type": "display_data"
    },
    {
     "data": {
      "text/plain": [
       "True"
      ]
     },
     "execution_count": 1,
     "metadata": {},
     "output_type": "execute_result"
    }
   ],
   "source": [
    "S = tuples(range(1, 7), 3)\n",
    "show('|S| = 6^3 = {}'.format(6^3))\n",
    "len(S) == 6^3"
   ]
  },
  {
   "cell_type": "markdown",
   "metadata": {
    "hidden": true
   },
   "source": [
    "Now to figure out the number of possibilities to get each of the possible values of $X$, one could iterate over $S$, counting each time the relevant sum occurred:"
   ]
  },
  {
   "cell_type": "code",
   "execution_count": 2,
   "metadata": {
    "hidden": true
   },
   "outputs": [
    {
     "data": {
      "text/plain": [
       "[1, 3, 6, 10, 15, 21, 25, 27, 27, 25, 21, 15, 10, 6, 3, 1]"
      ]
     },
     "execution_count": 2,
     "metadata": {},
     "output_type": "execute_result"
    }
   ],
   "source": [
    "X_pos = [0]*19  # Keeping 0-2 in the list makes it easier to access each sum by it's index\n",
    "for e in S:\n",
    "    X_pos[sum(e)] += 1\n",
    "X_pos[3:]"
   ]
  },
  {
   "cell_type": "markdown",
   "metadata": {
    "hidden": true
   },
   "source": [
    "An alternative way of tackling this problem is asking how many possible integer compositions of length three  and a max element of 6 exist for each sum."
   ]
  },
  {
   "cell_type": "code",
   "execution_count": 3,
   "metadata": {
    "hidden": true
   },
   "outputs": [
    {
     "data": {
      "text/plain": [
       "[1, 3, 6, 10, 15, 21, 25, 27, 27, 25, 21, 15, 10, 6, 3, 1]"
      ]
     },
     "execution_count": 3,
     "metadata": {},
     "output_type": "execute_result"
    }
   ],
   "source": [
    "[Compositions(i, length=3, max_part=6).cardinality() for i in range(3, 19)]"
   ]
  },
  {
   "cell_type": "markdown",
   "metadata": {
    "hidden": true
   },
   "source": [
    "To calculate this a bit more theoretically, the binomial coefficient ${n-1,} \\choose {k-1}$ determines the number of possible compositions of $n$ with length $k$ exist."
   ]
  },
  {
   "cell_type": "code",
   "execution_count": 4,
   "metadata": {
    "hidden": true
   },
   "outputs": [
    {
     "data": {
      "text/plain": [
       "[1, 3, 6, 10, 15, 21, 28, 36, 45, 55, 66, 78, 91, 105, 120, 136]"
      ]
     },
     "execution_count": 4,
     "metadata": {},
     "output_type": "execute_result"
    }
   ],
   "source": [
    "[binomial(i-1,2) for i in range(3, 19)]"
   ]
  },
  {
   "cell_type": "markdown",
   "metadata": {
    "hidden": true
   },
   "source": [
    "It is clear however that this doesn't quite describe the problem as the values start overshooting at the 9 value of 8. This is because at values 9 and above, compositions with values larger than 6 become possible.  \n",
    "To improve this, it can be used that the set must be symmetrical, since dice have their opposite sides arranged so they always sum up to 7. Flipping each die in the one composition of sum 3 would therefore yield the one possible die arrangement that sums to 18, the three combinations yielding 4 can be flipped to 17 and so on."
   ]
  },
  {
   "cell_type": "code",
   "execution_count": 5,
   "metadata": {
    "hidden": true
   },
   "outputs": [
    {
     "data": {
      "text/plain": [
       "[1, 3, 6, 10, 15, 21, 28, 36, 36, 28, 21, 15, 10, 6, 3, 1]"
      ]
     },
     "execution_count": 5,
     "metadata": {},
     "output_type": "execute_result"
    }
   ],
   "source": [
    "X_pos = [binomial(i-1,2) for i in range(3, 11)]\n",
    "X_pos = X_pos + list(reversed(X_pos))\n",
    "X_pos"
   ]
  },
  {
   "cell_type": "markdown",
   "metadata": {
    "hidden": true
   },
   "source": [
    "This way, the only problematic values left are [9, 12], which can be manually corrected. For nine there is three possibilities too many, namely the possible permutations of (1, 1, 7). For ten, we get 9 possibilities too many, the three permutations of (1, 1, 8), plus the 6 permutations of (1, 2, 7). Eleven and twelve are then resolved by the symmetry mentioned above."
   ]
  },
  {
   "cell_type": "code",
   "execution_count": 6,
   "metadata": {
    "hidden": true
   },
   "outputs": [
    {
     "data": {
      "text/plain": [
       "[1, 3, 6, 10, 15, 21, 25, 27, 27, 25, 21, 15, 10, 6, 3, 1]"
      ]
     },
     "execution_count": 6,
     "metadata": {},
     "output_type": "execute_result"
    }
   ],
   "source": [
    "X_pos = [binomial(i-1,2) for i in range(3, 11)]\n",
    "X_pos[9-3] -= 3\n",
    "X_pos[10-3] -= 3 + 6\n",
    "X_pos = X_pos + list(reversed(X_pos))\n",
    "X_pos"
   ]
  },
  {
   "cell_type": "markdown",
   "metadata": {
    "hidden": true
   },
   "source": [
    "Which now matches the results from above."
   ]
  },
  {
   "cell_type": "markdown",
   "metadata": {
    "heading_collapsed": true
   },
   "source": [
    "## Exercise 2:\n",
    "Write and plot the PMF $f(x)$ for $X$"
   ]
  },
  {
   "cell_type": "markdown",
   "metadata": {
    "hidden": true
   },
   "source": [
    "Since the number of occurrences of each of the possible values of X has been calculated, the PMF being defined as the probability for each value of X:  \n",
    "$$P_X(x_k) = P(X=x_k) \\text{ for } k = 0, 1, 2, \\dots, n \\, \\big| \\, |R_X| = n$$  \n",
    "Now since the number of possibilities for each value of X, and the total number of possibilities has been calculated, this can easily be calculated:  \n",
    "$$P_X(x_k) = \\frac{|\\{X=x_k\\}|}{|S|} $$"
   ]
  },
  {
   "cell_type": "code",
   "execution_count": 7,
   "metadata": {
    "hidden": true
   },
   "outputs": [
    {
     "data": {
      "image/png": "[encoded data removed]",
      "text/plain": [
       "Graphics object consisting of 1 graphics primitive"
      ]
     },
     "execution_count": 7,
     "metadata": {},
     "output_type": "execute_result"
    }
   ],
   "source": [
    "def pmf(x):\n",
    "    if 3 <= x <= 18:\n",
    "        return X_pos[x-3]/len(S)\n",
    "    else:\n",
    "        return 0\n",
    "bar_chart([pmf(x) for x in range(20)])"
   ]
  },
  {
   "cell_type": "markdown",
   "metadata": {
    "heading_collapsed": true
   },
   "source": [
    "## Exercise 3:\n",
    "Write and plot the CDF $F(x) \\text{ for } X$"
   ]
  },
  {
   "cell_type": "markdown",
   "metadata": {
    "hidden": true
   },
   "source": [
    "Here the bins of the possibilities are added up, and the CDF will then be very similarly defined"
   ]
  },
  {
   "cell_type": "code",
   "execution_count": 13,
   "metadata": {
    "hidden": true
   },
   "outputs": [
    {
     "data": {
      "image/png": "[encoded data removed]",
      "text/plain": [
       "Graphics object consisting of 1 graphics primitive"
      ]
     },
     "execution_count": 13,
     "metadata": {},
     "output_type": "execute_result"
    }
   ],
   "source": [
    "X_tot_pos = [sum(X_pos[0:i+1]) for i in range(len(X_pos))]\n",
    "def cdf(x):\n",
    "    if x < 3:\n",
    "        return 0\n",
    "    elif x <= 18:\n",
    "        return X_tot_pos[floor(x)-3]/len(S)\n",
    "    else:\n",
    "        return 1\n",
    "plot(cdf, (x, 0, 20))"
   ]
  },
  {
   "cell_type": "markdown",
   "metadata": {
    "heading_collapsed": true
   },
   "source": [
    "## Exercise 4:\n",
    "What's the probability of getting 8?"
   ]
  },
  {
   "cell_type": "markdown",
   "metadata": {
    "hidden": true,
    "variables": {
     "r'<span class=\"MathJax_Preview\" style=\"color: inherit;\"><span class=\"MJXp-math\" id=\"MJXp-Span-2103\"><span class=\"MJXp-msubsup\" id=\"MJXp-Span-2104\"><span class=\"MJXp-mi MJXp-italic\" id=\"MJXp-Span-2105\" style=\"margin-right: 0.05em;\">f</span><span class=\"MJXp-mi MJXp-italic MJXp-script\" id=\"MJXp-Span-2106\" style=\"vertical-align: -0.4em;\">X</span></span><span class=\"MJXp-mo\" id=\"MJXp-Span-2107\" style=\"margin-left: 0em; margin-right: 0em;\">(</span><span class=\"MJXp-mn\" id=\"MJXp-Span-2108\">8</span><span class=\"MJXp-mo\" id=\"MJXp-Span-2109\" style=\"margin-left: 0em; margin-right: 0em;\">)</span><span class=\"MJXp-mo\" id=\"MJXp-Span-2110\" style=\"margin-left: 0.333em; margin-right: 0.333em;\">=</span><span class=\"MJXp-mrow\" id=\"MJXp-Span-2111\"></span><span class=\"MJXp-mo\" id=\"MJXp-Span-2112\" style=\"margin-left: 0.333em; margin-right: 0.333em;\">≈</span><span class=\"MJXp-mrow\" id=\"MJXp-Span-2113\"></span></span></span><script type=\"math/tex\" id=\"MathJax-Element-99\">f_X(8) = {} \\approx {} </script>'.format(pmf(8), n(pmf(8), digits=2))": "<span class=\"MathJax_Preview\" style=\"color: inherit;\"><span class=\"MJXp-math\" id=\"MJXp-Span-2103\"><span class=\"MJXp-msubsup\" id=\"MJXp-Span-2104\"><span class=\"MJXp-mi MJXp-italic\" id=\"MJXp-Span-2105\" style=\"margin-right: 0.05em;\">f</span><span class=\"MJXp-mi MJXp-italic MJXp-script\" id=\"MJXp-Span-2106\" style=\"vertical-align: -0.4em;\">X</span></span><span class=\"MJXp-mo\" id=\"MJXp-Span-2107\" style=\"margin-left: 0em; margin-right: 0em;\">(</span><span class=\"MJXp-mn\" id=\"MJXp-Span-2108\">8</span><span class=\"MJXp-mo\" id=\"MJXp-Span-2109\" style=\"margin-left: 0em; margin-right: 0em;\">)</span><span class=\"MJXp-mo\" id=\"MJXp-Span-2110\" style=\"margin-left: 0.333em; margin-right: 0.333em;\">=</span><span class=\"MJXp-mrow\" id=\"MJXp-Span-2111\"></span><span class=\"MJXp-mo\" id=\"MJXp-Span-2112\" style=\"margin-left: 0.333em; margin-right: 0.333em;\">≈</span><span class=\"MJXp-mrow\" id=\"MJXp-Span-2113\"></span></span></span><script type=\"math/tex\" id=\"MathJax-Element-99\">f_X(8) = 7/72 \\approx 0.097 </script>"
    }
   },
   "source": [
    "By definition the PMF gives the probability of a given outcome, and so this can be found by taking {{r'$f_X(8) = {} \\approx {} $'.format(pmf(8), n(pmf(8), digits=2))}}"
   ]
  },
  {
   "cell_type": "markdown",
   "metadata": {
    "heading_collapsed": true
   },
   "source": [
    "## Exercise 5:\n",
    "What's the probability of getting at least 12?"
   ]
  },
  {
   "cell_type": "markdown",
   "metadata": {
    "hidden": true,
    "variables": {
     "r'<span class=\"MathJax_Preview\" style=\"color: inherit;\"><span class=\"MJXp-math MJXp-display\" id=\"MJXp-Span-2205\"><span class=\"MJXp-mi MJXp-italic\" id=\"MJXp-Span-2206\">P</span><span class=\"MJXp-mo\" id=\"MJXp-Span-2207\" style=\"margin-left: 0em; margin-right: 0em;\">(</span><span class=\"MJXp-mi MJXp-italic\" id=\"MJXp-Span-2208\">X</span><span class=\"MJXp-mo\" id=\"MJXp-Span-2209\" style=\"margin-left: 0.333em; margin-right: 0.333em;\">≥</span><span class=\"MJXp-mn\" id=\"MJXp-Span-2210\">12</span><span class=\"MJXp-mo\" id=\"MJXp-Span-2211\" style=\"margin-left: 0em; margin-right: 0em;\">)</span><span class=\"MJXp-mo\" id=\"MJXp-Span-2212\" style=\"margin-left: 0.333em; margin-right: 0.333em;\">=</span><span class=\"MJXp-mn\" id=\"MJXp-Span-2213\">1</span><span class=\"MJXp-mo\" id=\"MJXp-Span-2214\" style=\"margin-left: 0.267em; margin-right: 0.267em;\">−</span><span class=\"MJXp-msubsup\" id=\"MJXp-Span-2215\"><span class=\"MJXp-mi MJXp-italic\" id=\"MJXp-Span-2216\" style=\"margin-right: 0.05em;\">F</span><span class=\"MJXp-mi MJXp-italic MJXp-script\" id=\"MJXp-Span-2217\" style=\"vertical-align: -0.4em;\">X</span></span><span class=\"MJXp-mo\" id=\"MJXp-Span-2218\" style=\"margin-left: 0em; margin-right: 0em;\">(</span><span class=\"MJXp-mn\" id=\"MJXp-Span-2219\">11</span><span class=\"MJXp-mo\" id=\"MJXp-Span-2220\" style=\"margin-left: 0em; margin-right: 0em;\">)</span><span class=\"MJXp-mo\" id=\"MJXp-Span-2221\" style=\"margin-left: 0.333em; margin-right: 0.333em;\">=</span><span class=\"MJXp-mrow\" id=\"MJXp-Span-2222\"></span><span class=\"MJXp-mo\" id=\"MJXp-Span-2223\" style=\"margin-left: 0.333em; margin-right: 0.333em;\">≈</span><span class=\"MJXp-mrow\" id=\"MJXp-Span-2224\"></span></span></span><script type=\"math/tex; mode=display\" id=\"MathJax-Element-105\"> P(X \\ge 12) = 1 - F_X(11) = {} \\approx {} </script>'.format(1-cdf(11), n(1-cdf(11), digits=2))": "<span class=\"MathJax_Preview\" style=\"color: inherit;\"><span class=\"MJXp-math MJXp-display\" id=\"MJXp-Span-2205\"><span class=\"MJXp-mi MJXp-italic\" id=\"MJXp-Span-2206\">P</span><span class=\"MJXp-mo\" id=\"MJXp-Span-2207\" style=\"margin-left: 0em; margin-right: 0em;\">(</span><span class=\"MJXp-mi MJXp-italic\" id=\"MJXp-Span-2208\">X</span><span class=\"MJXp-mo\" id=\"MJXp-Span-2209\" style=\"margin-left: 0.333em; margin-right: 0.333em;\">≥</span><span class=\"MJXp-mn\" id=\"MJXp-Span-2210\">12</span><span class=\"MJXp-mo\" id=\"MJXp-Span-2211\" style=\"margin-left: 0em; margin-right: 0em;\">)</span><span class=\"MJXp-mo\" id=\"MJXp-Span-2212\" style=\"margin-left: 0.333em; margin-right: 0.333em;\">=</span><span class=\"MJXp-mn\" id=\"MJXp-Span-2213\">1</span><span class=\"MJXp-mo\" id=\"MJXp-Span-2214\" style=\"margin-left: 0.267em; margin-right: 0.267em;\">−</span><span class=\"MJXp-msubsup\" id=\"MJXp-Span-2215\"><span class=\"MJXp-mi MJXp-italic\" id=\"MJXp-Span-2216\" style=\"margin-right: 0.05em;\">F</span><span class=\"MJXp-mi MJXp-italic MJXp-script\" id=\"MJXp-Span-2217\" style=\"vertical-align: -0.4em;\">X</span></span><span class=\"MJXp-mo\" id=\"MJXp-Span-2218\" style=\"margin-left: 0em; margin-right: 0em;\">(</span><span class=\"MJXp-mn\" id=\"MJXp-Span-2219\">11</span><span class=\"MJXp-mo\" id=\"MJXp-Span-2220\" style=\"margin-left: 0em; margin-right: 0em;\">)</span><span class=\"MJXp-mo\" id=\"MJXp-Span-2221\" style=\"margin-left: 0.333em; margin-right: 0.333em;\">=</span><span class=\"MJXp-mrow\" id=\"MJXp-Span-2222\"></span><span class=\"MJXp-mo\" id=\"MJXp-Span-2223\" style=\"margin-left: 0.333em; margin-right: 0.333em;\">≈</span><span class=\"MJXp-mrow\" id=\"MJXp-Span-2224\"></span></span></span><script type=\"math/tex; mode=display\" id=\"MathJax-Element-105\"> P(X \\ge 12) = 1 - F_X(11) = 3/8 \\approx 0.38 </script>"
    }
   },
   "source": [
    "The CDF is defined as the probability of X being less than or equal to a value.  \n",
    "$$ F_X(x) = P(X \\le x) \\text{ for } X \\in \\Bbb R $$  \n",
    "Combining this with the probability of the complement of the event  \n",
    "$$ P(E^c) = 1 - P(E) $$  \n",
    "The probability of getting a value greater than or equal to x can thus be defined as  \n",
    "$$ P(X \\ge x) = 1 - P(X \\lt x) $$  \n",
    "now since X is a discrete variable $X \\lt x \\Leftrightarrow X \\le x-1$, which then leads us to  \n",
    "$$P(X \\ge x) = 1 - F_X(x-1)$$  \n",
    "{{r'$$ P(X \\ge 12) = 1 - F_X(11) = {} \\approx {} $$'.format(1-cdf(11), n(1-cdf(11), digits=2))}}\n"
   ]
  },
  {
   "cell_type": "markdown",
   "metadata": {
    "heading_collapsed": true
   },
   "source": [
    "## Exercise 6:\n",
    "What's the probability of getting at least 9 and at most 15?"
   ]
  },
  {
   "cell_type": "markdown",
   "metadata": {
    "hidden": true,
    "variables": {
     "r'<span class=\"MathJax_Preview\" style=\"color: inherit;\"><span class=\"MJXp-math MJXp-display\" id=\"MJXp-Span-2387\"><span class=\"MJXp-mi MJXp-italic\" id=\"MJXp-Span-2388\">P</span><span class=\"MJXp-mo\" id=\"MJXp-Span-2389\" style=\"margin-left: 0em; margin-right: 0em;\">(</span><span class=\"MJXp-mn\" id=\"MJXp-Span-2390\">9</span><span class=\"MJXp-mo\" id=\"MJXp-Span-2391\" style=\"margin-left: 0.333em; margin-right: 0.333em;\">≤</span><span class=\"MJXp-mi MJXp-italic\" id=\"MJXp-Span-2392\">X</span><span class=\"MJXp-mo\" id=\"MJXp-Span-2393\" style=\"margin-left: 0.333em; margin-right: 0.333em;\">≤</span><span class=\"MJXp-mn\" id=\"MJXp-Span-2394\">15</span><span class=\"MJXp-mo\" id=\"MJXp-Span-2395\" style=\"margin-left: 0em; margin-right: 0em;\">)</span><span class=\"MJXp-mo\" id=\"MJXp-Span-2396\" style=\"margin-left: 0.333em; margin-right: 0.333em;\">=</span><span class=\"MJXp-msubsup\" id=\"MJXp-Span-2397\"><span class=\"MJXp-mi MJXp-italic\" id=\"MJXp-Span-2398\" style=\"margin-right: 0.05em;\">F</span><span class=\"MJXp-mi MJXp-italic MJXp-script\" id=\"MJXp-Span-2399\" style=\"vertical-align: -0.4em;\">X</span></span><span class=\"MJXp-mo\" id=\"MJXp-Span-2400\" style=\"margin-left: 0em; margin-right: 0em;\">(</span><span class=\"MJXp-mn\" id=\"MJXp-Span-2401\">15</span><span class=\"MJXp-mo\" id=\"MJXp-Span-2402\" style=\"margin-left: 0em; margin-right: 0em;\">)</span><span class=\"MJXp-mo\" id=\"MJXp-Span-2403\" style=\"margin-left: 0.267em; margin-right: 0.267em;\">−</span><span class=\"MJXp-msubsup\" id=\"MJXp-Span-2404\"><span class=\"MJXp-mi MJXp-italic\" id=\"MJXp-Span-2405\" style=\"margin-right: 0.05em;\">F</span><span class=\"MJXp-mi MJXp-italic MJXp-script\" id=\"MJXp-Span-2406\" style=\"vertical-align: -0.4em;\">X</span></span><span class=\"MJXp-mo\" id=\"MJXp-Span-2407\" style=\"margin-left: 0em; margin-right: 0em;\">(</span><span class=\"MJXp-mn\" id=\"MJXp-Span-2408\">8</span><span class=\"MJXp-mo\" id=\"MJXp-Span-2409\" style=\"margin-left: 0em; margin-right: 0em;\">)</span><span class=\"MJXp-mo\" id=\"MJXp-Span-2410\" style=\"margin-left: 0.333em; margin-right: 0.333em;\">=</span><span class=\"MJXp-mrow\" id=\"MJXp-Span-2411\"></span><span class=\"MJXp-mo\" id=\"MJXp-Span-2412\" style=\"margin-left: 0.333em; margin-right: 0.333em;\">≈</span><span class=\"MJXp-mrow\" id=\"MJXp-Span-2413\"></span></span></span><script type=\"math/tex; mode=display\" id=\"MathJax-Element-112\"> P(9 \\le X \\le 15) = F_X(15) - F_X(8) = {} \\approx {} </script>'.format(cdf(15)-cdf(8), n(cdf(15)-cdf(8), digits=2))": "<span class=\"MathJax_Preview\" style=\"color: inherit;\"><span class=\"MJXp-math MJXp-display\" id=\"MJXp-Span-2387\"><span class=\"MJXp-mi MJXp-italic\" id=\"MJXp-Span-2388\">P</span><span class=\"MJXp-mo\" id=\"MJXp-Span-2389\" style=\"margin-left: 0em; margin-right: 0em;\">(</span><span class=\"MJXp-mn\" id=\"MJXp-Span-2390\">9</span><span class=\"MJXp-mo\" id=\"MJXp-Span-2391\" style=\"margin-left: 0.333em; margin-right: 0.333em;\">≤</span><span class=\"MJXp-mi MJXp-italic\" id=\"MJXp-Span-2392\">X</span><span class=\"MJXp-mo\" id=\"MJXp-Span-2393\" style=\"margin-left: 0.333em; margin-right: 0.333em;\">≤</span><span class=\"MJXp-mn\" id=\"MJXp-Span-2394\">15</span><span class=\"MJXp-mo\" id=\"MJXp-Span-2395\" style=\"margin-left: 0em; margin-right: 0em;\">)</span><span class=\"MJXp-mo\" id=\"MJXp-Span-2396\" style=\"margin-left: 0.333em; margin-right: 0.333em;\">=</span><span class=\"MJXp-msubsup\" id=\"MJXp-Span-2397\"><span class=\"MJXp-mi MJXp-italic\" id=\"MJXp-Span-2398\" style=\"margin-right: 0.05em;\">F</span><span class=\"MJXp-mi MJXp-italic MJXp-script\" id=\"MJXp-Span-2399\" style=\"vertical-align: -0.4em;\">X</span></span><span class=\"MJXp-mo\" id=\"MJXp-Span-2400\" style=\"margin-left: 0em; margin-right: 0em;\">(</span><span class=\"MJXp-mn\" id=\"MJXp-Span-2401\">15</span><span class=\"MJXp-mo\" id=\"MJXp-Span-2402\" style=\"margin-left: 0em; margin-right: 0em;\">)</span><span class=\"MJXp-mo\" id=\"MJXp-Span-2403\" style=\"margin-left: 0.267em; margin-right: 0.267em;\">−</span><span class=\"MJXp-msubsup\" id=\"MJXp-Span-2404\"><span class=\"MJXp-mi MJXp-italic\" id=\"MJXp-Span-2405\" style=\"margin-right: 0.05em;\">F</span><span class=\"MJXp-mi MJXp-italic MJXp-script\" id=\"MJXp-Span-2406\" style=\"vertical-align: -0.4em;\">X</span></span><span class=\"MJXp-mo\" id=\"MJXp-Span-2407\" style=\"margin-left: 0em; margin-right: 0em;\">(</span><span class=\"MJXp-mn\" id=\"MJXp-Span-2408\">8</span><span class=\"MJXp-mo\" id=\"MJXp-Span-2409\" style=\"margin-left: 0em; margin-right: 0em;\">)</span><span class=\"MJXp-mo\" id=\"MJXp-Span-2410\" style=\"margin-left: 0.333em; margin-right: 0.333em;\">=</span><span class=\"MJXp-mrow\" id=\"MJXp-Span-2411\"></span><span class=\"MJXp-mo\" id=\"MJXp-Span-2412\" style=\"margin-left: 0.333em; margin-right: 0.333em;\">≈</span><span class=\"MJXp-mrow\" id=\"MJXp-Span-2413\"></span></span></span><script type=\"math/tex; mode=display\" id=\"MathJax-Element-112\"> P(9 \\le X \\le 15) = F_X(15) - F_X(8) = 25/36 \\approx 0.69 </script>"
    }
   },
   "source": [
    "Here the fact that  \n",
    "$$ P(a \\lt X \\le b) = F_X(b) - F_X(a) $$  \n",
    "can be used, letting $a = 9-1$ to achieve the $\\le$ relation desired:  \n",
    "{{r'$$ P(9 \\le X \\le 15) = F_X(15) - F_X(8) = {} \\approx {} $$'.format(cdf(15)-cdf(8), n(cdf(15)-cdf(8), digits=2))}}"
   ]
  },
  {
   "cell_type": "markdown",
   "metadata": {
    "heading_collapsed": true
   },
   "source": [
    "## Exercise 7:\n",
    "What's the probability of getting less than 4 or more than 16?"
   ]
  },
  {
   "cell_type": "markdown",
   "metadata": {
    "hidden": true,
    "variables": {
     "ans = cdf(3) + 1 - cdf(16); r'<span class=\"MathJax_Preview\" style=\"color: inherit;\"><span class=\"MJXp-math MJXp-display\" id=\"MJXp-Span-2691\"><span class=\"MJXp-mi MJXp-italic\" id=\"MJXp-Span-2692\">P</span><span class=\"MJXp-mo\" id=\"MJXp-Span-2693\" style=\"margin-left: 0em; margin-right: 0em;\">(</span><span class=\"MJXp-mi MJXp-italic\" id=\"MJXp-Span-2694\">X</span><span class=\"MJXp-mo\" id=\"MJXp-Span-2695\" style=\"margin-left: 0.333em; margin-right: 0.333em;\">&lt;</span><span class=\"MJXp-mn\" id=\"MJXp-Span-2696\">4</span><span class=\"MJXp-mo\" id=\"MJXp-Span-2697\" style=\"margin-left: 0.267em; margin-right: 0.267em;\">∨</span><span class=\"MJXp-mi MJXp-italic\" id=\"MJXp-Span-2698\">X</span><span class=\"MJXp-mo\" id=\"MJXp-Span-2699\" style=\"margin-left: 0.333em; margin-right: 0.333em;\">&gt;</span><span class=\"MJXp-mn\" id=\"MJXp-Span-2700\">16</span><span class=\"MJXp-mo\" id=\"MJXp-Span-2701\" style=\"margin-left: 0em; margin-right: 0em;\">)</span><span class=\"MJXp-mo\" id=\"MJXp-Span-2702\" style=\"margin-left: 0.333em; margin-right: 0.333em;\">=</span><span class=\"MJXp-msubsup\" id=\"MJXp-Span-2703\"><span class=\"MJXp-mi MJXp-italic\" id=\"MJXp-Span-2704\" style=\"margin-right: 0.05em;\">F</span><span class=\"MJXp-mi MJXp-italic MJXp-script\" id=\"MJXp-Span-2705\" style=\"vertical-align: -0.4em;\">X</span></span><span class=\"MJXp-mo\" id=\"MJXp-Span-2706\" style=\"margin-left: 0em; margin-right: 0em;\">(</span><span class=\"MJXp-mn\" id=\"MJXp-Span-2707\">3</span><span class=\"MJXp-mo\" id=\"MJXp-Span-2708\" style=\"margin-left: 0em; margin-right: 0em;\">)</span><span class=\"MJXp-mo\" id=\"MJXp-Span-2709\" style=\"margin-left: 0.267em; margin-right: 0.267em;\">+</span><span class=\"MJXp-mn\" id=\"MJXp-Span-2710\">1</span><span class=\"MJXp-mo\" id=\"MJXp-Span-2711\" style=\"margin-left: 0.267em; margin-right: 0.267em;\">−</span><span class=\"MJXp-msubsup\" id=\"MJXp-Span-2712\"><span class=\"MJXp-mi MJXp-italic\" id=\"MJXp-Span-2713\" style=\"margin-right: 0.05em;\">F</span><span class=\"MJXp-mi MJXp-italic MJXp-script\" id=\"MJXp-Span-2714\" style=\"vertical-align: -0.4em;\">X</span></span><span class=\"MJXp-mo\" id=\"MJXp-Span-2715\" style=\"margin-left: 0em; margin-right: 0em;\">(</span><span class=\"MJXp-mn\" id=\"MJXp-Span-2716\">16</span><span class=\"MJXp-mo\" id=\"MJXp-Span-2717\" style=\"margin-left: 0em; margin-right: 0em;\">)</span><span class=\"MJXp-mo\" id=\"MJXp-Span-2718\" style=\"margin-left: 0.333em; margin-right: 0.333em;\">=</span><span class=\"MJXp-mrow\" id=\"MJXp-Span-2719\"></span><span class=\"MJXp-mo\" id=\"MJXp-Span-2720\" style=\"margin-left: 0.333em; margin-right: 0.333em;\">≈</span><span class=\"MJXp-mrow\" id=\"MJXp-Span-2721\"></span></span></span><script type=\"math/tex; mode=display\" id=\"MathJax-Element-122\"> P(X \\lt 4 \\lor X \\gt 16) = F_X(3) + 1 - F_X(16) = {} \\approx {} </script>'.format(ans, n(ans, digits=2))": "<span class=\"MathJax_Preview\" style=\"color: inherit;\"><span class=\"MJXp-math MJXp-display\" id=\"MJXp-Span-2691\"><span class=\"MJXp-mi MJXp-italic\" id=\"MJXp-Span-2692\">P</span><span class=\"MJXp-mo\" id=\"MJXp-Span-2693\" style=\"margin-left: 0em; margin-right: 0em;\">(</span><span class=\"MJXp-mi MJXp-italic\" id=\"MJXp-Span-2694\">X</span><span class=\"MJXp-mo\" id=\"MJXp-Span-2695\" style=\"margin-left: 0.333em; margin-right: 0.333em;\">&lt;</span><span class=\"MJXp-mn\" id=\"MJXp-Span-2696\">4</span><span class=\"MJXp-mo\" id=\"MJXp-Span-2697\" style=\"margin-left: 0.267em; margin-right: 0.267em;\">∨</span><span class=\"MJXp-mi MJXp-italic\" id=\"MJXp-Span-2698\">X</span><span class=\"MJXp-mo\" id=\"MJXp-Span-2699\" style=\"margin-left: 0.333em; margin-right: 0.333em;\">&gt;</span><span class=\"MJXp-mn\" id=\"MJXp-Span-2700\">16</span><span class=\"MJXp-mo\" id=\"MJXp-Span-2701\" style=\"margin-left: 0em; margin-right: 0em;\">)</span><span class=\"MJXp-mo\" id=\"MJXp-Span-2702\" style=\"margin-left: 0.333em; margin-right: 0.333em;\">=</span><span class=\"MJXp-msubsup\" id=\"MJXp-Span-2703\"><span class=\"MJXp-mi MJXp-italic\" id=\"MJXp-Span-2704\" style=\"margin-right: 0.05em;\">F</span><span class=\"MJXp-mi MJXp-italic MJXp-script\" id=\"MJXp-Span-2705\" style=\"vertical-align: -0.4em;\">X</span></span><span class=\"MJXp-mo\" id=\"MJXp-Span-2706\" style=\"margin-left: 0em; margin-right: 0em;\">(</span><span class=\"MJXp-mn\" id=\"MJXp-Span-2707\">3</span><span class=\"MJXp-mo\" id=\"MJXp-Span-2708\" style=\"margin-left: 0em; margin-right: 0em;\">)</span><span class=\"MJXp-mo\" id=\"MJXp-Span-2709\" style=\"margin-left: 0.267em; margin-right: 0.267em;\">+</span><span class=\"MJXp-mn\" id=\"MJXp-Span-2710\">1</span><span class=\"MJXp-mo\" id=\"MJXp-Span-2711\" style=\"margin-left: 0.267em; margin-right: 0.267em;\">−</span><span class=\"MJXp-msubsup\" id=\"MJXp-Span-2712\"><span class=\"MJXp-mi MJXp-italic\" id=\"MJXp-Span-2713\" style=\"margin-right: 0.05em;\">F</span><span class=\"MJXp-mi MJXp-italic MJXp-script\" id=\"MJXp-Span-2714\" style=\"vertical-align: -0.4em;\">X</span></span><span class=\"MJXp-mo\" id=\"MJXp-Span-2715\" style=\"margin-left: 0em; margin-right: 0em;\">(</span><span class=\"MJXp-mn\" id=\"MJXp-Span-2716\">16</span><span class=\"MJXp-mo\" id=\"MJXp-Span-2717\" style=\"margin-left: 0em; margin-right: 0em;\">)</span><span class=\"MJXp-mo\" id=\"MJXp-Span-2718\" style=\"margin-left: 0.333em; margin-right: 0.333em;\">=</span><span class=\"MJXp-mrow\" id=\"MJXp-Span-2719\"></span><span class=\"MJXp-mo\" id=\"MJXp-Span-2720\" style=\"margin-left: 0.333em; margin-right: 0.333em;\">≈</span><span class=\"MJXp-mrow\" id=\"MJXp-Span-2721\"></span></span></span><script type=\"math/tex; mode=display\" id=\"MathJax-Element-122\"> P(X \\lt 4 \\lor X \\gt 16) = F_X(3) + 1 - F_X(16) = 5/216 \\approx 0.023 </script>"
    }
   },
   "source": [
    "Since all values are disjoint events, and the two specified ranges aren't overlapping, the probability  \n",
    "$$ P(X \\lt 4 \\lor X \\gt 16) = P(X \\lt 4) + P(X \\gt 16) $$\n",
    "Using the same methods as the previous two exercises, this can be formulated as follows  \n",
    "{{ans = cdf(3) + 1 - cdf(16); r'$$ P(X \\lt 4 \\lor X \\gt 16) = F_X(3) + 1 - F_X(16) = {} \\approx {} $$'.format(ans, n(ans, digits=2))}}"
   ]
  },
  {
   "cell_type": "markdown",
   "metadata": {
    "heading_collapsed": true
   },
   "source": [
    "## Exercise 8:\n",
    "What's the average sum one can expect to get?"
   ]
  },
  {
   "cell_type": "markdown",
   "metadata": {
    "hidden": true
   },
   "source": [
    "From the definition of the mean of a random variable  \n",
    "$$ EX = \\sum_{x_k \\in R_X}{x_k P(X = x_k)} = \\sum_{x_k \\in R_X}{x_k P_X(x_k)} $$  \n",
    "The mean $EX$ can be calculated as follows:"
   ]
  },
  {
   "cell_type": "code",
   "execution_count": 19,
   "metadata": {
    "hidden": true
   },
   "outputs": [],
   "source": [
    "X_mean = sum([x * pmf(x) for x in range(3, 19)])"
   ]
  },
  {
   "cell_type": "markdown",
   "metadata": {
    "hidden": true,
    "variables": {
     "r'<span class=\"MathJax_Preview\" style=\"color: inherit;\"><span class=\"MJXp-math\" id=\"MJXp-Span-3015\"><span class=\"MJXp-mi MJXp-italic\" id=\"MJXp-Span-3016\">E</span><span class=\"MJXp-mi MJXp-italic\" id=\"MJXp-Span-3017\">X</span><span class=\"MJXp-mo\" id=\"MJXp-Span-3018\" style=\"margin-left: 0.333em; margin-right: 0.333em;\">=</span><span class=\"MJXp-mrow\" id=\"MJXp-Span-3019\"></span><span class=\"MJXp-mo\" id=\"MJXp-Span-3020\" style=\"margin-left: 0.333em; margin-right: 0.333em;\">≈</span><span class=\"MJXp-mrow\" id=\"MJXp-Span-3021\"></span></span></span><script type=\"math/tex\" id=\"MathJax-Element-134\">EX = {} \\approx {} </script>'.format(X_mean, n(X_mean, digits=2))": "<span class=\"MathJax_Preview\" style=\"color: inherit;\"><span class=\"MJXp-math\" id=\"MJXp-Span-3015\"><span class=\"MJXp-mi MJXp-italic\" id=\"MJXp-Span-3016\">E</span><span class=\"MJXp-mi MJXp-italic\" id=\"MJXp-Span-3017\">X</span><span class=\"MJXp-mo\" id=\"MJXp-Span-3018\" style=\"margin-left: 0.333em; margin-right: 0.333em;\">=</span><span class=\"MJXp-mrow\" id=\"MJXp-Span-3019\"></span><span class=\"MJXp-mo\" id=\"MJXp-Span-3020\" style=\"margin-left: 0.333em; margin-right: 0.333em;\">≈</span><span class=\"MJXp-mrow\" id=\"MJXp-Span-3021\"></span></span></span><script type=\"math/tex\" id=\"MathJax-Element-134\">EX = 21/2 \\approx 10. </script>"
    }
   },
   "source": [
    "yielding {{r'$EX = {} \\approx {} $'.format(X_mean, n(X_mean, digits=2))}}"
   ]
  },
  {
   "cell_type": "markdown",
   "metadata": {},
   "source": [
    "## Exercise 9:\n",
    "What's the variance $\\sigma^2$ and standard deviation $\\sigma$ of X? "
   ]
  },
  {
   "cell_type": "markdown",
   "metadata": {},
   "source": [
    "Using the definition of the variance  \n",
    "$$ Var(X)=E[(X−EX)^2] $$"
   ]
  },
  {
   "cell_type": "code",
   "execution_count": null,
   "metadata": {},
   "outputs": [],
   "source": []
  }
 ],
 "metadata": {
  "hide_input": false,
  "kernelspec": {
   "display_name": "SageMath 9.2",
   "language": "sage",
   "name": "sagemath"
  },
  "language_info": {
   "codemirror_mode": {
    "name": "ipython",
    "version": 3
   },
   "file_extension": ".py",
   "mimetype": "text/x-python",
   "name": "python",
   "nbconvert_exporter": "python",
   "pygments_lexer": "ipython3",
   "version": "3.8.5"
  }
 },
 "nbformat": 4,
 "nbformat_minor": 4
}
