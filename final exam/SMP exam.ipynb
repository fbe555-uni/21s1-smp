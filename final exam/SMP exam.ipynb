{
 "cells": [
  {
   "cell_type": "markdown",
   "metadata": {},
   "source": [
    "# ETSMP-01 Stochastic Modeling and Processing exam\n",
    "__Date__: 18th of June 2021  \n",
    "__Student__: Felix Blix Everberg  \n",
    "__au ID__: au482985  \n",
    "__Student number__: 201371008  \n",
    "All calculations are done using sagemath ([www.sagemath.org](https://www.sagemath.org)) in a jupyter notebook, with the source code included.  \n"
   ]
  },
  {
   "cell_type": "markdown",
   "metadata": {},
   "source": [
    "## Preamble\n",
    "The below code is defined as a utility to simplify the solutions"
   ]
  },
  {
   "cell_type": "code",
   "execution_count": 10,
   "metadata": {
    "variables": {
     "{name": "<p><strong>SyntaxError</strong>: unexpected EOF while parsing (<ipython-input-61-13c0d66e2458>, line 1)</p>\n"
    }
   },
   "outputs": [],
   "source": [
    "%display latex\n",
    "%matplotlib notebook\n",
    "import traceback\n",
    "def show_var(*names, approx=True, debug=False):\n",
    "    if len(names) == 0:\n",
    "        # First extract the line of source code where this was called\n",
    "        source = traceback.extract_stack(limit=2)[0].line\n",
    "        # Check if call was from a line starting with an assignment:\n",
    "        if source.count('=') < 1:\n",
    "            raise SyntaxError('The show_var() function can only be used on lines where a variable is assigned')\n",
    "        # Then extract the variable name assigned to\n",
    "        names = [name.strip() for name in source.split('=')[0].split(',')]\n",
    "    for name in names:\n",
    "        value = globals()[name]\n",
    "        expr = LatexExpr(f'\\\\text{{{name}}} = ') + latex(value)\n",
    "        if approx:\n",
    "            try:\n",
    "                approx = n(value, digits=3)\n",
    "                if value != approx:\n",
    "                    expr += LatexExpr(f'\\\\sim') + latex(approx)\n",
    "                elif parent(value) is QQ and not _can_convert_to_ZZ(value):\n",
    "                    expr += LatexExpr(f'= {RR(approx).str(truncate=True, skip_zeroes=True)}')\n",
    "                elif value.base_ring() is QQ and not _can_convert_to_ZZ(value):\n",
    "                    expr += LatexExpr('=') + latex(approx)\n",
    "            except Exception as e:\n",
    "                if debug:\n",
    "                    traceback.print_exc()\n",
    "        show(expr)"
   ]
  },
  {
   "cell_type": "markdown",
   "metadata": {},
   "source": [
    "## Problem 1:   Probability theory"
   ]
  },
  {
   "cell_type": "markdown",
   "metadata": {},
   "source": [
    "Calling the event of and Error E, and reffering to the three positions with their respective letter, the given information can be formalized as:  \n",
    "$P(A | E) = 0.22$  \n",
    "$P(B | E) = 0.46$  \n",
    "$P(A) = P(B) = P(C) = \\frac 1 3$  \n",
    "$P(E) = 0.14$  "
   ]
  },
  {
   "cell_type": "markdown",
   "metadata": {},
   "source": [
    "### a)"
   ]
  },
  {
   "cell_type": "markdown",
   "metadata": {},
   "source": [
    "Since the product is always in either position A, B or C ($ S = \\left\\{A, B, C\\right\\}$), then  \n",
    "$P(C|E) = 1 - P(B|E) - P(A|E) = 1 - 0.46 - 0.22 = 0.32$"
   ]
  },
  {
   "cell_type": "markdown",
   "metadata": {},
   "source": [
    "### b)"
   ]
  },
  {
   "cell_type": "markdown",
   "metadata": {},
   "source": [
    "This probability is the total probability of event B and E, which can be found from the known conditional probability of B given E using the rule of multiplication:  \n",
    "$ P(B \\cap E) = P(B | E) P(E) = 0.46 \\cdot 0.14 = 0.0644 $"
   ]
  },
  {
   "cell_type": "markdown",
   "metadata": {},
   "source": [
    "### c)"
   ]
  },
  {
   "cell_type": "markdown",
   "metadata": {},
   "source": [
    "Given that an event and it's complement always partitions it's domain  \n",
    "$P\\left(\\bar E | A\\right) = 1  -  P(E | A) = 1 - \\dfrac{P(E \\cap A)}{P(A)}$  \n",
    "Using the same method as above to determine the intersection of A and E:  \n",
    "$ P(E \\cap A) = P(A | E) P(E) = 0.22 \\cdot 0.14 = 0.0308 $  \n",
    "And substituting in the values:  \n",
    "$P\\left(\\bar E | A\\right) = 1 - \\dfrac{0.0308}{0.3333} = 1 - 0.0924 = 0.9076$\n"
   ]
  },
  {
   "cell_type": "markdown",
   "metadata": {},
   "source": [
    "## Problem 2:  Stochastic Variables"
   ]
  },
  {
   "cell_type": "code",
   "execution_count": 3,
   "metadata": {},
   "outputs": [],
   "source": [
    "var('Pr_minus1_1, Pr_5_1')\n",
    "X_table = [-2,-1, 0, 1, 2]\n",
    "Y_table = [1, 3, 5]\n",
    "# The given table is transposed to be row first XY pmf\n",
    "f_XY_table = [[       0.12, 0.04,   0.04],\n",
    "              [Pr_minus1_1, 0.12,   0.04],\n",
    "              [       0.00, 0.20,   0.00],\n",
    "              [       0.08, 0.04, Pr_5_1],\n",
    "              [       0.08, 0.08,   0.04]]"
   ]
  },
  {
   "cell_type": "markdown",
   "metadata": {},
   "source": [
    "### a)"
   ]
  },
  {
   "cell_type": "markdown",
   "metadata": {},
   "source": [
    "In order to fill out the missing probabilities in the joint pmf table, the given probability of $P(Y = 1) = 0.32$ is first used, to find $f_{XY}(-1, 1)$ by solving for the sum of the row for $Y = 1$:"
   ]
  },
  {
   "cell_type": "code",
   "execution_count": 4,
   "metadata": {},
   "outputs": [
    {
     "data": {
      "text/html": [
       "<html><script type=\"math/tex; mode=display\">\\newcommand{\\Bold}[1]{\\mathbf{#1}}\\text{Pr_minus1_1} = \\frac{1}{25}</script></html>"
      ],
      "text/latex": [
       "\\begin{math}\n",
       "\\newcommand{\\Bold}[1]{\\mathbf{#1}}\\text{Pr_minus1_1} = \\frac{1}{25}\n",
       "\\end{math}"
      ],
      "text/plain": [
       "\\text{Pr_minus1_1} = \\frac{1}{25}"
      ]
     },
     "metadata": {},
     "output_type": "display_data"
    }
   ],
   "source": [
    "f_XY_table[1][0] = Pr_minus1_1 = solve(sum([r[0] for r in f_XY_table]) == 0.32, Pr_minus1_1)[0].rhs()\n",
    "show_var('Pr_minus1_1')"
   ]
  },
  {
   "cell_type": "markdown",
   "metadata": {},
   "source": [
    "With only one cell missing in the joint pmf table, the final value is determined so that the table sums to 1"
   ]
  },
  {
   "cell_type": "code",
   "execution_count": 5,
   "metadata": {},
   "outputs": [
    {
     "data": {
      "text/html": [
       "<html><script type=\"math/tex; mode=display\">\\newcommand{\\Bold}[1]{\\mathbf{#1}}\\text{Pr_5_1} = \\frac{2}{25}</script></html>"
      ],
      "text/latex": [
       "\\begin{math}\n",
       "\\newcommand{\\Bold}[1]{\\mathbf{#1}}\\text{Pr_5_1} = \\frac{2}{25}\n",
       "\\end{math}"
      ],
      "text/plain": [
       "\\text{Pr_5_1} = \\frac{2}{25}"
      ]
     },
     "metadata": {},
     "output_type": "display_data"
    }
   ],
   "source": [
    "f_XY_table[3][2] = Pr_5_1 = solve(sum([sum(r) for r in f_XY_table]) == 1, Pr_5_1)[0].rhs()\n",
    "show_var('Pr_5_1')"
   ]
  },
  {
   "cell_type": "markdown",
   "metadata": {},
   "source": [
    "Leading to the following full joint pmf:"
   ]
  },
  {
   "cell_type": "code",
   "execution_count": 6,
   "metadata": {},
   "outputs": [
    {
     "data": {
      "text/html": [
       "<html><script type=\"math/tex; mode=display\">\\newcommand{\\Bold}[1]{\\mathbf{#1}}\\text{f_XY_table} = \\left[\\left[0.120000000000000, 0.0400000000000000, 0.0400000000000000\\right], \\left[\\frac{1}{25}, 0.120000000000000, 0.0400000000000000\\right], \\left[0.000000000000000, 0.200000000000000, 0.000000000000000\\right], \\left[0.0800000000000000, 0.0400000000000000, \\frac{2}{25}\\right], \\left[0.0800000000000000, 0.0800000000000000, 0.0400000000000000\\right]\\right]</script></html>"
      ],
      "text/latex": [
       "\\begin{math}\n",
       "\\newcommand{\\Bold}[1]{\\mathbf{#1}}\\text{f_XY_table} = \\left[\\left[0.120000000000000, 0.0400000000000000, 0.0400000000000000\\right], \\left[\\frac{1}{25}, 0.120000000000000, 0.0400000000000000\\right], \\left[0.000000000000000, 0.200000000000000, 0.000000000000000\\right], \\left[0.0800000000000000, 0.0400000000000000, \\frac{2}{25}\\right], \\left[0.0800000000000000, 0.0800000000000000, 0.0400000000000000\\right]\\right]\n",
       "\\end{math}"
      ],
      "text/plain": [
       "\\text{f_XY_table} = \\left[\\left[0.120000000000000, 0.0400000000000000, 0.0400000000000000\\right], \\left[\\frac{1}{25}, 0.120000000000000, 0.0400000000000000\\right], \\left[0.000000000000000, 0.200000000000000, 0.000000000000000\\right], \\left[0.0800000000000000, 0.0400000000000000, \\frac{2}{25}\\right], \\left[0.0800000000000000, 0.0800000000000000, 0.0400000000000000\\right]\\right]"
      ]
     },
     "metadata": {},
     "output_type": "display_data"
    }
   ],
   "source": [
    "show_var('f_XY_table')"
   ]
  },
  {
   "cell_type": "markdown",
   "metadata": {},
   "source": [
    "### b)"
   ]
  },
  {
   "cell_type": "markdown",
   "metadata": {},
   "source": [
    "In order to determine the marginal pmf's, the joint pmf is first summed along it's rows, then along it's columns:"
   ]
  },
  {
   "cell_type": "code",
   "execution_count": 7,
   "metadata": {},
   "outputs": [
    {
     "data": {
      "text/html": [
       "<html><script type=\"math/tex; mode=display\">\\newcommand{\\Bold}[1]{\\mathbf{#1}}\\text{f_X_table} = \\left[0.200000000000000, 0.200000000000000, 0.200000000000000, 0.200000000000000, 0.200000000000000\\right]</script></html>"
      ],
      "text/latex": [
       "\\begin{math}\n",
       "\\newcommand{\\Bold}[1]{\\mathbf{#1}}\\text{f_X_table} = \\left[0.200000000000000, 0.200000000000000, 0.200000000000000, 0.200000000000000, 0.200000000000000\\right]\n",
       "\\end{math}"
      ],
      "text/plain": [
       "\\text{f_X_table} = \\left[0.200000000000000, 0.200000000000000, 0.200000000000000, 0.200000000000000, 0.200000000000000\\right]"
      ]
     },
     "metadata": {},
     "output_type": "display_data"
    },
    {
     "data": {
      "text/html": [
       "<html><script type=\"math/tex; mode=display\">\\newcommand{\\Bold}[1]{\\mathbf{#1}}\\text{f_Y_table} = \\left[0.320000000000000, 0.480000000000000, 0.200000000000000\\right]</script></html>"
      ],
      "text/latex": [
       "\\begin{math}\n",
       "\\newcommand{\\Bold}[1]{\\mathbf{#1}}\\text{f_Y_table} = \\left[0.320000000000000, 0.480000000000000, 0.200000000000000\\right]\n",
       "\\end{math}"
      ],
      "text/plain": [
       "\\text{f_Y_table} = \\left[0.320000000000000, 0.480000000000000, 0.200000000000000\\right]"
      ]
     },
     "metadata": {},
     "output_type": "display_data"
    }
   ],
   "source": [
    "f_X_table = [sum(row) for row in f_XY_table]; show_var()\n",
    "f_Y_table = [sum(column) for column in zip(*f_XY_table)]; show_var()"
   ]
  },
  {
   "cell_type": "markdown",
   "metadata": {},
   "source": [
    "### c)"
   ]
  },
  {
   "cell_type": "markdown",
   "metadata": {},
   "source": [
    "The means and variances are determined from the marginal pmf's as follows:  \n",
    "$ EX = \\sum_x x\\,f_X(x) $"
   ]
  },
  {
   "cell_type": "code",
   "execution_count": 8,
   "metadata": {},
   "outputs": [
    {
     "data": {
      "text/html": [
       "<html><script type=\"math/tex; mode=display\">\\newcommand{\\Bold}[1]{\\mathbf{#1}}\\text{EX} = -5.55111512312578 \\times 10^{-17}</script></html>"
      ],
      "text/latex": [
       "\\begin{math}\n",
       "\\newcommand{\\Bold}[1]{\\mathbf{#1}}\\text{EX} = -5.55111512312578 \\times 10^{-17}\n",
       "\\end{math}"
      ],
      "text/plain": [
       "\\text{EX} = -5.55111512312578 \\times 10^{-17}"
      ]
     },
     "metadata": {},
     "output_type": "display_data"
    },
    {
     "data": {
      "text/html": [
       "<html><script type=\"math/tex; mode=display\">\\newcommand{\\Bold}[1]{\\mathbf{#1}}\\text{EY} = 2.76000000000000</script></html>"
      ],
      "text/latex": [
       "\\begin{math}\n",
       "\\newcommand{\\Bold}[1]{\\mathbf{#1}}\\text{EY} = 2.76000000000000\n",
       "\\end{math}"
      ],
      "text/plain": [
       "\\text{EY} = 2.76000000000000"
      ]
     },
     "metadata": {},
     "output_type": "display_data"
    }
   ],
   "source": [
    "EX = sum([x*fx for x, fx in zip(X_table, f_X_table)]); show_var()\n",
    "EY = sum([y*fy for y, fy in zip(Y_table, f_Y_table)]); show_var()"
   ]
  },
  {
   "cell_type": "markdown",
   "metadata": {},
   "source": [
    "and then the variance  \n",
    "$ Var(X) = E\\left(X^2\\right) - EX^2 $  \n",
    "Using the same method as above to find $ E\\left(X^2\\right)$"
   ]
  },
  {
   "cell_type": "code",
   "execution_count": 9,
   "metadata": {},
   "outputs": [
    {
     "data": {
      "text/html": [
       "<html><script type=\"math/tex; mode=display\">\\newcommand{\\Bold}[1]{\\mathbf{#1}}\\text{VarX} = 2.00000000000000</script></html>"
      ],
      "text/latex": [
       "\\begin{math}\n",
       "\\newcommand{\\Bold}[1]{\\mathbf{#1}}\\text{VarX} = 2.00000000000000\n",
       "\\end{math}"
      ],
      "text/plain": [
       "\\text{VarX} = 2.00000000000000"
      ]
     },
     "metadata": {},
     "output_type": "display_data"
    },
    {
     "data": {
      "text/html": [
       "<html><script type=\"math/tex; mode=display\">\\newcommand{\\Bold}[1]{\\mathbf{#1}}\\text{VarY} = 2.02240000000000</script></html>"
      ],
      "text/latex": [
       "\\begin{math}\n",
       "\\newcommand{\\Bold}[1]{\\mathbf{#1}}\\text{VarY} = 2.02240000000000\n",
       "\\end{math}"
      ],
      "text/plain": [
       "\\text{VarY} = 2.02240000000000"
      ]
     },
     "metadata": {},
     "output_type": "display_data"
    }
   ],
   "source": [
    "VarX = sum([x^2*fx for x, fx in zip(X_table, f_X_table)]) - EX^2; show_var()\n",
    "VarY = sum([y^2*fy for y, fy in zip(Y_table, f_Y_table)]) - EY^2; show_var()"
   ]
  },
  {
   "cell_type": "markdown",
   "metadata": {},
   "source": [
    "### d)"
   ]
  },
  {
   "cell_type": "markdown",
   "metadata": {},
   "source": [
    "Using the fact that  \n",
    "$P(X=-1 | Y = 3) = \\dfrac{P(X=-1 \\cap Y = 3)}{P(Y=3)}$  \n",
    "and then using the joint and marginal pmfs this can be rewritten  \n",
    "$P(X=-1 | Y = 3) = \\dfrac{f_{XY}(-1, 3)}{f_Y(3)}$ "
   ]
  },
  {
   "cell_type": "code",
   "execution_count": 10,
   "metadata": {},
   "outputs": [
    {
     "data": {
      "text/html": [
       "<html><script type=\"math/tex; mode=display\">\\newcommand{\\Bold}[1]{\\mathbf{#1}}\\text{Pr_minus1_3} = 0.250000000000000</script></html>"
      ],
      "text/latex": [
       "\\begin{math}\n",
       "\\newcommand{\\Bold}[1]{\\mathbf{#1}}\\text{Pr_minus1_3} = 0.250000000000000\n",
       "\\end{math}"
      ],
      "text/plain": [
       "\\text{Pr_minus1_3} = 0.250000000000000"
      ]
     },
     "metadata": {},
     "output_type": "display_data"
    }
   ],
   "source": [
    "Pr_minus1_3 = f_XY_table[1][1]/f_Y_table[1]; show_var()"
   ]
  },
  {
   "cell_type": "markdown",
   "metadata": {},
   "source": [
    "## Problem 3:  Stochastic processes"
   ]
  },
  {
   "cell_type": "markdown",
   "metadata": {},
   "source": [
    "### a)"
   ]
  },
  {
   "cell_type": "markdown",
   "metadata": {},
   "source": [
    "In order to synthesize realizations of the described process, the relevant distribution classes from scipy.stats are used:"
   ]
  },
  {
   "cell_type": "code",
   "execution_count": 2,
   "metadata": {},
   "outputs": [
    {
     "data": {
      "application/javascript": [
       "/* Put everything inside the global mpl namespace */\n",
       "/* global mpl */\n",
       "window.mpl = {};\n",
       "\n",
       "mpl.get_websocket_type = function () {\n",
       "    if (typeof WebSocket !== 'undefined') {\n",
       "        return WebSocket;\n",
       "    } else if (typeof MozWebSocket !== 'undefined') {\n",
       "        return MozWebSocket;\n",
       "    } else {\n",
       "        alert(\n",
       "            'Your browser does not have WebSocket support. ' +\n",
       "                'Please try Chrome, Safari or Firefox ≥ 6. ' +\n",
       "                'Firefox 4 and 5 are also supported but you ' +\n",
       "                'have to enable WebSockets in about:config.'\n",
       "        );\n",
       "    }\n",
       "};\n",
       "\n",
       "mpl.figure = function (figure_id, websocket, ondownload, parent_element) {\n",
       "    this.id = figure_id;\n",
       "\n",
       "    this.ws = websocket;\n",
       "\n",
       "    this.supports_binary = this.ws.binaryType !== undefined;\n",
       "\n",
       "    if (!this.supports_binary) {\n",
       "        var warnings = document.getElementById('mpl-warnings');\n",
       "        if (warnings) {\n",
       "            warnings.style.display = 'block';\n",
       "            warnings.textContent =\n",
       "                'This browser does not support binary websocket messages. ' +\n",
       "                'Performance may be slow.';\n",
       "        }\n",
       "    }\n",
       "\n",
       "    this.imageObj = new Image();\n",
       "\n",
       "    this.context = undefined;\n",
       "    this.message = undefined;\n",
       "    this.canvas = undefined;\n",
       "    this.rubberband_canvas = undefined;\n",
       "    this.rubberband_context = undefined;\n",
       "    this.format_dropdown = undefined;\n",
       "\n",
       "    this.image_mode = 'full';\n",
       "\n",
       "    this.root = document.createElement('div');\n",
       "    this.root.setAttribute('style', 'display: inline-block');\n",
       "    this._root_extra_style(this.root);\n",
       "\n",
       "    parent_element.appendChild(this.root);\n",
       "\n",
       "    this._init_header(this);\n",
       "    this._init_canvas(this);\n",
       "    this._init_toolbar(this);\n",
       "\n",
       "    var fig = this;\n",
       "\n",
       "    this.waiting = false;\n",
       "\n",
       "    this.ws.onopen = function () {\n",
       "        fig.send_message('supports_binary', { value: fig.supports_binary });\n",
       "        fig.send_message('send_image_mode', {});\n",
       "        if (mpl.ratio !== 1) {\n",
       "            fig.send_message('set_dpi_ratio', { dpi_ratio: mpl.ratio });\n",
       "        }\n",
       "        fig.send_message('refresh', {});\n",
       "    };\n",
       "\n",
       "    this.imageObj.onload = function () {\n",
       "        if (fig.image_mode === 'full') {\n",
       "            // Full images could contain transparency (where diff images\n",
       "            // almost always do), so we need to clear the canvas so that\n",
       "            // there is no ghosting.\n",
       "            fig.context.clearRect(0, 0, fig.canvas.width, fig.canvas.height);\n",
       "        }\n",
       "        fig.context.drawImage(fig.imageObj, 0, 0);\n",
       "    };\n",
       "\n",
       "    this.imageObj.onunload = function () {\n",
       "        fig.ws.close();\n",
       "    };\n",
       "\n",
       "    this.ws.onmessage = this._make_on_message_function(this);\n",
       "\n",
       "    this.ondownload = ondownload;\n",
       "};\n",
       "\n",
       "mpl.figure.prototype._init_header = function () {\n",
       "    var titlebar = document.createElement('div');\n",
       "    titlebar.classList =\n",
       "        'ui-dialog-titlebar ui-widget-header ui-corner-all ui-helper-clearfix';\n",
       "    var titletext = document.createElement('div');\n",
       "    titletext.classList = 'ui-dialog-title';\n",
       "    titletext.setAttribute(\n",
       "        'style',\n",
       "        'width: 100%; text-align: center; padding: 3px;'\n",
       "    );\n",
       "    titlebar.appendChild(titletext);\n",
       "    this.root.appendChild(titlebar);\n",
       "    this.header = titletext;\n",
       "};\n",
       "\n",
       "mpl.figure.prototype._canvas_extra_style = function (_canvas_div) {};\n",
       "\n",
       "mpl.figure.prototype._root_extra_style = function (_canvas_div) {};\n",
       "\n",
       "mpl.figure.prototype._init_canvas = function () {\n",
       "    var fig = this;\n",
       "\n",
       "    var canvas_div = (this.canvas_div = document.createElement('div'));\n",
       "    canvas_div.setAttribute(\n",
       "        'style',\n",
       "        'border: 1px solid #ddd;' +\n",
       "            'box-sizing: content-box;' +\n",
       "            'clear: both;' +\n",
       "            'min-height: 1px;' +\n",
       "            'min-width: 1px;' +\n",
       "            'outline: 0;' +\n",
       "            'overflow: hidden;' +\n",
       "            'position: relative;' +\n",
       "            'resize: both;'\n",
       "    );\n",
       "\n",
       "    function on_keyboard_event_closure(name) {\n",
       "        return function (event) {\n",
       "            return fig.key_event(event, name);\n",
       "        };\n",
       "    }\n",
       "\n",
       "    canvas_div.addEventListener(\n",
       "        'keydown',\n",
       "        on_keyboard_event_closure('key_press')\n",
       "    );\n",
       "    canvas_div.addEventListener(\n",
       "        'keyup',\n",
       "        on_keyboard_event_closure('key_release')\n",
       "    );\n",
       "\n",
       "    this._canvas_extra_style(canvas_div);\n",
       "    this.root.appendChild(canvas_div);\n",
       "\n",
       "    var canvas = (this.canvas = document.createElement('canvas'));\n",
       "    canvas.classList.add('mpl-canvas');\n",
       "    canvas.setAttribute('style', 'box-sizing: content-box;');\n",
       "\n",
       "    this.context = canvas.getContext('2d');\n",
       "\n",
       "    var backingStore =\n",
       "        this.context.backingStorePixelRatio ||\n",
       "        this.context.webkitBackingStorePixelRatio ||\n",
       "        this.context.mozBackingStorePixelRatio ||\n",
       "        this.context.msBackingStorePixelRatio ||\n",
       "        this.context.oBackingStorePixelRatio ||\n",
       "        this.context.backingStorePixelRatio ||\n",
       "        1;\n",
       "\n",
       "    mpl.ratio = (window.devicePixelRatio || 1) / backingStore;\n",
       "\n",
       "    var rubberband_canvas = (this.rubberband_canvas = document.createElement(\n",
       "        'canvas'\n",
       "    ));\n",
       "    rubberband_canvas.setAttribute(\n",
       "        'style',\n",
       "        'box-sizing: content-box; position: absolute; left: 0; top: 0; z-index: 1;'\n",
       "    );\n",
       "\n",
       "    var resizeObserver = new ResizeObserver(function (entries) {\n",
       "        var nentries = entries.length;\n",
       "        for (var i = 0; i < nentries; i++) {\n",
       "            var entry = entries[i];\n",
       "            var width, height;\n",
       "            if (entry.contentBoxSize) {\n",
       "                if (entry.contentBoxSize instanceof Array) {\n",
       "                    // Chrome 84 implements new version of spec.\n",
       "                    width = entry.contentBoxSize[0].inlineSize;\n",
       "                    height = entry.contentBoxSize[0].blockSize;\n",
       "                } else {\n",
       "                    // Firefox implements old version of spec.\n",
       "                    width = entry.contentBoxSize.inlineSize;\n",
       "                    height = entry.contentBoxSize.blockSize;\n",
       "                }\n",
       "            } else {\n",
       "                // Chrome <84 implements even older version of spec.\n",
       "                width = entry.contentRect.width;\n",
       "                height = entry.contentRect.height;\n",
       "            }\n",
       "\n",
       "            // Keep the size of the canvas and rubber band canvas in sync with\n",
       "            // the canvas container.\n",
       "            if (entry.devicePixelContentBoxSize) {\n",
       "                // Chrome 84 implements new version of spec.\n",
       "                canvas.setAttribute(\n",
       "                    'width',\n",
       "                    entry.devicePixelContentBoxSize[0].inlineSize\n",
       "                );\n",
       "                canvas.setAttribute(\n",
       "                    'height',\n",
       "                    entry.devicePixelContentBoxSize[0].blockSize\n",
       "                );\n",
       "            } else {\n",
       "                canvas.setAttribute('width', width * mpl.ratio);\n",
       "                canvas.setAttribute('height', height * mpl.ratio);\n",
       "            }\n",
       "            canvas.setAttribute(\n",
       "                'style',\n",
       "                'width: ' + width + 'px; height: ' + height + 'px;'\n",
       "            );\n",
       "\n",
       "            rubberband_canvas.setAttribute('width', width);\n",
       "            rubberband_canvas.setAttribute('height', height);\n",
       "\n",
       "            // And update the size in Python. We ignore the initial 0/0 size\n",
       "            // that occurs as the element is placed into the DOM, which should\n",
       "            // otherwise not happen due to the minimum size styling.\n",
       "            if (width != 0 && height != 0) {\n",
       "                fig.request_resize(width, height);\n",
       "            }\n",
       "        }\n",
       "    });\n",
       "    resizeObserver.observe(canvas_div);\n",
       "\n",
       "    function on_mouse_event_closure(name) {\n",
       "        return function (event) {\n",
       "            return fig.mouse_event(event, name);\n",
       "        };\n",
       "    }\n",
       "\n",
       "    rubberband_canvas.addEventListener(\n",
       "        'mousedown',\n",
       "        on_mouse_event_closure('button_press')\n",
       "    );\n",
       "    rubberband_canvas.addEventListener(\n",
       "        'mouseup',\n",
       "        on_mouse_event_closure('button_release')\n",
       "    );\n",
       "    // Throttle sequential mouse events to 1 every 20ms.\n",
       "    rubberband_canvas.addEventListener(\n",
       "        'mousemove',\n",
       "        on_mouse_event_closure('motion_notify')\n",
       "    );\n",
       "\n",
       "    rubberband_canvas.addEventListener(\n",
       "        'mouseenter',\n",
       "        on_mouse_event_closure('figure_enter')\n",
       "    );\n",
       "    rubberband_canvas.addEventListener(\n",
       "        'mouseleave',\n",
       "        on_mouse_event_closure('figure_leave')\n",
       "    );\n",
       "\n",
       "    canvas_div.addEventListener('wheel', function (event) {\n",
       "        if (event.deltaY < 0) {\n",
       "            event.step = 1;\n",
       "        } else {\n",
       "            event.step = -1;\n",
       "        }\n",
       "        on_mouse_event_closure('scroll')(event);\n",
       "    });\n",
       "\n",
       "    canvas_div.appendChild(canvas);\n",
       "    canvas_div.appendChild(rubberband_canvas);\n",
       "\n",
       "    this.rubberband_context = rubberband_canvas.getContext('2d');\n",
       "    this.rubberband_context.strokeStyle = '#000000';\n",
       "\n",
       "    this._resize_canvas = function (width, height, forward) {\n",
       "        if (forward) {\n",
       "            canvas_div.style.width = width + 'px';\n",
       "            canvas_div.style.height = height + 'px';\n",
       "        }\n",
       "    };\n",
       "\n",
       "    // Disable right mouse context menu.\n",
       "    this.rubberband_canvas.addEventListener('contextmenu', function (_e) {\n",
       "        event.preventDefault();\n",
       "        return false;\n",
       "    });\n",
       "\n",
       "    function set_focus() {\n",
       "        canvas.focus();\n",
       "        canvas_div.focus();\n",
       "    }\n",
       "\n",
       "    window.setTimeout(set_focus, 100);\n",
       "};\n",
       "\n",
       "mpl.figure.prototype._init_toolbar = function () {\n",
       "    var fig = this;\n",
       "\n",
       "    var toolbar = document.createElement('div');\n",
       "    toolbar.classList = 'mpl-toolbar';\n",
       "    this.root.appendChild(toolbar);\n",
       "\n",
       "    function on_click_closure(name) {\n",
       "        return function (_event) {\n",
       "            return fig.toolbar_button_onclick(name);\n",
       "        };\n",
       "    }\n",
       "\n",
       "    function on_mouseover_closure(tooltip) {\n",
       "        return function (event) {\n",
       "            if (!event.currentTarget.disabled) {\n",
       "                return fig.toolbar_button_onmouseover(tooltip);\n",
       "            }\n",
       "        };\n",
       "    }\n",
       "\n",
       "    fig.buttons = {};\n",
       "    var buttonGroup = document.createElement('div');\n",
       "    buttonGroup.classList = 'mpl-button-group';\n",
       "    for (var toolbar_ind in mpl.toolbar_items) {\n",
       "        var name = mpl.toolbar_items[toolbar_ind][0];\n",
       "        var tooltip = mpl.toolbar_items[toolbar_ind][1];\n",
       "        var image = mpl.toolbar_items[toolbar_ind][2];\n",
       "        var method_name = mpl.toolbar_items[toolbar_ind][3];\n",
       "\n",
       "        if (!name) {\n",
       "            /* Instead of a spacer, we start a new button group. */\n",
       "            if (buttonGroup.hasChildNodes()) {\n",
       "                toolbar.appendChild(buttonGroup);\n",
       "            }\n",
       "            buttonGroup = document.createElement('div');\n",
       "            buttonGroup.classList = 'mpl-button-group';\n",
       "            continue;\n",
       "        }\n",
       "\n",
       "        var button = (fig.buttons[name] = document.createElement('button'));\n",
       "        button.classList = 'mpl-widget';\n",
       "        button.setAttribute('role', 'button');\n",
       "        button.setAttribute('aria-disabled', 'false');\n",
       "        button.addEventListener('click', on_click_closure(method_name));\n",
       "        button.addEventListener('mouseover', on_mouseover_closure(tooltip));\n",
       "\n",
       "        var icon_img = document.createElement('img');\n",
       "        icon_img.src = '_images/' + image + '.png';\n",
       "        icon_img.srcset = '_images/' + image + '_large.png 2x';\n",
       "        icon_img.alt = tooltip;\n",
       "        button.appendChild(icon_img);\n",
       "\n",
       "        buttonGroup.appendChild(button);\n",
       "    }\n",
       "\n",
       "    if (buttonGroup.hasChildNodes()) {\n",
       "        toolbar.appendChild(buttonGroup);\n",
       "    }\n",
       "\n",
       "    var fmt_picker = document.createElement('select');\n",
       "    fmt_picker.classList = 'mpl-widget';\n",
       "    toolbar.appendChild(fmt_picker);\n",
       "    this.format_dropdown = fmt_picker;\n",
       "\n",
       "    for (var ind in mpl.extensions) {\n",
       "        var fmt = mpl.extensions[ind];\n",
       "        var option = document.createElement('option');\n",
       "        option.selected = fmt === mpl.default_extension;\n",
       "        option.innerHTML = fmt;\n",
       "        fmt_picker.appendChild(option);\n",
       "    }\n",
       "\n",
       "    var status_bar = document.createElement('span');\n",
       "    status_bar.classList = 'mpl-message';\n",
       "    toolbar.appendChild(status_bar);\n",
       "    this.message = status_bar;\n",
       "};\n",
       "\n",
       "mpl.figure.prototype.request_resize = function (x_pixels, y_pixels) {\n",
       "    // Request matplotlib to resize the figure. Matplotlib will then trigger a resize in the client,\n",
       "    // which will in turn request a refresh of the image.\n",
       "    this.send_message('resize', { width: x_pixels, height: y_pixels });\n",
       "};\n",
       "\n",
       "mpl.figure.prototype.send_message = function (type, properties) {\n",
       "    properties['type'] = type;\n",
       "    properties['figure_id'] = this.id;\n",
       "    this.ws.send(JSON.stringify(properties));\n",
       "};\n",
       "\n",
       "mpl.figure.prototype.send_draw_message = function () {\n",
       "    if (!this.waiting) {\n",
       "        this.waiting = true;\n",
       "        this.ws.send(JSON.stringify({ type: 'draw', figure_id: this.id }));\n",
       "    }\n",
       "};\n",
       "\n",
       "mpl.figure.prototype.handle_save = function (fig, _msg) {\n",
       "    var format_dropdown = fig.format_dropdown;\n",
       "    var format = format_dropdown.options[format_dropdown.selectedIndex].value;\n",
       "    fig.ondownload(fig, format);\n",
       "};\n",
       "\n",
       "mpl.figure.prototype.handle_resize = function (fig, msg) {\n",
       "    var size = msg['size'];\n",
       "    if (size[0] !== fig.canvas.width || size[1] !== fig.canvas.height) {\n",
       "        fig._resize_canvas(size[0], size[1], msg['forward']);\n",
       "        fig.send_message('refresh', {});\n",
       "    }\n",
       "};\n",
       "\n",
       "mpl.figure.prototype.handle_rubberband = function (fig, msg) {\n",
       "    var x0 = msg['x0'] / mpl.ratio;\n",
       "    var y0 = (fig.canvas.height - msg['y0']) / mpl.ratio;\n",
       "    var x1 = msg['x1'] / mpl.ratio;\n",
       "    var y1 = (fig.canvas.height - msg['y1']) / mpl.ratio;\n",
       "    x0 = Math.floor(x0) + 0.5;\n",
       "    y0 = Math.floor(y0) + 0.5;\n",
       "    x1 = Math.floor(x1) + 0.5;\n",
       "    y1 = Math.floor(y1) + 0.5;\n",
       "    var min_x = Math.min(x0, x1);\n",
       "    var min_y = Math.min(y0, y1);\n",
       "    var width = Math.abs(x1 - x0);\n",
       "    var height = Math.abs(y1 - y0);\n",
       "\n",
       "    fig.rubberband_context.clearRect(\n",
       "        0,\n",
       "        0,\n",
       "        fig.canvas.width / mpl.ratio,\n",
       "        fig.canvas.height / mpl.ratio\n",
       "    );\n",
       "\n",
       "    fig.rubberband_context.strokeRect(min_x, min_y, width, height);\n",
       "};\n",
       "\n",
       "mpl.figure.prototype.handle_figure_label = function (fig, msg) {\n",
       "    // Updates the figure title.\n",
       "    fig.header.textContent = msg['label'];\n",
       "};\n",
       "\n",
       "mpl.figure.prototype.handle_cursor = function (fig, msg) {\n",
       "    var cursor = msg['cursor'];\n",
       "    switch (cursor) {\n",
       "        case 0:\n",
       "            cursor = 'pointer';\n",
       "            break;\n",
       "        case 1:\n",
       "            cursor = 'default';\n",
       "            break;\n",
       "        case 2:\n",
       "            cursor = 'crosshair';\n",
       "            break;\n",
       "        case 3:\n",
       "            cursor = 'move';\n",
       "            break;\n",
       "    }\n",
       "    fig.rubberband_canvas.style.cursor = cursor;\n",
       "};\n",
       "\n",
       "mpl.figure.prototype.handle_message = function (fig, msg) {\n",
       "    fig.message.textContent = msg['message'];\n",
       "};\n",
       "\n",
       "mpl.figure.prototype.handle_draw = function (fig, _msg) {\n",
       "    // Request the server to send over a new figure.\n",
       "    fig.send_draw_message();\n",
       "};\n",
       "\n",
       "mpl.figure.prototype.handle_image_mode = function (fig, msg) {\n",
       "    fig.image_mode = msg['mode'];\n",
       "};\n",
       "\n",
       "mpl.figure.prototype.handle_history_buttons = function (fig, msg) {\n",
       "    for (var key in msg) {\n",
       "        if (!(key in fig.buttons)) {\n",
       "            continue;\n",
       "        }\n",
       "        fig.buttons[key].disabled = !msg[key];\n",
       "        fig.buttons[key].setAttribute('aria-disabled', !msg[key]);\n",
       "    }\n",
       "};\n",
       "\n",
       "mpl.figure.prototype.handle_navigate_mode = function (fig, msg) {\n",
       "    if (msg['mode'] === 'PAN') {\n",
       "        fig.buttons['Pan'].classList.add('active');\n",
       "        fig.buttons['Zoom'].classList.remove('active');\n",
       "    } else if (msg['mode'] === 'ZOOM') {\n",
       "        fig.buttons['Pan'].classList.remove('active');\n",
       "        fig.buttons['Zoom'].classList.add('active');\n",
       "    } else {\n",
       "        fig.buttons['Pan'].classList.remove('active');\n",
       "        fig.buttons['Zoom'].classList.remove('active');\n",
       "    }\n",
       "};\n",
       "\n",
       "mpl.figure.prototype.updated_canvas_event = function () {\n",
       "    // Called whenever the canvas gets updated.\n",
       "    this.send_message('ack', {});\n",
       "};\n",
       "\n",
       "// A function to construct a web socket function for onmessage handling.\n",
       "// Called in the figure constructor.\n",
       "mpl.figure.prototype._make_on_message_function = function (fig) {\n",
       "    return function socket_on_message(evt) {\n",
       "        if (evt.data instanceof Blob) {\n",
       "            /* FIXME: We get \"Resource interpreted as Image but\n",
       "             * transferred with MIME type text/plain:\" errors on\n",
       "             * Chrome.  But how to set the MIME type?  It doesn't seem\n",
       "             * to be part of the websocket stream */\n",
       "            evt.data.type = 'image/png';\n",
       "\n",
       "            /* Free the memory for the previous frames */\n",
       "            if (fig.imageObj.src) {\n",
       "                (window.URL || window.webkitURL).revokeObjectURL(\n",
       "                    fig.imageObj.src\n",
       "                );\n",
       "            }\n",
       "\n",
       "            fig.imageObj.src = (window.URL || window.webkitURL).createObjectURL(\n",
       "                evt.data\n",
       "            );\n",
       "            fig.updated_canvas_event();\n",
       "            fig.waiting = false;\n",
       "            return;\n",
       "        } else if (\n",
       "            typeof evt.data === 'string' &&\n",
       "            evt.data.slice(0, 21) === 'data:image/png;base64'\n",
       "        ) {\n",
       "            fig.imageObj.src = evt.data;\n",
       "            fig.updated_canvas_event();\n",
       "            fig.waiting = false;\n",
       "            return;\n",
       "        }\n",
       "\n",
       "        var msg = JSON.parse(evt.data);\n",
       "        var msg_type = msg['type'];\n",
       "\n",
       "        // Call the  \"handle_{type}\" callback, which takes\n",
       "        // the figure and JSON message as its only arguments.\n",
       "        try {\n",
       "            var callback = fig['handle_' + msg_type];\n",
       "        } catch (e) {\n",
       "            console.log(\n",
       "                \"No handler for the '\" + msg_type + \"' message type: \",\n",
       "                msg\n",
       "            );\n",
       "            return;\n",
       "        }\n",
       "\n",
       "        if (callback) {\n",
       "            try {\n",
       "                // console.log(\"Handling '\" + msg_type + \"' message: \", msg);\n",
       "                callback(fig, msg);\n",
       "            } catch (e) {\n",
       "                console.log(\n",
       "                    \"Exception inside the 'handler_\" + msg_type + \"' callback:\",\n",
       "                    e,\n",
       "                    e.stack,\n",
       "                    msg\n",
       "                );\n",
       "            }\n",
       "        }\n",
       "    };\n",
       "};\n",
       "\n",
       "// from http://stackoverflow.com/questions/1114465/getting-mouse-location-in-canvas\n",
       "mpl.findpos = function (e) {\n",
       "    //this section is from http://www.quirksmode.org/js/events_properties.html\n",
       "    var targ;\n",
       "    if (!e) {\n",
       "        e = window.event;\n",
       "    }\n",
       "    if (e.target) {\n",
       "        targ = e.target;\n",
       "    } else if (e.srcElement) {\n",
       "        targ = e.srcElement;\n",
       "    }\n",
       "    if (targ.nodeType === 3) {\n",
       "        // defeat Safari bug\n",
       "        targ = targ.parentNode;\n",
       "    }\n",
       "\n",
       "    // pageX,Y are the mouse positions relative to the document\n",
       "    var boundingRect = targ.getBoundingClientRect();\n",
       "    var x = e.pageX - (boundingRect.left + document.body.scrollLeft);\n",
       "    var y = e.pageY - (boundingRect.top + document.body.scrollTop);\n",
       "\n",
       "    return { x: x, y: y };\n",
       "};\n",
       "\n",
       "/*\n",
       " * return a copy of an object with only non-object keys\n",
       " * we need this to avoid circular references\n",
       " * http://stackoverflow.com/a/24161582/3208463\n",
       " */\n",
       "function simpleKeys(original) {\n",
       "    return Object.keys(original).reduce(function (obj, key) {\n",
       "        if (typeof original[key] !== 'object') {\n",
       "            obj[key] = original[key];\n",
       "        }\n",
       "        return obj;\n",
       "    }, {});\n",
       "}\n",
       "\n",
       "mpl.figure.prototype.mouse_event = function (event, name) {\n",
       "    var canvas_pos = mpl.findpos(event);\n",
       "\n",
       "    if (name === 'button_press') {\n",
       "        this.canvas.focus();\n",
       "        this.canvas_div.focus();\n",
       "    }\n",
       "\n",
       "    var x = canvas_pos.x * mpl.ratio;\n",
       "    var y = canvas_pos.y * mpl.ratio;\n",
       "\n",
       "    this.send_message(name, {\n",
       "        x: x,\n",
       "        y: y,\n",
       "        button: event.button,\n",
       "        step: event.step,\n",
       "        guiEvent: simpleKeys(event),\n",
       "    });\n",
       "\n",
       "    /* This prevents the web browser from automatically changing to\n",
       "     * the text insertion cursor when the button is pressed.  We want\n",
       "     * to control all of the cursor setting manually through the\n",
       "     * 'cursor' event from matplotlib */\n",
       "    event.preventDefault();\n",
       "    return false;\n",
       "};\n",
       "\n",
       "mpl.figure.prototype._key_event_extra = function (_event, _name) {\n",
       "    // Handle any extra behaviour associated with a key event\n",
       "};\n",
       "\n",
       "mpl.figure.prototype.key_event = function (event, name) {\n",
       "    // Prevent repeat events\n",
       "    if (name === 'key_press') {\n",
       "        if (event.which === this._key) {\n",
       "            return;\n",
       "        } else {\n",
       "            this._key = event.which;\n",
       "        }\n",
       "    }\n",
       "    if (name === 'key_release') {\n",
       "        this._key = null;\n",
       "    }\n",
       "\n",
       "    var value = '';\n",
       "    if (event.ctrlKey && event.which !== 17) {\n",
       "        value += 'ctrl+';\n",
       "    }\n",
       "    if (event.altKey && event.which !== 18) {\n",
       "        value += 'alt+';\n",
       "    }\n",
       "    if (event.shiftKey && event.which !== 16) {\n",
       "        value += 'shift+';\n",
       "    }\n",
       "\n",
       "    value += 'k';\n",
       "    value += event.which.toString();\n",
       "\n",
       "    this._key_event_extra(event, name);\n",
       "\n",
       "    this.send_message(name, { key: value, guiEvent: simpleKeys(event) });\n",
       "    return false;\n",
       "};\n",
       "\n",
       "mpl.figure.prototype.toolbar_button_onclick = function (name) {\n",
       "    if (name === 'download') {\n",
       "        this.handle_save(this, null);\n",
       "    } else {\n",
       "        this.send_message('toolbar_button', { name: name });\n",
       "    }\n",
       "};\n",
       "\n",
       "mpl.figure.prototype.toolbar_button_onmouseover = function (tooltip) {\n",
       "    this.message.textContent = tooltip;\n",
       "};\n",
       "mpl.toolbar_items = [[\"Home\", \"Reset original view\", \"fa fa-home icon-home\", \"home\"], [\"Back\", \"Back to previous view\", \"fa fa-arrow-left icon-arrow-left\", \"back\"], [\"Forward\", \"Forward to next view\", \"fa fa-arrow-right icon-arrow-right\", \"forward\"], [\"\", \"\", \"\", \"\"], [\"Pan\", \"Left button pans, Right button zooms\\nx/y fixes axis, CTRL fixes aspect\", \"fa fa-arrows icon-move\", \"pan\"], [\"Zoom\", \"Zoom to rectangle\\nx/y fixes axis, CTRL fixes aspect\", \"fa fa-square-o icon-check-empty\", \"zoom\"], [\"\", \"\", \"\", \"\"], [\"Download\", \"Download plot\", \"fa fa-floppy-o icon-save\", \"download\"]];\n",
       "\n",
       "mpl.extensions = [\"eps\", \"jpeg\", \"pdf\", \"png\", \"ps\", \"raw\", \"svg\", \"tif\"];\n",
       "\n",
       "mpl.default_extension = \"png\";/* global mpl */\n",
       "\n",
       "var comm_websocket_adapter = function (comm) {\n",
       "    // Create a \"websocket\"-like object which calls the given IPython comm\n",
       "    // object with the appropriate methods. Currently this is a non binary\n",
       "    // socket, so there is still some room for performance tuning.\n",
       "    var ws = {};\n",
       "\n",
       "    ws.close = function () {\n",
       "        comm.close();\n",
       "    };\n",
       "    ws.send = function (m) {\n",
       "        //console.log('sending', m);\n",
       "        comm.send(m);\n",
       "    };\n",
       "    // Register the callback with on_msg.\n",
       "    comm.on_msg(function (msg) {\n",
       "        //console.log('receiving', msg['content']['data'], msg);\n",
       "        // Pass the mpl event to the overridden (by mpl) onmessage function.\n",
       "        ws.onmessage(msg['content']['data']);\n",
       "    });\n",
       "    return ws;\n",
       "};\n",
       "\n",
       "mpl.mpl_figure_comm = function (comm, msg) {\n",
       "    // This is the function which gets called when the mpl process\n",
       "    // starts-up an IPython Comm through the \"matplotlib\" channel.\n",
       "\n",
       "    var id = msg.content.data.id;\n",
       "    // Get hold of the div created by the display call when the Comm\n",
       "    // socket was opened in Python.\n",
       "    var element = document.getElementById(id);\n",
       "    var ws_proxy = comm_websocket_adapter(comm);\n",
       "\n",
       "    function ondownload(figure, _format) {\n",
       "        window.open(figure.canvas.toDataURL());\n",
       "    }\n",
       "\n",
       "    var fig = new mpl.figure(id, ws_proxy, ondownload, element);\n",
       "\n",
       "    // Call onopen now - mpl needs it, as it is assuming we've passed it a real\n",
       "    // web socket which is closed, not our websocket->open comm proxy.\n",
       "    ws_proxy.onopen();\n",
       "\n",
       "    fig.parent_element = element;\n",
       "    fig.cell_info = mpl.find_output_cell(\"<div id='\" + id + \"'></div>\");\n",
       "    if (!fig.cell_info) {\n",
       "        console.error('Failed to find cell for figure', id, fig);\n",
       "        return;\n",
       "    }\n",
       "};\n",
       "\n",
       "mpl.figure.prototype.handle_close = function (fig, msg) {\n",
       "    var width = fig.canvas.width / mpl.ratio;\n",
       "    fig.root.removeEventListener('remove', this._remove_fig_handler);\n",
       "\n",
       "    // Update the output cell to use the data from the current canvas.\n",
       "    fig.push_to_output();\n",
       "    var dataURL = fig.canvas.toDataURL();\n",
       "    // Re-enable the keyboard manager in IPython - without this line, in FF,\n",
       "    // the notebook keyboard shortcuts fail.\n",
       "    IPython.keyboard_manager.enable();\n",
       "    fig.parent_element.innerHTML =\n",
       "        '<img src=\"' + dataURL + '\" width=\"' + width + '\">';\n",
       "    fig.close_ws(fig, msg);\n",
       "};\n",
       "\n",
       "mpl.figure.prototype.close_ws = function (fig, msg) {\n",
       "    fig.send_message('closing', msg);\n",
       "    // fig.ws.close()\n",
       "};\n",
       "\n",
       "mpl.figure.prototype.push_to_output = function (_remove_interactive) {\n",
       "    // Turn the data on the canvas into data in the output cell.\n",
       "    var width = this.canvas.width / mpl.ratio;\n",
       "    var dataURL = this.canvas.toDataURL();\n",
       "    this.cell_info[1]['text/html'] =\n",
       "        '<img src=\"' + dataURL + '\" width=\"' + width + '\">';\n",
       "};\n",
       "\n",
       "mpl.figure.prototype.updated_canvas_event = function () {\n",
       "    // Tell IPython that the notebook contents must change.\n",
       "    IPython.notebook.set_dirty(true);\n",
       "    this.send_message('ack', {});\n",
       "    var fig = this;\n",
       "    // Wait a second, then push the new image to the DOM so\n",
       "    // that it is saved nicely (might be nice to debounce this).\n",
       "    setTimeout(function () {\n",
       "        fig.push_to_output();\n",
       "    }, 1000);\n",
       "};\n",
       "\n",
       "mpl.figure.prototype._init_toolbar = function () {\n",
       "    var fig = this;\n",
       "\n",
       "    var toolbar = document.createElement('div');\n",
       "    toolbar.classList = 'btn-toolbar';\n",
       "    this.root.appendChild(toolbar);\n",
       "\n",
       "    function on_click_closure(name) {\n",
       "        return function (_event) {\n",
       "            return fig.toolbar_button_onclick(name);\n",
       "        };\n",
       "    }\n",
       "\n",
       "    function on_mouseover_closure(tooltip) {\n",
       "        return function (event) {\n",
       "            if (!event.currentTarget.disabled) {\n",
       "                return fig.toolbar_button_onmouseover(tooltip);\n",
       "            }\n",
       "        };\n",
       "    }\n",
       "\n",
       "    fig.buttons = {};\n",
       "    var buttonGroup = document.createElement('div');\n",
       "    buttonGroup.classList = 'btn-group';\n",
       "    var button;\n",
       "    for (var toolbar_ind in mpl.toolbar_items) {\n",
       "        var name = mpl.toolbar_items[toolbar_ind][0];\n",
       "        var tooltip = mpl.toolbar_items[toolbar_ind][1];\n",
       "        var image = mpl.toolbar_items[toolbar_ind][2];\n",
       "        var method_name = mpl.toolbar_items[toolbar_ind][3];\n",
       "\n",
       "        if (!name) {\n",
       "            /* Instead of a spacer, we start a new button group. */\n",
       "            if (buttonGroup.hasChildNodes()) {\n",
       "                toolbar.appendChild(buttonGroup);\n",
       "            }\n",
       "            buttonGroup = document.createElement('div');\n",
       "            buttonGroup.classList = 'btn-group';\n",
       "            continue;\n",
       "        }\n",
       "\n",
       "        button = fig.buttons[name] = document.createElement('button');\n",
       "        button.classList = 'btn btn-default';\n",
       "        button.href = '#';\n",
       "        button.title = name;\n",
       "        button.innerHTML = '<i class=\"fa ' + image + ' fa-lg\"></i>';\n",
       "        button.addEventListener('click', on_click_closure(method_name));\n",
       "        button.addEventListener('mouseover', on_mouseover_closure(tooltip));\n",
       "        buttonGroup.appendChild(button);\n",
       "    }\n",
       "\n",
       "    if (buttonGroup.hasChildNodes()) {\n",
       "        toolbar.appendChild(buttonGroup);\n",
       "    }\n",
       "\n",
       "    // Add the status bar.\n",
       "    var status_bar = document.createElement('span');\n",
       "    status_bar.classList = 'mpl-message pull-right';\n",
       "    toolbar.appendChild(status_bar);\n",
       "    this.message = status_bar;\n",
       "\n",
       "    // Add the close button to the window.\n",
       "    var buttongrp = document.createElement('div');\n",
       "    buttongrp.classList = 'btn-group inline pull-right';\n",
       "    button = document.createElement('button');\n",
       "    button.classList = 'btn btn-mini btn-primary';\n",
       "    button.href = '#';\n",
       "    button.title = 'Stop Interaction';\n",
       "    button.innerHTML = '<i class=\"fa fa-power-off icon-remove icon-large\"></i>';\n",
       "    button.addEventListener('click', function (_evt) {\n",
       "        fig.handle_close(fig, {});\n",
       "    });\n",
       "    button.addEventListener(\n",
       "        'mouseover',\n",
       "        on_mouseover_closure('Stop Interaction')\n",
       "    );\n",
       "    buttongrp.appendChild(button);\n",
       "    var titlebar = this.root.querySelector('.ui-dialog-titlebar');\n",
       "    titlebar.insertBefore(buttongrp, titlebar.firstChild);\n",
       "};\n",
       "\n",
       "mpl.figure.prototype._remove_fig_handler = function () {\n",
       "    this.close_ws(this, {});\n",
       "};\n",
       "\n",
       "mpl.figure.prototype._root_extra_style = function (el) {\n",
       "    el.style.boxSizing = 'content-box'; // override notebook setting of border-box.\n",
       "    el.addEventListener('remove', this._remove_fig_handler);\n",
       "};\n",
       "\n",
       "mpl.figure.prototype._canvas_extra_style = function (el) {\n",
       "    // this is important to make the div 'focusable\n",
       "    el.setAttribute('tabindex', 0);\n",
       "    // reach out to IPython and tell the keyboard manager to turn it's self\n",
       "    // off when our div gets focus\n",
       "\n",
       "    // location in version 3\n",
       "    if (IPython.notebook.keyboard_manager) {\n",
       "        IPython.notebook.keyboard_manager.register_events(el);\n",
       "    } else {\n",
       "        // location in version 2\n",
       "        IPython.keyboard_manager.register_events(el);\n",
       "    }\n",
       "};\n",
       "\n",
       "mpl.figure.prototype._key_event_extra = function (event, _name) {\n",
       "    var manager = IPython.notebook.keyboard_manager;\n",
       "    if (!manager) {\n",
       "        manager = IPython.keyboard_manager;\n",
       "    }\n",
       "\n",
       "    // Check for shift+enter\n",
       "    if (event.shiftKey && event.which === 13) {\n",
       "        this.canvas_div.blur();\n",
       "        // select the cell after this one\n",
       "        var index = IPython.notebook.find_cell_index(this.cell_info[0]);\n",
       "        IPython.notebook.select(index + 1);\n",
       "    }\n",
       "};\n",
       "\n",
       "mpl.figure.prototype.handle_save = function (fig, _msg) {\n",
       "    fig.ondownload(fig, null);\n",
       "};\n",
       "\n",
       "mpl.find_output_cell = function (html_output) {\n",
       "    // Return the cell and output element which can be found *uniquely* in the notebook.\n",
       "    // Note - this is a bit hacky, but it is done because the \"notebook_saving.Notebook\"\n",
       "    // IPython event is triggered only after the cells have been serialised, which for\n",
       "    // our purposes (turning an active figure into a static one), is too late.\n",
       "    var cells = IPython.notebook.get_cells();\n",
       "    var ncells = cells.length;\n",
       "    for (var i = 0; i < ncells; i++) {\n",
       "        var cell = cells[i];\n",
       "        if (cell.cell_type === 'code') {\n",
       "            for (var j = 0; j < cell.output_area.outputs.length; j++) {\n",
       "                var data = cell.output_area.outputs[j];\n",
       "                if (data.data) {\n",
       "                    // IPython >= 3 moved mimebundle to data attribute of output\n",
       "                    data = data.data;\n",
       "                }\n",
       "                if (data['text/html'] === html_output) {\n",
       "                    return [cell, data, j];\n",
       "                }\n",
       "            }\n",
       "        }\n",
       "    }\n",
       "};\n",
       "\n",
       "// Register the function which deals with the matplotlib target/channel.\n",
       "// The kernel may be null if the page has been refreshed.\n",
       "if (IPython.notebook.kernel !== null) {\n",
       "    IPython.notebook.kernel.comm_manager.register_target(\n",
       "        'matplotlib',\n",
       "        mpl.mpl_figure_comm\n",
       "    );\n",
       "}\n"
      ],
      "text/plain": [
       "<IPython.core.display.Javascript object>"
      ]
     },
     "metadata": {},
     "output_type": "display_data"
    },
    {
     "data": {
      "text/html": [
       "<img src=\"data:image/png;base64,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\" width=\"640\">"
      ],
      "text/plain": [
       "<IPython.core.display.HTML object>"
      ]
     },
     "metadata": {},
     "output_type": "display_data"
    }
   ],
   "source": [
    "%matplotlib notebook\n",
    "import scipy.stats\n",
    "import matplotlib.pyplot as plt\n",
    "\n",
    "def realization_of_X(n):\n",
    "    sample_len = len(n)\n",
    "    phi = scipy.stats.uniform.rvs(-pi, pi)\n",
    "    W = scipy.stats.norm.rvs(0, 0.1, sample_len)\n",
    "    return [2*cos(n*pi/10 + phi) + W[i] for i, n in enumerate(n)]\n",
    "\n",
    "num_realizations = 3\n",
    "_n = range(1, 21)\n",
    "realizations = [realization_of_X(_n) for _ in range(num_realizations)]\n",
    "\n",
    "offset = 0.1\n",
    "fmt = ['r', 'g', 'b']\n",
    "fig, ax = plt.subplots()\n",
    "for i in range(num_realizations):\n",
    "    ax.stem([-offset + i*offset + n for n in _n], realizations[i], fmt[i], fmt[i]+'o')\n",
    "    ax.set_xlabel('n')\n",
    "    ax.set_ylabel('X[n]')\n",
    "fig.show()"
   ]
  },
  {
   "cell_type": "markdown",
   "metadata": {},
   "source": [
    "### b)"
   ]
  },
  {
   "cell_type": "markdown",
   "metadata": {},
   "source": [
    "In order to calculate the ensemble mean and variance, standard algebraic rules for mean and variances are applied to the formula for the process:  \n",
    "$E(X[n]) = E\\left(2 \\cdot \\text{cos}\\left(\\frac{\\pi}{10}\\cdot n + \\phi\\right) + W[n]\\right) = 2\\cdot E\\left(\\text{cos}\\left(\\frac{\\pi}{10}\\cdot n + \\phi\\right)\\right) + E\\left(W[n]\\right) = 2 \\cdot 0 + 0 = 0$  \n",
    "$\\text{Var}(X[n]) = \\text{Var}\\left(2 \\cdot \\text{cos}\\left(\\frac{\\pi}{10}\\cdot n + \\phi\\right) + W[n]\\right) = \n",
    "2^2 \\cdot \\text{Var}\\left(\\text{cos}\\left(\\frac{\\pi}{10}\\cdot n + \\phi\\right)\\right) + \\text{Var}\\left(W[n]\\right)$  \n",
    "Since the variance of the cosine is unaffected by the phase change, the variance of the sine can be found as follows:"
   ]
  },
  {
   "cell_type": "code",
   "execution_count": 27,
   "metadata": {},
   "outputs": [
    {
     "data": {
      "text/html": [
       "<html><script type=\"math/tex; mode=display\">\\newcommand{\\Bold}[1]{\\mathbf{#1}}2.56728534357493</script></html>"
      ],
      "text/latex": [
       "\\begin{math}\n",
       "\\newcommand{\\Bold}[1]{\\mathbf{#1}}2.56728534357493\n",
       "\\end{math}"
      ],
      "text/plain": [
       "2.56728534357493"
      ]
     },
     "execution_count": 27,
     "metadata": {},
     "output_type": "execute_result"
    }
   ],
   "source": [
    "var('x')\n",
    "n(integral(cos(pi/10*x)^2, x, 0, 2*pi))"
   ]
  },
  {
   "attachments": {},
   "cell_type": "markdown",
   "metadata": {},
   "source": [
    "Resulting in  \n",
    "$\\text{Var}(X[n]) = 2^2 \\cdot 2.56728534357493 + 0.1 = 10.3691413742997$  "
   ]
  },
  {
   "cell_type": "markdown",
   "metadata": {},
   "source": [
    "### c)"
   ]
  },
  {
   "cell_type": "markdown",
   "metadata": {},
   "source": [
    "Since the mean and variance doesn't change with time, __the process is WSS__.  \n",
    "Since the phase change introduced by phi doesn't change neither the mean nor the variance, these will be the same for any realization sampled over a sufficiently long time, and __the process is ergodic__."
   ]
  },
  {
   "cell_type": "markdown",
   "metadata": {},
   "source": [
    "## Problem 4:  Statistics"
   ]
  },
  {
   "cell_type": "code",
   "execution_count": 8,
   "metadata": {},
   "outputs": [],
   "source": [
    "num_cars = [160, 142, 118, 155, 100, 127, 93, 163, 136, 169, 102, 109]"
   ]
  },
  {
   "cell_type": "markdown",
   "metadata": {},
   "source": [
    "### a)"
   ]
  },
  {
   "cell_type": "markdown",
   "metadata": {},
   "source": [
    "Since the subject is examined is the number of spontaneous events per unit of time, a Poisson distribution is a fitting choice."
   ]
  },
  {
   "cell_type": "markdown",
   "metadata": {},
   "source": [
    "### b)"
   ]
  },
  {
   "cell_type": "markdown",
   "metadata": {},
   "source": [
    "The estimated rate is found as:  \n",
    "$\\hat \\lambda = \\frac x t$  \n",
    "where x is the number of events (cars arriving at the intersection in this case), and t is the duration of the observation.  \n",
    "Using cars per minute as the unit for the rate, the rates of each interval as well as the overall rate is:  "
   ]
  },
  {
   "cell_type": "code",
   "execution_count": 14,
   "metadata": {},
   "outputs": [
    {
     "data": {
      "text/html": [
       "<html><script type=\"math/tex; mode=display\">\\newcommand{\\Bold}[1]{\\mathbf{#1}}\\text{rates} = \\left[32, \\frac{142}{5}, \\frac{118}{5}, 31, 20, \\frac{127}{5}, \\frac{93}{5}, \\frac{163}{5}, \\frac{136}{5}, \\frac{169}{5}, \\frac{102}{5}, \\frac{109}{5}\\right]</script></html>"
      ],
      "text/latex": [
       "\\begin{math}\n",
       "\\newcommand{\\Bold}[1]{\\mathbf{#1}}\\text{rates} = \\left[32, \\frac{142}{5}, \\frac{118}{5}, 31, 20, \\frac{127}{5}, \\frac{93}{5}, \\frac{163}{5}, \\frac{136}{5}, \\frac{169}{5}, \\frac{102}{5}, \\frac{109}{5}\\right]\n",
       "\\end{math}"
      ],
      "text/plain": [
       "\\text{rates} = \\left[32, \\frac{142}{5}, \\frac{118}{5}, 31, 20, \\frac{127}{5}, \\frac{93}{5}, \\frac{163}{5}, \\frac{136}{5}, \\frac{169}{5}, \\frac{102}{5}, \\frac{109}{5}\\right]"
      ]
     },
     "metadata": {},
     "output_type": "display_data"
    },
    {
     "data": {
      "text/html": [
       "<html><script type=\"math/tex; mode=display\">\\newcommand{\\Bold}[1]{\\mathbf{#1}}\\text{total_rate} = \\frac{787}{30}</script></html>"
      ],
      "text/latex": [
       "\\begin{math}\n",
       "\\newcommand{\\Bold}[1]{\\mathbf{#1}}\\text{total_rate} = \\frac{787}{30}\n",
       "\\end{math}"
      ],
      "text/plain": [
       "\\text{total_rate} = \\frac{787}{30}"
      ]
     },
     "metadata": {},
     "output_type": "display_data"
    },
    {
     "data": {
      "text/html": [
       "<html><script type=\"math/tex; mode=display\">\\newcommand{\\Bold}[1]{\\mathbf{#1}}26.2333333333333</script></html>"
      ],
      "text/latex": [
       "\\begin{math}\n",
       "\\newcommand{\\Bold}[1]{\\mathbf{#1}}26.2333333333333\n",
       "\\end{math}"
      ],
      "text/plain": [
       "26.2333333333333"
      ]
     },
     "execution_count": 14,
     "metadata": {},
     "output_type": "execute_result"
    }
   ],
   "source": [
    "rates = [x/5 for x in num_cars]; show_var()\n",
    "total_rate = sum(num_cars)/60; show_var()\n",
    "n(total_rate)"
   ]
  },
  {
   "cell_type": "markdown",
   "metadata": {},
   "source": [
    "### c)"
   ]
  },
  {
   "cell_type": "markdown",
   "metadata": {},
   "source": [
    "Given that the experimenters had an expected rate of cars, this is used for the null hypothesis:  \n",
    "$H_0\\text{:}\\quad \\lambda = 25$  \n",
    "$H_1\\text{:}\\quad \\lambda \\ne 25$"
   ]
  },
  {
   "cell_type": "markdown",
   "metadata": {},
   "source": [
    "### d)"
   ]
  },
  {
   "cell_type": "markdown",
   "metadata": {},
   "source": [
    "For a test statistic, the deviation of the observation from the expected mean should be normalized by the (expected) standard deviation of the data. For the poisson distribution this leads to:  \n",
    "$z = \\dfrac{x-t\\cdot \\lambda}{\\sqrt{t\\cdot\\lambda}}$"
   ]
  },
  {
   "cell_type": "code",
   "execution_count": 12,
   "metadata": {},
   "outputs": [
    {
     "data": {
      "text/html": [
       "<html><script type=\"math/tex; mode=display\">\\newcommand{\\Bold}[1]{\\mathbf{#1}}\\text{z} = \\frac{37}{75} \\, \\sqrt{15} \\sim 1.91</script></html>"
      ],
      "text/latex": [
       "\\begin{math}\n",
       "\\newcommand{\\Bold}[1]{\\mathbf{#1}}\\text{z} = \\frac{37}{75} \\, \\sqrt{15} \\sim 1.91\n",
       "\\end{math}"
      ],
      "text/plain": [
       "\\text{z} = \\frac{37}{75} \\, \\sqrt{15} \\sim 1.91"
      ]
     },
     "metadata": {},
     "output_type": "display_data"
    }
   ],
   "source": [
    "z = (sum(num_cars) - (60 * 25)) / sqrt(60*25); show_var()"
   ]
  },
  {
   "cell_type": "markdown",
   "metadata": {},
   "source": [
    "Using a normal distribution, the pvalue can be approximated as:"
   ]
  },
  {
   "cell_type": "code",
   "execution_count": 17,
   "metadata": {},
   "outputs": [
    {
     "data": {
      "text/html": [
       "<html><script type=\"math/tex; mode=display\">\\newcommand{\\Bold}[1]{\\mathbf{#1}}\\text{p_val} = 0.05604677300770544 \\sim 0.0560</script></html>"
      ],
      "text/latex": [
       "\\begin{math}\n",
       "\\newcommand{\\Bold}[1]{\\mathbf{#1}}\\text{p_val} = 0.05604677300770544 \\sim 0.0560\n",
       "\\end{math}"
      ],
      "text/plain": [
       "\\text{p_val} = 0.05604677300770544 \\sim 0.0560"
      ]
     },
     "metadata": {},
     "output_type": "display_data"
    }
   ],
   "source": [
    "p_val = 2*(1 - scipy.stats.norm.cdf(float(abs(z)))); show_var()"
   ]
  },
  {
   "cell_type": "markdown",
   "metadata": {},
   "source": [
    "### e)"
   ]
  },
  {
   "cell_type": "markdown",
   "metadata": {},
   "source": [
    "Again using the normal approximation, we get  \n",
    "$\\lambda_{\\pm} = \\frac 1 t \\left[x + \\frac {u^2}{2} \\pm u\\cdot \\sqrt{x+\\frac{u^2}{4}}\\right]$  \n",
    "where $u = \\Phi^{-1}\\left(1-\\frac{\\alpha}2\\right)$"
   ]
  },
  {
   "cell_type": "code",
   "execution_count": 20,
   "metadata": {},
   "outputs": [
    {
     "data": {
      "text/html": [
       "<html><script type=\"math/tex; mode=display\">\\newcommand{\\Bold}[1]{\\mathbf{#1}}\\text{lambda_plus} = 27.561723498449567 \\sim 27.6</script></html>"
      ],
      "text/latex": [
       "\\begin{math}\n",
       "\\newcommand{\\Bold}[1]{\\mathbf{#1}}\\text{lambda_plus} = 27.561723498449567 \\sim 27.6\n",
       "\\end{math}"
      ],
      "text/plain": [
       "\\text{lambda_plus} = 27.561723498449567 \\sim 27.6"
      ]
     },
     "metadata": {},
     "output_type": "display_data"
    },
    {
     "data": {
      "text/html": [
       "<html><script type=\"math/tex; mode=display\">\\newcommand{\\Bold}[1]{\\mathbf{#1}}\\text{lambda_minus} = 24.968967481895337 \\sim 25.0</script></html>"
      ],
      "text/latex": [
       "\\begin{math}\n",
       "\\newcommand{\\Bold}[1]{\\mathbf{#1}}\\text{lambda_minus} = 24.968967481895337 \\sim 25.0\n",
       "\\end{math}"
      ],
      "text/plain": [
       "\\text{lambda_minus} = 24.968967481895337 \\sim 25.0"
      ]
     },
     "metadata": {},
     "output_type": "display_data"
    }
   ],
   "source": [
    "u = scipy.stats.norm.ppf(1-0.05/2)\n",
    "x = sum(num_cars)\n",
    "lambda_plus = (x + u^2/2 + u*sqrt(x+u^2/4))/60; show_var()\n",
    "lambda_minus = (x + u^2/2 - u*sqrt(x+u^2/4))/60; show_var()"
   ]
  },
  {
   "cell_type": "markdown",
   "metadata": {},
   "source": [
    "### f)"
   ]
  },
  {
   "cell_type": "markdown",
   "metadata": {},
   "source": [
    "Based on both the p-value and the confidence interval, the null hypothesis cannot be rejected and with 95% confidence, the assumption of 25 cars per minute is reasonable."
   ]
  }
 ],
 "metadata": {
  "kernelspec": {
   "display_name": "SageMath 9.2",
   "language": "sage",
   "name": "sagemath"
  },
  "language_info": {
   "codemirror_mode": {
    "name": "ipython",
    "version": 3
   },
   "file_extension": ".py",
   "mimetype": "text/x-python",
   "name": "python",
   "nbconvert_exporter": "python",
   "pygments_lexer": "ipython3",
   "version": "3.8.5"
  }
 },
 "nbformat": 4,
 "nbformat_minor": 4
}
