{
 "cells": [
  {
   "cell_type": "markdown",
   "metadata": {},
   "source": [
    "#### Group Assignemt 1\n",
    "Drawing Cards\n",
    "=============\n",
    "\n",
    "Et alm. spil kort med 4 kulører og 52 kort:  \n",
    "* Værdier: \n",
    "    * Es = 1  \n",
    "    * 2, 3, ...,10 = 2, 3, ..., 10 (værdien af kortet)  \n",
    "    * Knægt, Dame, Konge = 10\n",
    "* Events: S = Spar; K = Klør; H = Hjerter; R = Ruder; 10 = Kort med værdien 10; Es = Es"
   ]
  },
  {
   "cell_type": "markdown",
   "metadata": {},
   "source": [
    "Question 1\n",
    "----------\n",
    "Tegn Venn diagram over kortspillet med events."
   ]
  },
  {
   "cell_type": "markdown",
   "metadata": {},
   "source": [
    "Question 2\n",
    "----------\n",
    "Beregn sandsynligheden for at trække hhv. en spar, klør, hjerter eller ruder, Pr(S), Pr(K), Pr(H), Pr(R)."
   ]
  },
  {
   "cell_type": "code",
   "execution_count": 14,
   "metadata": {},
   "outputs": [
    {
     "data": {
      "text/plain": [
       "1/4"
      ]
     },
     "execution_count": 14,
     "metadata": {},
     "output_type": "execute_result"
    }
   ],
   "source": [
    "num_cards = 52\n",
    "num_hearts = num_diamonds = num_spades = num_clubs = num_cards/4\n",
    "P_est_hearts = num_hearts/num_cards\n",
    "P_est_diamonds = num_diamonds/num_cards\n",
    "P_est_spades = num_spades/num_cards\n",
    "P_est_clubs = num_clubs/num_cards\n",
    "\n",
    "P_hearts"
   ]
  },
  {
   "cell_type": "code",
   "execution_count": 15,
   "metadata": {},
   "outputs": [
    {
     "data": {
      "text/plain": [
       "1/13"
      ]
     },
     "execution_count": 15,
     "metadata": {},
     "output_type": "execute_result"
    }
   ],
   "source": [
    "P_est_ace = 4/num_cards\n",
    "P_est_ace"
   ]
  },
  {
   "cell_type": "code",
   "execution_count": 18,
   "metadata": {},
   "outputs": [
    {
     "data": {
      "text/plain": [
       "1/52"
      ]
     },
     "execution_count": 18,
     "metadata": {},
     "output_type": "execute_result"
    }
   ],
   "source": [
    "P_est_ace_of_hearts = P_est_ace * P_est_hearts\n",
    "P_est_ace_of_hearts"
   ]
  },
  {
   "cell_type": "code",
   "execution_count": null,
   "metadata": {},
   "outputs": [],
   "source": []
  }
 ],
 "metadata": {
  "kernelspec": {
   "display_name": "SageMath 9.2",
   "language": "sage",
   "name": "sagemath"
  },
  "language_info": {
   "codemirror_mode": {
    "name": "ipython",
    "version": 3
   },
   "file_extension": ".py",
   "mimetype": "text/x-python",
   "name": "python",
   "nbconvert_exporter": "python",
   "pygments_lexer": "ipython3",
   "version": "3.8.5"
  }
 },
 "nbformat": 4,
 "nbformat_minor": 4
}
