{
 "cells": [
  {
   "cell_type": "code",
   "execution_count": null,
   "metadata": {},
   "outputs": [],
   "source": [
    "load('../../F21-ETALA/etala_utilities.sage')\n",
    "import matplotlib.pyplot as plt\n",
    "%matplotlib notebook"
   ]
  },
  {
   "cell_type": "markdown",
   "metadata": {},
   "source": [
    "##### F21ETSMP Group Assignment 13\n",
    "# Ohm’s Law - Linear Modelling"
   ]
  },
  {
   "cell_type": "markdown",
   "metadata": {
    "variables": {
     " LList([-0.118,-0.048, 0.011, 0.056, 0.088, 0.160, 0.215, 0.284, 0.296, 0.307, 0.383, 0.477, 0.479, 0.01, 0.03, 0.05,-0.01, 0.0], name='I', wrapper='$$') ": "$$ I = \\left[-0.118, -0.048, 0.011, 0.056, 0.088, 0.16, 0.215, 0.284, 0.296, 0.307, 0.383, 0.477, 0.479, 0.01, 0.03, 0.05, -0.01, 0.\\right] $$",
     " LList([-10,-5, 0, 5, 10, 15, 20, 25, 30, 35, 40, 45, 50, 55, 60, 65, 70, 75], name='U', wrapper='$$') ": "$$ U = \\left[-10, -5, 0, 5, 10, 15, 20, 25, 30, 35, 40, 45, 50, 55, 60, 65, 70, 75\\right] $$"
    }
   },
   "source": [
    "You are given the assignment to verify Ohm’s law in the lab. In one form, Ohm’s Law states that voltage divided by resistance is equal to current:  \n",
    "$$UR=I$$    \n",
    "You have a $R=100\\Omega$ Resistor, and measure the current going through the resistor at different voltages:  \n",
    "{{ LList([-10,-5, 0, 5, 10, 15, 20, 25, 30, 35, 40, 45, 50, 55, 60, 65, 70, 75], name='U', wrapper='$$') }}  \n",
    "{{ LList([-0.118,-0.048, 0.011, 0.056, 0.088, 0.160, 0.215, 0.284, 0.296, 0.307, 0.383, 0.477, 0.479, 0.01, 0.03, 0.05,-0.01, 0.0], name='I', wrapper='$$') }}  \n",
    "Based on the measured data answer the following questions:"
   ]
  },
  {
   "cell_type": "markdown",
   "metadata": {},
   "source": [
    "## 1.  Plot the data for voltage and current."
   ]
  },
  {
   "cell_type": "code",
   "execution_count": null,
   "metadata": {},
   "outputs": [],
   "source": [
    "plt.plot()"
   ]
  },
  {
   "cell_type": "markdown",
   "metadata": {
    "hide_input": true
   },
   "source": [
    "2.  Formulate a hypothesis test based on Ohm’s law for the slope."
   ]
  },
  {
   "cell_type": "code",
   "execution_count": null,
   "metadata": {},
   "outputs": [],
   "source": []
  },
  {
   "cell_type": "code",
   "execution_count": 8,
   "metadata": {},
   "outputs": [
    {
     "ename": "SyntaxError",
     "evalue": "invalid syntax (<ipython-input-8-981521bf6a01>, line 1)",
     "output_type": "error",
     "traceback": [
      "\u001b[0;36m  File \u001b[0;32m\"<ipython-input-8-981521bf6a01>\"\u001b[0;36m, line \u001b[0;32m1\u001b[0m\n\u001b[0;31m    RealNumber('3.')  Determine a linear model for the data (slope and interception with the y-axis).\u001b[0m\n\u001b[0m                      ^\u001b[0m\n\u001b[0;31mSyntaxError\u001b[0m\u001b[0;31m:\u001b[0m invalid syntax\n"
     ]
    }
   ],
   "source": [
    "3.  Determine a linear model for the data (slope and interception with the y-axis)."
   ]
  },
  {
   "cell_type": "code",
   "execution_count": 9,
   "metadata": {},
   "outputs": [
    {
     "ename": "SyntaxError",
     "evalue": "invalid syntax (<ipython-input-9-50123265bff7>, line 1)",
     "output_type": "error",
     "traceback": [
      "\u001b[0;36m  File \u001b[0;32m\"<ipython-input-9-50123265bff7>\"\u001b[0;36m, line \u001b[0;32m1\u001b[0m\n\u001b[0;31m    RealNumber('4.')  Plot the linear model together with the data.\u001b[0m\n\u001b[0m                      ^\u001b[0m\n\u001b[0;31mSyntaxError\u001b[0m\u001b[0;31m:\u001b[0m invalid syntax\n"
     ]
    }
   ],
   "source": [
    "4.  Plot the linear model together with the data."
   ]
  },
  {
   "cell_type": "code",
   "execution_count": null,
   "metadata": {},
   "outputs": [],
   "source": [
    "5.  Can you reject the NULL hypothesis"
   ]
  },
  {
   "cell_type": "code",
   "execution_count": 11,
   "metadata": {},
   "outputs": [
    {
     "ename": "SyntaxError",
     "evalue": "invalid syntax (<ipython-input-11-93bd018288ac>, line 1)",
     "output_type": "error",
     "traceback": [
      "\u001b[0;36m  File \u001b[0;32m\"<ipython-input-11-93bd018288ac>\"\u001b[0;36m, line \u001b[0;32m1\u001b[0m\n\u001b[0;31m    RealNumber('6.')  Calculate the residuals and make the residual plot.\u001b[0m\n\u001b[0m                      ^\u001b[0m\n\u001b[0;31mSyntaxError\u001b[0m\u001b[0;31m:\u001b[0m invalid syntax\n"
     ]
    }
   ],
   "source": [
    "6.  Calculate the residuals and make the residual plot."
   ]
  },
  {
   "cell_type": "code",
   "execution_count": 12,
   "metadata": {},
   "outputs": [
    {
     "name": "stdout",
     "output_type": "stream",
     "text": [
      "Object `fit` not found.\n"
     ]
    }
   ],
   "source": [
    "7.  Based on the residual plot, is the linear model at good fit?"
   ]
  },
  {
   "cell_type": "code",
   "execution_count": null,
   "metadata": {},
   "outputs": [],
   "source": [
    "7.  Based on the residual plot, is the linear model at good fit"
   ]
  },
  {
   "cell_type": "code",
   "execution_count": 13,
   "metadata": {},
   "outputs": [
    {
     "ename": "SyntaxError",
     "evalue": "invalid syntax (<ipython-input-13-728e407cdd9e>, line 1)",
     "output_type": "error",
     "traceback": [
      "\u001b[0;36m  File \u001b[0;32m\"<ipython-input-13-728e407cdd9e>\"\u001b[0;36m, line \u001b[0;32m1\u001b[0m\n\u001b[0;31m    RealNumber('8.')  Find the Integer(95)% confidence interval for the estimate of the slope.\u001b[0m\n\u001b[0m                      ^\u001b[0m\n\u001b[0;31mSyntaxError\u001b[0m\u001b[0;31m:\u001b[0m invalid syntax\n"
     ]
    }
   ],
   "source": [
    "8.  Find the 95% confidence interval for the estimate of the slope."
   ]
  },
  {
   "cell_type": "code",
   "execution_count": 14,
   "metadata": {},
   "outputs": [
    {
     "ename": "SyntaxError",
     "evalue": "invalid syntax (<ipython-input-14-b818349ef955>, line 1)",
     "output_type": "error",
     "traceback": [
      "\u001b[0;36m  File \u001b[0;32m\"<ipython-input-14-b818349ef955>\"\u001b[0;36m, line \u001b[0;32m1\u001b[0m\n\u001b[0;31m    RealNumber('9.')  Plot the Integer(95)% confidence interval together with the data.\u001b[0m\n\u001b[0m                      ^\u001b[0m\n\u001b[0;31mSyntaxError\u001b[0m\u001b[0;31m:\u001b[0m invalid syntax\n"
     ]
    }
   ],
   "source": [
    "9.  Plot the 95% confidence interval together with the data."
   ]
  },
  {
   "cell_type": "markdown",
   "metadata": {},
   "source": [
    "10.  Are there any outliers in the experiment? Why is that?"
   ]
  },
  {
   "cell_type": "markdown",
   "metadata": {},
   "source": [
    "11.Based on the residual plot would you conclude that Ohm’s Law is true (that there is a linearconnection between Voltage and Current)?"
   ]
  },
  {
   "cell_type": "code",
   "execution_count": 15,
   "metadata": {},
   "outputs": [
    {
     "ename": "SyntaxError",
     "evalue": "invalid syntax (<ipython-input-15-7a5e59f2f0fa>, line 1)",
     "output_type": "error",
     "traceback": [
      "\u001b[0;36m  File \u001b[0;32m\"<ipython-input-15-7a5e59f2f0fa>\"\u001b[0;36m, line \u001b[0;32m1\u001b[0m\n\u001b[0;31m    RealNumber('12.')  Redesign your experiment to avoid outliers.\u001b[0m\n\u001b[0m                       ^\u001b[0m\n\u001b[0;31mSyntaxError\u001b[0m\u001b[0;31m:\u001b[0m invalid syntax\n"
     ]
    }
   ],
   "source": [
    "12.  Redesign your experiment to avoid outliers."
   ]
  },
  {
   "cell_type": "code",
   "execution_count": 16,
   "metadata": {},
   "outputs": [
    {
     "ename": "SyntaxError",
     "evalue": "invalid syntax (<ipython-input-16-8230bc755814>, line 1)",
     "output_type": "error",
     "traceback": [
      "\u001b[0;36m  File \u001b[0;32m\"<ipython-input-16-8230bc755814>\"\u001b[0;36m, line \u001b[0;32m1\u001b[0m\n\u001b[0;31m    Integer(13).Make a Matlab program that generates data for your new experiment. Assume that currentis measured with a measurement noise that is Gaussian distributed with a mean of Integer(0) andstandard deviation of RealNumber('0.')02A.\u001b[0m\n\u001b[0m                     ^\u001b[0m\n\u001b[0;31mSyntaxError\u001b[0m\u001b[0;31m:\u001b[0m invalid syntax\n"
     ]
    }
   ],
   "source": [
    "13.Make a Matlab program that generates data for your new experiment. Assume that currentis measured with a measurement noise that is Gaussian distributed with a mean of 0 andstandard deviation of 0.02A."
   ]
  },
  {
   "cell_type": "code",
   "execution_count": 17,
   "metadata": {},
   "outputs": [
    {
     "ename": "SyntaxError",
     "evalue": "invalid syntax (<ipython-input-17-1a9e9fad3d17>, line 1)",
     "output_type": "error",
     "traceback": [
      "\u001b[0;36m  File \u001b[0;32m\"<ipython-input-17-1a9e9fad3d17>\"\u001b[0;36m, line \u001b[0;32m1\u001b[0m\n\u001b[0;31m    RealNumber('14.')  With the new data, repeat question Integer(1)-RealNumber('9.')\u001b[0m\n\u001b[0m                       ^\u001b[0m\n\u001b[0;31mSyntaxError\u001b[0m\u001b[0;31m:\u001b[0m invalid syntax\n"
     ]
    }
   ],
   "source": [
    "14.  With the new data, repeat question 1-9."
   ]
  },
  {
   "cell_type": "code",
   "execution_count": null,
   "metadata": {},
   "outputs": [],
   "source": []
  }
 ],
 "metadata": {
  "hide_input": false,
  "kernelspec": {
   "display_name": "SageMath 9.0",
   "language": "sage",
   "name": "sagemath"
  },
  "language_info": {
   "codemirror_mode": {
    "name": "ipython",
    "version": 3
   },
   "file_extension": ".py",
   "mimetype": "text/x-python",
   "name": "python",
   "nbconvert_exporter": "python",
   "pygments_lexer": "ipython3",
   "version": "3.8.5"
  },
  "varInspector": {
   "cols": {
    "lenName": 16,
    "lenType": 16,
    "lenVar": 40
   },
   "kernels_config": {
    "python": {
     "delete_cmd_postfix": "",
     "delete_cmd_prefix": "del ",
     "library": "var_list.py",
     "varRefreshCmd": "print(var_dic_list())"
    },
    "r": {
     "delete_cmd_postfix": ") ",
     "delete_cmd_prefix": "rm(",
     "library": "var_list.r",
     "varRefreshCmd": "cat(var_dic_list()) "
    }
   },
   "types_to_exclude": [
    "module",
    "function",
    "builtin_function_or_method",
    "instance",
    "_Feature"
   ],
   "window_display": false
  }
 },
 "nbformat": 4,
 "nbformat_minor": 4
}
