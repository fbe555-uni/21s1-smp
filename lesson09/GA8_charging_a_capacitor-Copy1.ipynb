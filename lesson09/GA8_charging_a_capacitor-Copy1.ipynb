{
 "cells": [
  {
   "cell_type": "markdown",
   "metadata": {},
   "source": [
    "##### F21ETSMP Group Assignment 9\n",
    "# Samples of a population"
   ]
  },
  {
   "cell_type": "markdown",
   "metadata": {},
   "source": [
    "## End of Chapter Problems 7.3.0: "
   ]
  },
  {
   "cell_type": "markdown",
   "metadata": {},
   "source": [
    "### Problem 1a\n",
    "Let $X_i$ be i.i.d. $Uniform(0, 1)$. We define the sample mean as  \n",
    "$$ M_n = \\frac{X_1 + X_2 + \\dots + X_n}{n} $$\n",
    "__a.__ Find $E[M_n]$ and $Var(M_n)$ as a function of $n$  \n",
    "\n",
    "------------------------------------------------------------------"
   ]
  },
  {
   "cell_type": "markdown",
   "metadata": {},
   "source": [
    "By linearity of expectation:  \n",
    "$ E[M_n] = \\frac{EX_1 + EX_2 + \\dots + EX_n}{n} $  \n",
    "Since $X$ s i.i.d., then $EX_i = EX$, and the above can be simplified:  \n",
    "$ E[M_n] = \\frac{nEX}{n} = EX $  \n",
    "Similarly to find the variance of the sample mean:  \n",
    "$ Var(M_n) = Var(\\frac{X_1 + X_2 + \\dots + X_n}{n}) = \\frac{Var(X_1 + X_2 + \\dots + X_n)}{n^2}$  \n",
    "Now since the variables are independent, the variance of their sum equals the sum of their variances:  \n",
    "$ Var(M_n) = \\frac{Var(X_1) + Var(X_2) + \\dots + Var(X_n)}{n^2}$  \n",
    "Again like above, since the variables are identically distributed their variances are all the same, and the above can be simplified:  \n",
    "$ Var(M_n) = \\frac{nVar(X)}{n^2} = \\frac{Var(X)}{n}$"
   ]
  },
  {
   "cell_type": "markdown",
   "metadata": {},
   "source": [
    "### Problem 6\n",
    "You have a fair coin. You toss the coin $n$ times. Let $X$ be the portion of times that you observe heads.  \n",
    "How large $n$ has to be so that you are $95\\%$ sure that $0.45 \\le X \\le 0.55$?  \n",
    "In other words, how large $n$ has to be so that $P(0.45 \\le X \\le 0.55) \\ge 0.95$?  \n",
    "\n",
    "----------------------------------------------------------------------------------------------------------"
   ]
  },
  {
   "cell_type": "markdown",
   "metadata": {},
   "source": [
    "From the law of large numbers, we know that the  "
   ]
  },
  {
   "cell_type": "code",
   "execution_count": null,
   "metadata": {},
   "outputs": [],
   "source": []
  },
  {
   "cell_type": "markdown",
   "metadata": {},
   "source": [
    "## End of Chapter Problems 8.6.0: \n",
    "1, 2, 7, 11, 12"
   ]
  },
  {
   "cell_type": "code",
   "execution_count": null,
   "metadata": {},
   "outputs": [],
   "source": []
  }
 ],
 "metadata": {
  "hide_input": false,
  "kernelspec": {
   "display_name": "SageMath 9.0",
   "language": "sage",
   "name": "sagemath"
  },
  "language_info": {
   "codemirror_mode": {
    "name": "ipython",
    "version": 3
   },
   "file_extension": ".py",
   "mimetype": "text/x-python",
   "name": "python",
   "nbconvert_exporter": "python",
   "pygments_lexer": "ipython3",
   "version": "3.8.5"
  },
  "varInspector": {
   "cols": {
    "lenName": 16,
    "lenType": 16,
    "lenVar": 40
   },
   "kernels_config": {
    "python": {
     "delete_cmd_postfix": "",
     "delete_cmd_prefix": "del ",
     "library": "var_list.py",
     "varRefreshCmd": "print(var_dic_list())"
    },
    "r": {
     "delete_cmd_postfix": ") ",
     "delete_cmd_prefix": "rm(",
     "library": "var_list.r",
     "varRefreshCmd": "cat(var_dic_list()) "
    }
   },
   "types_to_exclude": [
    "module",
    "function",
    "builtin_function_or_method",
    "instance",
    "_Feature"
   ],
   "window_display": false
  }
 },
 "nbformat": 4,
 "nbformat_minor": 4
}
