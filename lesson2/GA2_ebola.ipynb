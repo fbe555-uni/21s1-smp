{
 "cells": [
  {
   "cell_type": "markdown",
   "metadata": {},
   "source": [
    "### ETSMP lesson 2 group assignment\n",
    "Contagious diseases\n",
    "===================\n",
    "#### Ebola outbreak\n",
    "In an Ebola outbreak, the chance of a patient at a hospital in West Africa showing Ebola symptoms and having Ebola is 0,2.  \n",
    "The chance of a patient, having Ebola and not displaying any symptoms is 0,01.  \n",
    "The chance of a patient having ebola symptoms is 0,5.  \n",
    "5 patients are admitted to the hospital with Ebola symptoms, and 5 are admitted without Ebola symptoms.  \n",
    "### 1)\n",
    "__What is the total probability that an admitted patient has ebola?__  \n",
    "To solve this problem firstly the opening statements are used to define the events _I_ - showing symptoms, _E_ - having ebola. The sample space _S_ is all admitted patients.  \n",
    "From the statements above, we know:  \n",
    "$P(E \\cap I) = 0.2$  \n",
    "$P(E \\cap I^c) = 0.01$  \n",
    "Since I and I^c must by definition partition S, then:  \n",
    "$$E = E \\cap I + E \\cap I^c$$\n",
    "$$P(E) = P(E \\cap I) + P(E \\cap I^c)$$\n",
    "$$P(E) = 0.2 + 0.01 = 0.21$$"
   ]
  },
  {
   "cell_type": "markdown",
   "metadata": {},
   "source": [
    "### 2)\n",
    "__What is the probability, given that a patient have Ebola that the person did not have anysymptoms?__  \n",
    "In other words, find $P(I^c | E)$  \n",
    "Here we can use the definition of conditional probability:  \n",
    "$$P(A|B) = \\frac{P(A \\cap B)} {P(B)} $$  \n",
    "now since $P(E \\cap I^c)$ and $P(E)$ are known:  \n",
    "$$P(I^c | E) = \\frac{0.01}{0.21} \\approx 0.048$$  "
   ]
  },
  {
   "cell_type": "markdown",
   "metadata": {},
   "source": [
    "### 3)\n",
    "__What is the probability that at least one of the admitted patients has ebola?__  \n",
    "It is given that: \n",
    "$|I| = 5$  \n",
    "$|I^c| = 5$  \n",
    "Here, it is easier to find the probability that none of the patients have ebola, that is:  \n",
    "$$P(E^c)^{|S|}$$  \n",
    "$$(1-P(E))^{|S|}$$  \n",
    "$$(1-0.21)^{10} \\approx 0.095$$  \n",
    "This can now be used to find the inverse, meaning at least one patient has Ebola:  \n",
    "$$P_10(1 E) = 1-P(E^c) \\approx 0.905 $$\n",
    "Alternatively the more general solution is found from:  \n",
    "$$P_n(k) = {n \\choose k} p^k q^{n-k}$$\n",
    "where $p$ is the probability that a patient has Ebola ($P(E)$) and q is the probability that a patient doesn't ($P(E^c)$). substituting in the known values this yields:\n",
    "$$P_10(1 E) = {10 \\choose 1} \\cdot 0.21^1 \\cdot (1-0.21)^{10-1} \\approx 0.25$$\n"
   ]
  },
  {
   "cell_type": "code",
   "execution_count": 9,
   "metadata": {},
   "outputs": [
    {
     "ename": "SyntaxError",
     "evalue": "invalid syntax (<ipython-input-9-419f057cb248>, line 1)",
     "output_type": "error",
     "traceback": [
      "\u001b[0;36m  File \u001b[0;32m\"<ipython-input-9-419f057cb248>\"\u001b[0;36m, line \u001b[0;32m1\u001b[0m\n\u001b[0;31m    To find $P(E)$, the law of total probability:\u001b[0m\n\u001b[0m       ^\u001b[0m\n\u001b[0;31mSyntaxError\u001b[0m\u001b[0;31m:\u001b[0m invalid syntax\n"
     ]
    }
   ],
   "source": [
    "To find $P(E)$, the law of total probability:  \n",
    "$$P(E) = P(E|I) + P(E|I^c)$$   \n",
    "and the definition of conditional probability:  \n",
    "$$P(E|I) = \\frac{P(E \\cap I)} {P(I)} $$\n",
    "yielding:  \n",
    "$$P(E) = \\frac{P(E \\cap I)} {P(I)} + \\frac{P(E \\cap I^c)} {P(I^c)}$$  \n",
    "Inserting the information given above, this yields:\n",
    "$$P(E) = \\frac{0.2} {0.5} + \\frac{0.01} \\dot {0.5} = 0.42$$  "
   ]
  },
  {
   "cell_type": "code",
   "execution_count": 12,
   "metadata": {},
   "outputs": [
    {
     "data": {
      "text/plain": [
       "1.00000000000000"
      ]
     },
     "execution_count": 12,
     "metadata": {},
     "output_type": "execute_result"
    }
   ],
   "source": [
    "(1-0.21)^10\n",
    "0.905 + 0.095"
   ]
  },
  {
   "cell_type": "code",
   "execution_count": 11,
   "metadata": {},
   "outputs": [
    {
     "data": {
      "text/plain": [
       "0.251688351563499"
      ]
     },
     "execution_count": 11,
     "metadata": {},
     "output_type": "execute_result"
    }
   ],
   "source": [
    "binomial(10, 1)*0.21*0.79^9\n"
   ]
  },
  {
   "cell_type": "code",
   "execution_count": null,
   "metadata": {},
   "outputs": [],
   "source": []
  }
 ],
 "metadata": {
  "kernelspec": {
   "display_name": "SageMath 9.2",
   "language": "sage",
   "name": "sagemath"
  },
  "language_info": {
   "codemirror_mode": {
    "name": "ipython",
    "version": 3
   },
   "file_extension": ".py",
   "mimetype": "text/x-python",
   "name": "python",
   "nbconvert_exporter": "python",
   "pygments_lexer": "ipython3",
   "version": "3.8.5"
  },
  "toc-autonumbering": false,
  "toc-showcode": false,
  "toc-showmarkdowntxt": false,
  "toc-showtags": false
 },
 "nbformat": 4,
 "nbformat_minor": 4
}
