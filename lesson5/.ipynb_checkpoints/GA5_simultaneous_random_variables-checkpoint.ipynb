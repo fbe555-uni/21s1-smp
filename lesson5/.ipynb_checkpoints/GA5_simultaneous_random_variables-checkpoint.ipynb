{
 "cells": [
  {
   "cell_type": "code",
   "execution_count": 1,
   "metadata": {
    "hide_input": true
   },
   "outputs": [],
   "source": [
    "from keyword import iskeyword\n",
    "import numpy as np\n",
    "\n",
    "\n",
    "def is_valid_var_name(name):\n",
    "    return name.isidentifier() and not iskeyword(name)\n",
    "\n",
    "\n",
    "class Table(object):\n",
    "    def __init__(self, data,\n",
    "                 row_label=None, row_categories=None,\n",
    "                 column_label=None, column_categories=None):\n",
    "        self.row_label = row_label\n",
    "        self.row_categories = row_categories\n",
    "        self.column_label = column_label\n",
    "        self.column_categories = column_categories\n",
    "        self._data = np.asarray(data, dtype=object)\n",
    "    \n",
    "    def __getitem__(self, key):\n",
    "        return self._data[key]\n",
    "    \n",
    "    def __setitem__(self, key, item):\n",
    "        self._data[key] = item\n",
    "    \n",
    "    def __call__(self, row_key, column_key):\n",
    "        return self._data[self.row_categories.index(row_key)][self.column_categories.index(column_key)]\n",
    "        \n",
    "        \n",
    "def draw_table(data,\n",
    "               row_label=None, row_categories=None,\n",
    "               column_label=None, column_categories=None,\n",
    "               name=None, frame=False, **kwargs):\n",
    "    if isinstance(data, Table):\n",
    "        row_label = data.row_label\n",
    "        row_categories = data.row_categories\n",
    "        column_label = data.column_label\n",
    "        column_categories = data.column_categories\n",
    "        data = data[:]\n",
    "    \n",
    "    assert len(data) >= 1 and len(data[0]) >= 1\n",
    "    assert name is None or is_valid_var_name(name)\n",
    "    \n",
    "    if 'skip_zeroes' not in kwargs: kwargs['skip_zeroes'] = True\n",
    "    if 'truncate' not in kwargs: kwargs['truncate'] = True\n",
    "        \n",
    "    if name is not None:\n",
    "        globals()[name] = Table(data,\n",
    "                                row_label=row_label, \n",
    "                                row_categories=row_categories,\n",
    "                                column_label=column_label, \n",
    "                                column_categories=column_categories)\n",
    "    \n",
    "    cat_or_label = any([row_label, column_label, \n",
    "                        row_categories, column_categories])\n",
    "    \n",
    "    s = r'\\begin{array}{'\n",
    "    if frame:\n",
    "        s += '|'\n",
    "    if cat_or_label:\n",
    "        s += 'r|'\n",
    "    s += 'c{}'.format('|' if frame else ' ') * len(data[0]) + '} '\n",
    "    if frame:\n",
    "        s += r'\\hline '\n",
    "    if row_categories:\n",
    "        s += r'{\\bf ' + row_label + r' \\backslash ' + column_label + '} & '\n",
    "        for l in column_categories:\n",
    "            s += r'{\\bf ' + str(l) + '}' + ' & '\n",
    "        s = s[:-2] + r' \\\\ \\hline '\n",
    "    for i, row in enumerate(data):\n",
    "        if row_categories:\n",
    "            s += r'{\\bf' + str(row_categories[i]) + '} & '\n",
    "        for e in row:\n",
    "            if parent(e) is RR:\n",
    "                s += e.str(**kwargs)\n",
    "            else:\n",
    "                s += str(e)\n",
    "            s += ' & '\n",
    "        s = s[:-2] + r'\\\\ '\n",
    "        if frame:\n",
    "            s += r'\\hline '\n",
    "    s += r'\\end{array}'\n",
    "    return s"
   ]
  },
  {
   "cell_type": "markdown",
   "metadata": {},
   "source": [
    "##### F21ETSMP Group Assignment 5\n",
    "# Simultaneous Random Variables, Data Sampling, Transformation, Multivariate and CLT"
   ]
  },
  {
   "cell_type": "markdown",
   "metadata": {
    "variables": {
     "draw_table([[0.04, 0.06, 0.18], ['', 0.06, 0.], [0.08, '', 0.08], [0.14, 0.08, '']], 'X', [10, 20, 30, 40], 'Y', [-100, 0, 100], name='pmf')": "\\begin{array}{r|c c c } {\\bf X \\backslash Y} &amp; {\\bf -100} &amp; {\\bf 0} &amp; {\\bf 100}  \\\\ \\hline {\\bf10} &amp; 0.04 &amp; 0.06 &amp; 0.18 \\\\ {\\bf20} &amp;  &amp; 0.06 &amp; 0. \\\\ {\\bf30} &amp; 0.08 &amp;  &amp; 0.08 \\\\ {\\bf40} &amp; 0.14 &amp; 0.08 &amp;  \\\\ \\end{array}"
    }
   },
   "source": [
    "## Simultaneous Random Variables\n",
    "Two discrete random variables X and Y have a joint pmf $f_{XY}(x,y)$ as given in the following table:  \n",
    "  \n",
    "{{draw_table([[0.04, 0.06, 0.18], ['', 0.06, 0.], [0.08, '', 0.08], [0.14, 0.08, '']], 'X', [10, 20, 30, 40], 'Y', [-100, 0, 100], name='pmf')}}\n",
    "(table saved as variable 'pmf')  \n",
    "  \n",
    "It is furthermore known, that $Pr(Y=0) = 0.28$ and $Pr(Y=-100 \\mid X=20) = 0.50$.  "
   ]
  },
  {
   "cell_type": "markdown",
   "metadata": {},
   "source": [
    "### 1) Fill in the empty places in the joint pmf-table."
   ]
  },
  {
   "cell_type": "markdown",
   "metadata": {},
   "source": [
    "To fill in the blanks, the two given probabilities can be used.\n",
    "Firstly the probability that $Y = 0$ can be used to find the probability of $X = 30 \\land Y = 0$ since the second row must sum up to the total probability that $Y = 0$:"
   ]
  },
  {
   "cell_type": "code",
   "execution_count": 5,
   "metadata": {},
   "outputs": [
    {
     "data": {
      "text/plain": [
       "0.0800000000000000"
      ]
     },
     "execution_count": 5,
     "metadata": {},
     "output_type": "execute_result"
    }
   ],
   "source": [
    "pmf[2,1] = 0.28 - (pmf[0,1] + pmf[1,1] + pmf[3,1]); pmf[2,1]"
   ]
  },
  {
   "cell_type": "markdown",
   "metadata": {},
   "source": [
    "Next, the probability that $Y = -100$ given $X = 20$ specifies that the empty field in the second row should amount to half that row or the remainder of the row:"
   ]
  },
  {
   "cell_type": "code",
   "execution_count": 6,
   "metadata": {},
   "outputs": [
    {
     "data": {
      "text/plain": [
       "0.0600000000000000"
      ]
     },
     "execution_count": 6,
     "metadata": {},
     "output_type": "execute_result"
    }
   ],
   "source": [
    "pmf[1,0] = sum(pmf[1,1:]); pmf[1,0]"
   ]
  },
  {
   "cell_type": "markdown",
   "metadata": {},
   "source": [
    "Now the final empty cell in the table can be filled since the sum of all the probabilities must sum to one:"
   ]
  },
  {
   "cell_type": "code",
   "execution_count": 7,
   "metadata": {},
   "outputs": [
    {
     "data": {
      "text/plain": [
       "0.140000000000000"
      ]
     },
     "execution_count": 7,
     "metadata": {},
     "output_type": "execute_result"
    }
   ],
   "source": [
    "pmf[3,2] = 0  # set last cell to zero to allow the use of sum\n",
    "pmf[3,2] = 1 - sum(pmf[:,:])\n",
    "pmf[3,2]"
   ]
  },
  {
   "cell_type": "markdown",
   "metadata": {
    "variables": {
     "draw_table(pmf)": "\\begin{array}{r|c c c } {\\bf X \\backslash Y} &amp; {\\bf -100} &amp; {\\bf 0} &amp; {\\bf 100}  \\\\ \\hline {\\bf10} &amp; 0.04 &amp; 0.06 &amp; 0.18 \\\\ {\\bf20} &amp; 0.06 &amp; 0.06 &amp; 0. \\\\ {\\bf30} &amp; 0.08 &amp; 0.08 &amp; 0.08 \\\\ {\\bf40} &amp; 0.14 &amp; 0.08 &amp; 0.14 \\\\ \\end{array}"
    }
   },
   "source": [
    "Leading to the following pmf table:  \n",
    "{{draw_table(pmf)}}"
   ]
  },
  {
   "cell_type": "markdown",
   "metadata": {},
   "source": [
    "### 2.Calculate and sketch the marginals $f_X(x)$ and $f_Y(y)$."
   ]
  },
  {
   "cell_type": "markdown",
   "metadata": {},
   "source": [
    "The marginals are calculated by collapsing the joint pmf along the other axis:"
   ]
  },
  {
   "cell_type": "code",
   "execution_count": 20,
   "metadata": {},
   "outputs": [
    {
     "name": "stdout",
     "output_type": "stream",
     "text": [
      "[0.280000000000000, 0.120000000000000, 0.240000000000000, 0.360000000000000]\n",
      "[0.320000000000000, 0.280000000000000, 0.400000000000000]\n"
     ]
    },
    {
     "data": {
      "text/plain": [
       "[<matplotlib.lines.Line2D object at 0x7f30e93065b0>]"
      ]
     },
     "execution_count": 20,
     "metadata": {},
     "output_type": "execute_result"
    },
    {
     "data": {
      "image/png": "[encoded data removed]",
      "text/plain": [
       "<Figure size 432x288 with 1 Axes>"
      ]
     },
     "metadata": {
      "needs_background": "light"
     },
     "output_type": "display_data"
    }
   ],
   "source": [
    "import matplotlib.pyplot as plt\n",
    "pmf_x = [sum(pmf[i,:]) for i in range(len(pmf[:,0]))]\n",
    "pmf_y = [sum(pmf[:,i]) for i in range(len(pmf[0,:]))]\n",
    "print(pmf_x)\n",
    "print(pmf_y)\n",
    "plt.plot(pmf.row_categories, pmf_x)"
   ]
  },
  {
   "cell_type": "markdown",
   "metadata": {},
   "source": [
    "### 3.Calculate the means and variances $EX$, $EY$, $Var(X)$, $Var(Y)$ and $E[XY]$."
   ]
  },
  {
   "cell_type": "markdown",
   "metadata": {},
   "source": [
    "### 4.Calculate the correlation $corr(X,Y)$, covariance $cov(X,Y)$ and correlation coefficient $\\rho_{XY}$."
   ]
  },
  {
   "cell_type": "markdown",
   "metadata": {},
   "source": [
    "### 5.Are the random variables X and Y independent?"
   ]
  },
  {
   "cell_type": "code",
   "execution_count": null,
   "metadata": {},
   "outputs": [],
   "source": []
  }
 ],
 "metadata": {
  "hide_input": false,
  "kernelspec": {
   "display_name": "SageMath 9.2",
   "language": "sage",
   "name": "sagemath"
  },
  "language_info": {
   "codemirror_mode": {
    "name": "ipython",
    "version": 3
   },
   "file_extension": ".py",
   "mimetype": "text/x-python",
   "name": "python",
   "nbconvert_exporter": "python",
   "pygments_lexer": "ipython3",
   "version": "3.8.5"
  }
 },
 "nbformat": 4,
 "nbformat_minor": 4
}
