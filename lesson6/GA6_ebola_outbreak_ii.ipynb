{
 "cells": [
  {
   "cell_type": "code",
   "execution_count": 1,
   "metadata": {
    "hide_input": true
   },
   "outputs": [],
   "source": [
    "from keyword import iskeyword\n",
    "import numpy as np\n",
    "\n",
    "\n",
    "def is_valid_var_name(name):\n",
    "    return name.isidentifier() and not iskeyword(name)\n",
    "\n",
    "\n",
    "class Table(object):\n",
    "    def __init__(self, data,\n",
    "                 row_label=None, row_categories=None,\n",
    "                 column_label=None, column_categories=None):\n",
    "        self.row_label = row_label\n",
    "        self.row_categories = row_categories\n",
    "        self.column_label = column_label\n",
    "        self.column_categories = column_categories\n",
    "        self._data = np.asarray(data, dtype=object)\n",
    "    \n",
    "    def __getitem__(self, key):\n",
    "        return self._data[key]\n",
    "    \n",
    "    def __setitem__(self, key, item):\n",
    "        self._data[key] = item\n",
    "    \n",
    "    def __call__(self, row_key, column_key):\n",
    "        return self._data[self.row_categories.index(row_key)][self.column_categories.index(column_key)]\n",
    "        \n",
    "        \n",
    "def draw_table(data,\n",
    "               row_label=None, row_categories=None,\n",
    "               column_label=None, column_categories=None,\n",
    "               name=None, frame=False, **kwargs):\n",
    "    if isinstance(data, Table):\n",
    "        row_label = data.row_label\n",
    "        row_categories = data.row_categories\n",
    "        column_label = data.column_label\n",
    "        column_categories = data.column_categories\n",
    "        data = data[:]\n",
    "    \n",
    "    assert len(data) >= 1 and len(data[0]) >= 1\n",
    "    assert name is None or is_valid_var_name(name)\n",
    "    \n",
    "    if 'skip_zeroes' not in kwargs: kwargs['skip_zeroes'] = True\n",
    "    if 'truncate' not in kwargs: kwargs['truncate'] = True\n",
    "        \n",
    "    if name is not None:\n",
    "        globals()[name] = Table(data,\n",
    "                                row_label=row_label, \n",
    "                                row_categories=row_categories,\n",
    "                                column_label=column_label, \n",
    "                                column_categories=column_categories)\n",
    "    \n",
    "    cat_or_label = any([row_label, column_label, \n",
    "                        row_categories, column_categories])\n",
    "    \n",
    "    s = r'\\begin{array}{'\n",
    "    if frame:\n",
    "        s += '|'\n",
    "    if cat_or_label:\n",
    "        s += 'r|'\n",
    "    s += 'c{}'.format('|' if frame else ' ') * len(data[0]) + '} '\n",
    "    if frame:\n",
    "        s += r'\\hline '\n",
    "    if row_categories:\n",
    "        s += r'{\\bf ' + row_label + r' \\backslash ' + column_label + '} & '\n",
    "        for l in column_categories:\n",
    "            s += r'{\\bf ' + str(l) + '}' + ' & '\n",
    "        s = s[:-2] + r' \\\\ \\hline '\n",
    "    for i, row in enumerate(data):\n",
    "        if row_categories:\n",
    "            s += r'{\\bf' + str(row_categories[i]) + '} & '\n",
    "        for e in row:\n",
    "            if parent(e) is RR:\n",
    "                s += e.str(**kwargs)\n",
    "            else:\n",
    "                s += str(e)\n",
    "            s += ' & '\n",
    "        s = s[:-2] + r'\\\\ '\n",
    "        if frame:\n",
    "            s += r'\\hline '\n",
    "    s += r'\\end{array}'\n",
    "    return s"
   ]
  },
  {
   "cell_type": "markdown",
   "metadata": {},
   "source": [
    "##### F21ETSMP Group Assignment 6\n",
    "## Contagious Diseases\n",
    "# Ebola Outbreak II\n",
    "We continue with the Ebola outbreak from lesson 2.  \n",
    "Ten patients are admitted to a hospital. Assume that each patient has a chance of 0.5 of being infected.  \n",
    "We define a random variable $X$ that is the total number of infected patients at day 0."
   ]
  },
  {
   "cell_type": "markdown",
   "metadata": {},
   "source": [
    "## Process 1:\n",
    "Show three different versions of how an outbreak in the hospital can develop over 10 days if:  \n",
    " *  __Day 1-10:__ Number of infected patients $𝑋$ is constant.  \n",
    "This is a stochastic process, we can write it as:  \n",
    "$$Y(n)=X$$  \n",
    "where $X \\sim \\mathcal B(10, 0.5)$ is a random binomial distributed variable and $n$ is the day ($n = 1, \\dots, 10$)"
   ]
  },
  {
   "cell_type": "markdown",
   "metadata": {},
   "source": [
    "### 1) Make a function that generates realizations of the process $Y(n)$."
   ]
  },
  {
   "cell_type": "code",
   "execution_count": 2,
   "metadata": {},
   "outputs": [],
   "source": [
    "import scipy.stats\n",
    "X = scipy.stats.binom(10, 0.5)\n",
    "def generate_real_Yn():\n",
    "    day = range(10)\n",
    "    num_infected = [X.rvs()]*len(day)\n",
    "    return day, num_infected"
   ]
  },
  {
   "cell_type": "markdown",
   "metadata": {},
   "source": [
    "### 2) Plot three realizations of $Y(n)$"
   ]
  },
  {
   "cell_type": "code",
   "execution_count": 3,
   "metadata": {},
   "outputs": [
    {
     "data": {
      "image/png": "[encoded data removed]",
      "text/plain": [
       "<Figure size 432x288 with 1 Axes>"
      ]
     },
     "metadata": {
      "needs_background": "light"
     },
     "output_type": "display_data"
    }
   ],
   "source": [
    "import matplotlib.pyplot as plt\n",
    "fig, ax = plt.subplots()\n",
    "for i in range(3):\n",
    "    ax.plot(*generate_real_Yn())\n",
    "ax.set_xlabel('day')\n",
    "ax.set_ylabel('number of infected')\n",
    "plt.show()"
   ]
  },
  {
   "cell_type": "markdown",
   "metadata": {},
   "source": [
    "### 3) What is the ensemble mean and variance of the process?"
   ]
  },
  {
   "cell_type": "markdown",
   "metadata": {},
   "source": [
    "The ensemble mean here is found as the mean of the Binomially distributed variable $X$:  \n",
    "$$E(X) = n \\cdot p \\mid X \\sim \\mathcal B (n, p)$$  \n",
    "$$ \\Rightarrow E(X) = 10 \\cdot 0.5 = 5 $$  \n",
    "And the variance by the same principle:  \n",
    "$$ Var(X) = p \\cdot n(1-p) \\mid X \\sim \\mathcal B (n, p) $$  \n",
    "$$ \\Rightarrow Var(X) = 0.5 \\cdot 10(1-0.5) = 2.5 $$"
   ]
  },
  {
   "cell_type": "markdown",
   "metadata": {},
   "source": [
    "### 4) What is the mean and variance of one realization of the process?"
   ]
  },
  {
   "cell_type": "markdown",
   "metadata": {},
   "source": [
    "Here the mean will be the whatever value X has for the given realization and the variance will be zero."
   ]
  },
  {
   "cell_type": "markdown",
   "metadata": {},
   "source": [
    "### 5) Verify 3 and 4 through simulation:"
   ]
  },
  {
   "cell_type": "code",
   "execution_count": 4,
   "metadata": {},
   "outputs": [
    {
     "name": "stdout",
     "output_type": "stream",
     "text": [
      "Ensemble mean at day 0: 4.91\n",
      "Ensemble variance at day 0: 2.54\n",
      "Mean of first realization: 2.00\n",
      "variance of first realization: 0.000\n"
     ]
    }
   ],
   "source": [
    "samples = [generate_real_Yn() for _ in range(1000)]\n",
    "# Testing the mean and variance at index 0, but it is irrelevant since the process is constant\n",
    "print('Ensemble mean at day 0: {}'.format(n(mean([v[0] for _, v in samples]), digits=3)))\n",
    "print('Ensemble variance at day 0: {}'.format(n(variance([v[0] for _, v in samples]), digits=3)))\n",
    "\n",
    "print('Mean of first realization: {}'.format(n(mean(samples[0][1]), digits=3)))\n",
    "print('variance of first realization: {}'.format(n(variance(samples[0][1]), digits=3)))"
   ]
  },
  {
   "cell_type": "markdown",
   "metadata": {},
   "source": [
    "### 6) Is the process Wide Sense Stationary and ergodic?"
   ]
  },
  {
   "cell_type": "markdown",
   "metadata": {},
   "source": [
    "Since the process doesn't change characteristics with time, i.e. the ensemble mean and variance is independent of t, __the process is WSS.__  \n",
    "On the other hand, since meassuring a single realization, no matter for how long, won't reveal the characteristics of the whole system, __the process is not ergodic__. This can be seen from the fact that the mean and variance for a single realization differs from the ensemble mean and variance."
   ]
  },
  {
   "cell_type": "markdown",
   "metadata": {},
   "source": [
    "## process 2:\n",
    "We now work with a scenario where patients die, are infected and are cured. Show three different versions of how an outbreak in the hospital can develop over 10 days if:  \n",
    "We define another random variable $W(n)$ that is a discretely uniformly distributed, and can take the values $\\{-2,-1, 0, 1, 2\\}$. The variables in $W$ are independent and identically distributed (i.i.d.).  \n",
    "\n",
    " *  __Day 1:__ Number of infected patients is $X$ plus a random variable $W(1)$.\n",
    " *  __Day 2:__ Number of infected patients is $X$ plus a random variable $W(2)$.\n",
    " *  __Day n:__ Number of infected patients is $X$ plus a random variable $W(n)$.  \n",
    "\n",
    "This is a stochastic process, we can write as:\n",
    "$$ Y(n) = X + W(n) $$  \n",
    "where $X \\sim \\mathcal B(10, 0.5) $ is a random variable and $n$ is the day ($n = 1, \\dots, 10$).  \n",
    "The random variables $W(1), W(2), \\dots W(10)$ are i.i.d. and distributed uniformly such that $W(n) \\in \\{-2, -1, 0, 1, 2\\}$."
   ]
  },
  {
   "cell_type": "markdown",
   "metadata": {},
   "source": [
    "### 1) Make a function that generates realizations of the process $Y(n)$."
   ]
  },
  {
   "cell_type": "code",
   "execution_count": 5,
   "metadata": {},
   "outputs": [],
   "source": [
    "X = scipy.stats.binom(10, 0.5)\n",
    "W = scipy.stats.randint(-2, 3)\n",
    "def generate_real_Yn():\n",
    "    day = range(10)\n",
    "    x = X.rvs()\n",
    "    num_infected = [x + W.rvs() for _ in day]\n",
    "    return day, num_infected"
   ]
  },
  {
   "cell_type": "markdown",
   "metadata": {},
   "source": [
    "### 2) Plot three realizations of $Y(n)$"
   ]
  },
  {
   "cell_type": "code",
   "execution_count": 6,
   "metadata": {},
   "outputs": [
    {
     "data": {
      "image/png": "[encoded data removed]",
      "text/plain": [
       "<Figure size 432x288 with 1 Axes>"
      ]
     },
     "metadata": {
      "needs_background": "light"
     },
     "output_type": "display_data"
    }
   ],
   "source": [
    "fig, ax = plt.subplots()\n",
    "for i in range(3):\n",
    "    ax.plot(*generate_real_Yn())\n",
    "ax.set_xlabel('day')\n",
    "ax.set_ylabel('number of infected')\n",
    "plt.show()"
   ]
  },
  {
   "cell_type": "markdown",
   "metadata": {},
   "source": [
    "### 3) What is the ensemble mean and variance of the process?"
   ]
  },
  {
   "cell_type": "markdown",
   "metadata": {},
   "source": [
    "The ensemble mean here is found as the sum of the means of the Binomially distributed variable $X$ and the uniformly distributed value $W$:  \n",
    "$$ EX = n \\cdot p \\mid X \\sim \\mathcal B (n, p) $$  \n",
    "$$ EW = \\frac{a + b}{2} \\mid W \\sim \\mathcal U(a, b) $$  \n",
    "$$ E[Y(n)] = EX + EW(n) \\mid Y(n) = X + W(n) $$  \n",
    "$$ \\Rightarrow E(Y(n) = 10 \\cdot 0.5 + \\frac{-2 + 2}{2} = 5 $$  \n",
    "And the variance by the same principle:  \n",
    "$$ Var(X) = p \\cdot n(1-p) \\mid X \\sim \\mathcal B (n, p) $$  \n",
    "$$ Var(W) = \\frac{{(b-a+1)}^2 - 1}{12} \\mid W \\sim \\mathcal U (a, b) $$  \n",
    "$$ Var(Y(n)) = Var(X) + Var(W(n)) \\mid Y(n) = X + W(n) $$  \n",
    "$$ \\Rightarrow Var(Y(n)) = 0.5 \\cdot 10(1-0.5) +  \\frac{{\\left(2-\\left(-2\\right)+1\\right)}^2 - 1}{12} = 4.5 $$"
   ]
  },
  {
   "cell_type": "markdown",
   "metadata": {},
   "source": [
    "### 4) What is the mean and variance of one realization of the process?"
   ]
  },
  {
   "cell_type": "markdown",
   "metadata": {},
   "source": [
    "By the same reasoning as above, this can be done by taking the sum of the mean and variance of the two terms of the process.  \n",
    "Since the W term are idd variables, the mean and variance can be calculated from the distributions of W(n), as for the ensemble.  \n",
    "Since the mean of Wn is 0, __the mean of any single realization of Y will remain whatever value X takes.__  \n",
    "Given that X is constant with time __the variance of a single realization becomes the variance of Wn which is 2__.\n"
   ]
  },
  {
   "cell_type": "markdown",
   "metadata": {},
   "source": [
    "### 5) Verify 3 and 4 through simulation:"
   ]
  },
  {
   "cell_type": "code",
   "execution_count": 9,
   "metadata": {},
   "outputs": [
    {
     "name": "stdout",
     "output_type": "stream",
     "text": [
      "Ensemble mean at day 0: 4.96\n",
      "Ensemble variance at day 0: 4.48\n",
      "Mean of first realization: 4.20\n",
      "variance of first realization: 1.73\n"
     ]
    }
   ],
   "source": [
    "samples = [generate_real_Yn() for _ in range(1000)]\n",
    "# Testing the mean and variance at index 0, but it is irrelevant since the process is WSS\n",
    "print('Ensemble mean at day 0: {}'.format(n(mean([v[0] for _, v in samples]), digits=3)))\n",
    "print('Ensemble variance at day 0: {}'.format(n(variance([v[0] for _, v in samples]), digits=3)))\n",
    "\n",
    "print('Mean of first realization: {}'.format(n(mean(samples[0][1]), digits=3)))\n",
    "print('variance of first realization: {}'.format(n(variance(samples[0][1]), digits=3)))"
   ]
  },
  {
   "cell_type": "markdown",
   "metadata": {},
   "source": [
    "### 6) Is the process Wide Sense Stationary and ergodic?"
   ]
  },
  {
   "cell_type": "markdown",
   "metadata": {},
   "source": [
    "Since the added W(n) term is an i.d.d. variable, __the process remains wide sense stationary.__  \n",
    "By more or less the same logic, the mean and variance information about X is still lost in a single realization, and so __the process is not ergodic__."
   ]
  },
  {
   "cell_type": "markdown",
   "metadata": {},
   "source": [
    "## Process 3\n",
    "Work with the outbreak from lesson 2:  \n",
    " * __Day 1:__ Draw a random sample of the ten admitted patients.  \n",
    " * __Day 2:__ Assume that on the second day no patients are admitted.   \n",
    "   Each ebola infected patienteither infects or does not infect another person with probability 0.5.  \n",
    " * __Day 3 and onwards:__ All old and new Ebola patients either infects or does not infect anotherperson with probability 0.5."
   ]
  },
  {
   "cell_type": "markdown",
   "metadata": {},
   "source": [
    "### 1) Show three different realizations of the process for 10 days."
   ]
  },
  {
   "cell_type": "markdown",
   "metadata": {},
   "source": [
    "The probability of any one patient having Ebola in this scenario was calculated in group assignment 2, to 0.21."
   ]
  },
  {
   "cell_type": "code",
   "execution_count": 12,
   "metadata": {},
   "outputs": [
    {
     "data": {
      "image/png": "[encoded data removed]",
      "text/plain": [
       "<Figure size 432x288 with 1 Axes>"
      ]
     },
     "metadata": {
      "needs_background": "light"
     },
     "output_type": "display_data"
    }
   ],
   "source": [
    "X = scipy.stats.binom(10, 0.21)\n",
    "def generate_real_Yn():\n",
    "    days = range(10)\n",
    "    infected = [X.rvs()]\n",
    "    for i in range(len(days)-1):\n",
    "        infected.append(infected[i] + scipy.stats.binom.rvs(infected[i], 0.5))\n",
    "    return days, infected\n",
    "fig, ax = plt.subplots()\n",
    "for i in range(3):\n",
    "    ax.plot(*generate_real_Yn())\n",
    "ax.set_xlabel('day')\n",
    "ax.set_ylabel('number of infected')\n",
    "plt.show()"
   ]
  },
  {
   "cell_type": "markdown",
   "metadata": {},
   "source": [
    "### 2) Is this process Wide Sense Stationary (WSS), and is it ergodic?"
   ]
  },
  {
   "cell_type": "markdown",
   "metadata": {},
   "source": [
    "Since this process keeps growing with time, the ensemble mean is time dependent, and __the process is not WSS.__  \n",
    "Since a process can only be ergotic if it is WSS, __the process is not ergotic.__"
   ]
  }
 ],
 "metadata": {
  "hide_input": false,
  "kernelspec": {
   "display_name": "SageMath 9.2",
   "language": "sage",
   "name": "sagemath"
  },
  "language_info": {
   "codemirror_mode": {
    "name": "ipython",
    "version": 3
   },
   "file_extension": ".py",
   "mimetype": "text/x-python",
   "name": "python",
   "nbconvert_exporter": "python",
   "pygments_lexer": "ipython3",
   "version": "3.8.5"
  }
 },
 "nbformat": 4,
 "nbformat_minor": 4
}
